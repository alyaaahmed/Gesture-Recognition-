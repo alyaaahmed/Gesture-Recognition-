{
  "cells": [
    {
      "cell_type": "markdown",
      "metadata": {
        "id": "FsCWJ6klvu_d",
        "papermill": {
          "duration": 0.030998,
          "end_time": "2020-12-30T11:02:47.928954",
          "exception": false,
          "start_time": "2020-12-30T11:02:47.897956",
          "status": "completed"
        },
        "tags": []
      },
      "source": [
        "# Gesture Recognition\n",
        "\n",
        "\n",
        "**Problem Statement**\n",
        "\n",
        "Imagine you are working as a data scientist at a home electronics company which manufactures state of the art smart televisions. You want to develop a cool feature in the smart-TV that can recognise five different gestures performed by the user which will help users control the TV without using a remote. \n",
        "\n",
        "In this group project, you are going to build a 3D Conv model that will be able to predict the 5 gestures correctly. \n",
        "\n",
        "Each gesture corresponds to a specific command:\n",
        " \n",
        "| Gesture | Corresponding Action |\n",
        "| --- | --- | \n",
        "| Thumbs Up | Increase the volume. |\n",
        "| Thumbs Down | Decrease the volume. |\n",
        "| Left Swipe | 'Jump' backwards 10 seconds. |\n",
        "| Right Swipe | 'Jump' forward 10 seconds. |\n",
        "| Stop | Pause the movie. |\n",
        "\n",
        "\n",
        "\n",
        "### Objectives:\n",
        "1. **Generator**:  The generator should be able to take a batch of videos as input without any error. Steps like cropping, resizing and normalization should be performed successfully.\n",
        "\n",
        "2. **Model**: Develop a model that is able to train without any errors which will be judged on the total number of parameters (as the inference(prediction) time should be less) and the accuracy achieved. As suggested by Snehansu, start training on a small amount of data and then proceed further.\n",
        "\n",
        "3. **Write up**: This should contain the detailed procedure followed in choosing the final model. The write up should start with the reason for choosing the base model, then highlight the reasons and metrics taken into consideration to modify and experiment to arrive at the final model. "
      ]
    },
    {
      "cell_type": "markdown",
      "source": [
        "data set\n",
        "https://www.kaggle.com/code/imsparsh/gesture-recognition-conv3d-conv2d-rnn/notebook\n"
      ],
      "metadata": {
        "id": "vqS5-8xXxu1y"
      }
    },
    {
      "cell_type": "code",
      "execution_count": 36,
      "metadata": {
        "execution": {
          "iopub.execute_input": "2020-12-30T11:02:47.993977Z",
          "iopub.status.busy": "2020-12-30T11:02:47.993352Z",
          "iopub.status.idle": "2020-12-30T11:02:48.869125Z",
          "shell.execute_reply": "2020-12-30T11:02:48.868616Z"
        },
        "papermill": {
          "duration": 0.910687,
          "end_time": "2020-12-30T11:02:48.869231",
          "exception": false,
          "start_time": "2020-12-30T11:02:47.958544",
          "status": "completed"
        },
        "tags": [],
        "id": "V0aSHjzNM6Ja"
      },
      "outputs": [],
      "source": [
        "import numpy as np\n",
        "import os\n",
        "from skimage.transform import resize\n",
        "from imageio import imread\n",
        "import datetime\n",
        "import os\n",
        "import matplotlib.pyplot as plt\n",
        "import warnings\n",
        "warnings.filterwarnings('ignore')"
      ]
    },
    {
      "cell_type": "markdown",
      "metadata": {
        "papermill": {
          "duration": 0.029764,
          "end_time": "2020-12-30T11:02:48.929746",
          "exception": false,
          "start_time": "2020-12-30T11:02:48.899982",
          "status": "completed"
        },
        "tags": [],
        "id": "qQIzg5EgM6Jc"
      },
      "source": [
        "We set the random seed so that the results don't vary drastically."
      ]
    },
    {
      "cell_type": "code",
      "execution_count": 2,
      "metadata": {
        "execution": {
          "iopub.execute_input": "2020-12-30T11:02:49.026357Z",
          "iopub.status.busy": "2020-12-30T11:02:49.025776Z",
          "iopub.status.idle": "2020-12-30T11:02:53.185849Z",
          "shell.execute_reply": "2020-12-30T11:02:53.184790Z"
        },
        "papermill": {
          "duration": 4.225466,
          "end_time": "2020-12-30T11:02:53.185961",
          "exception": false,
          "start_time": "2020-12-30T11:02:48.960495",
          "status": "completed"
        },
        "tags": [],
        "id": "xjih2zq3M6Jd"
      },
      "outputs": [],
      "source": [
        "np.random.seed(30)\n",
        "import random as rn\n",
        "rn.seed(30)\n",
        "from keras import backend as K\n",
        "import tensorflow as tf\n",
        "tf.random.set_seed(30)"
      ]
    },
    {
      "cell_type": "code",
      "execution_count": 4,
      "metadata": {
        "execution": {
          "iopub.execute_input": "2020-12-30T11:02:55.608379Z",
          "iopub.status.busy": "2020-12-30T11:02:55.607720Z",
          "iopub.status.idle": "2020-12-30T11:02:55.613900Z",
          "shell.execute_reply": "2020-12-30T11:02:55.613432Z"
        },
        "papermill": {
          "duration": 2.397957,
          "end_time": "2020-12-30T11:02:55.613996",
          "exception": false,
          "start_time": "2020-12-30T11:02:53.216039",
          "status": "completed"
        },
        "tags": [],
        "colab": {
          "base_uri": "https://localhost:8080/"
        },
        "id": "PgxsnlRaM6Je",
        "outputId": "450fef5a-f700-4900-e915-80223e232ee6"
      },
      "outputs": [
        {
          "output_type": "stream",
          "name": "stdout",
          "text": [
            "Looking in indexes: https://pypi.org/simple, https://us-python.pkg.dev/colab-wheels/public/simple/\n",
            "Collecting opendatasets\n",
            "  Downloading opendatasets-0.1.22-py3-none-any.whl (15 kB)\n",
            "Requirement already satisfied: tqdm in /usr/local/lib/python3.7/dist-packages (from opendatasets) (4.64.1)\n",
            "Requirement already satisfied: kaggle in /usr/local/lib/python3.7/dist-packages (from opendatasets) (1.5.12)\n",
            "Requirement already satisfied: click in /usr/local/lib/python3.7/dist-packages (from opendatasets) (7.1.2)\n",
            "Requirement already satisfied: requests in /usr/local/lib/python3.7/dist-packages (from kaggle->opendatasets) (2.23.0)\n",
            "Requirement already satisfied: python-slugify in /usr/local/lib/python3.7/dist-packages (from kaggle->opendatasets) (6.1.2)\n",
            "Requirement already satisfied: six>=1.10 in /usr/local/lib/python3.7/dist-packages (from kaggle->opendatasets) (1.15.0)\n",
            "Requirement already satisfied: certifi in /usr/local/lib/python3.7/dist-packages (from kaggle->opendatasets) (2022.6.15)\n",
            "Requirement already satisfied: python-dateutil in /usr/local/lib/python3.7/dist-packages (from kaggle->opendatasets) (2.8.2)\n",
            "Requirement already satisfied: urllib3 in /usr/local/lib/python3.7/dist-packages (from kaggle->opendatasets) (1.24.3)\n",
            "Requirement already satisfied: text-unidecode>=1.3 in /usr/local/lib/python3.7/dist-packages (from python-slugify->kaggle->opendatasets) (1.3)\n",
            "Requirement already satisfied: chardet<4,>=3.0.2 in /usr/local/lib/python3.7/dist-packages (from requests->kaggle->opendatasets) (3.0.4)\n",
            "Requirement already satisfied: idna<3,>=2.5 in /usr/local/lib/python3.7/dist-packages (from requests->kaggle->opendatasets) (2.10)\n",
            "Installing collected packages: opendatasets\n",
            "Successfully installed opendatasets-0.1.22\n"
          ]
        }
      ],
      "source": [
        "! pip install opendatasets"
      ]
    },
    {
      "cell_type": "code",
      "source": [
        "!pip install --upgrade kaggle\n"
      ],
      "metadata": {
        "colab": {
          "base_uri": "https://localhost:8080/"
        },
        "id": "D_oR8pzSNMXJ",
        "outputId": "f0b6a512-a658-4307-c1e9-2309919fb141"
      },
      "execution_count": 5,
      "outputs": [
        {
          "output_type": "stream",
          "name": "stdout",
          "text": [
            "Looking in indexes: https://pypi.org/simple, https://us-python.pkg.dev/colab-wheels/public/simple/\n",
            "Requirement already satisfied: kaggle in /usr/local/lib/python3.7/dist-packages (1.5.12)\n",
            "Requirement already satisfied: requests in /usr/local/lib/python3.7/dist-packages (from kaggle) (2.23.0)\n",
            "Requirement already satisfied: tqdm in /usr/local/lib/python3.7/dist-packages (from kaggle) (4.64.1)\n",
            "Requirement already satisfied: urllib3 in /usr/local/lib/python3.7/dist-packages (from kaggle) (1.24.3)\n",
            "Requirement already satisfied: certifi in /usr/local/lib/python3.7/dist-packages (from kaggle) (2022.6.15)\n",
            "Requirement already satisfied: python-dateutil in /usr/local/lib/python3.7/dist-packages (from kaggle) (2.8.2)\n",
            "Requirement already satisfied: six>=1.10 in /usr/local/lib/python3.7/dist-packages (from kaggle) (1.15.0)\n",
            "Requirement already satisfied: python-slugify in /usr/local/lib/python3.7/dist-packages (from kaggle) (6.1.2)\n",
            "Requirement already satisfied: text-unidecode>=1.3 in /usr/local/lib/python3.7/dist-packages (from python-slugify->kaggle) (1.3)\n",
            "Requirement already satisfied: chardet<4,>=3.0.2 in /usr/local/lib/python3.7/dist-packages (from requests->kaggle) (3.0.4)\n",
            "Requirement already satisfied: idna<3,>=2.5 in /usr/local/lib/python3.7/dist-packages (from requests->kaggle) (2.10)\n"
          ]
        }
      ]
    },
    {
      "cell_type": "code",
      "source": [
        "import opendatasets as od\n",
        "od.download(\"https://www.kaggle.com/datasets/imsparsh/gesture-recognition\")"
      ],
      "metadata": {
        "colab": {
          "base_uri": "https://localhost:8080/"
        },
        "id": "NZWMvm9YNMZO",
        "outputId": "3e313652-ea69-4226-a485-58aedf0ebbfb"
      },
      "execution_count": 6,
      "outputs": [
        {
          "output_type": "stream",
          "name": "stdout",
          "text": [
            "Please provide your Kaggle credentials to download this dataset. Learn more: http://bit.ly/kaggle-creds\n",
            "Your Kaggle username: alyaaselim\n",
            "Your Kaggle Key: ··········\n",
            "Downloading gesture-recognition.zip to ./gesture-recognition\n"
          ]
        },
        {
          "output_type": "stream",
          "name": "stderr",
          "text": [
            "100%|██████████| 1.60G/1.60G [00:18<00:00, 93.9MB/s]\n"
          ]
        },
        {
          "output_type": "stream",
          "name": "stdout",
          "text": [
            "\n"
          ]
        }
      ]
    },
    {
      "cell_type": "code",
      "source": [],
      "metadata": {
        "id": "Czqc4vdPNMck"
      },
      "execution_count": null,
      "outputs": []
    },
    {
      "cell_type": "code",
      "source": [],
      "metadata": {
        "id": "hQaDQSUrNMeQ"
      },
      "execution_count": null,
      "outputs": []
    },
    {
      "cell_type": "code",
      "source": [],
      "metadata": {
        "id": "8z6-IUmWNMiU"
      },
      "execution_count": null,
      "outputs": []
    },
    {
      "cell_type": "code",
      "source": [],
      "metadata": {
        "id": "rzbCn78QNMkx"
      },
      "execution_count": null,
      "outputs": []
    },
    {
      "cell_type": "markdown",
      "metadata": {
        "papermill": {
          "duration": 0.029947,
          "end_time": "2020-12-30T11:02:55.675119",
          "exception": false,
          "start_time": "2020-12-30T11:02:55.645172",
          "status": "completed"
        },
        "tags": [],
        "id": "D1cOtgEXM6Jf"
      },
      "source": [
        "In this block, you read the folder names for training and validation. You also set the `batch_size` here. Note that you set the batch size in such a way that you are able to use the GPU in full capacity. You keep increasing the batch size until the machine throws an error."
      ]
    },
    {
      "cell_type": "code",
      "execution_count": 8,
      "metadata": {
        "execution": {
          "iopub.execute_input": "2020-12-30T11:02:55.740036Z",
          "iopub.status.busy": "2020-12-30T11:02:55.739516Z",
          "iopub.status.idle": "2020-12-30T11:02:55.787830Z",
          "shell.execute_reply": "2020-12-30T11:02:55.787354Z"
        },
        "papermill": {
          "duration": 0.082331,
          "end_time": "2020-12-30T11:02:55.787924",
          "exception": false,
          "start_time": "2020-12-30T11:02:55.705593",
          "status": "completed"
        },
        "tags": [],
        "id": "Og41mwHVM6Jg"
      },
      "outputs": [],
      "source": [
        "train_doc = np.random.permutation(open('gesture-recognition/train.csv').readlines())\n",
        "val_doc = np.random.permutation(open('gesture-recognition/val.csv').readlines())\n",
        "batch_size = 64"
      ]
    },
    {
      "cell_type": "code",
      "execution_count": 8,
      "metadata": {
        "execution": {
          "iopub.execute_input": "2020-12-30T11:02:55.853547Z",
          "iopub.status.busy": "2020-12-30T11:02:55.852824Z",
          "iopub.status.idle": "2020-12-30T11:02:56.537894Z",
          "shell.execute_reply": "2020-12-30T11:02:56.537344Z"
        },
        "papermill": {
          "duration": 0.719285,
          "end_time": "2020-12-30T11:02:56.538002",
          "exception": false,
          "start_time": "2020-12-30T11:02:55.818717",
          "status": "completed"
        },
        "tags": [],
        "id": "a2QXkRnAM6Jh"
      },
      "outputs": [],
      "source": []
    },
    {
      "cell_type": "markdown",
      "metadata": {
        "id": "DGY4lrhhvu_w",
        "papermill": {
          "duration": 0.030965,
          "end_time": "2020-12-30T11:02:56.600557",
          "exception": false,
          "start_time": "2020-12-30T11:02:56.569592",
          "status": "completed"
        },
        "tags": []
      },
      "source": [
        "## Generator\n",
        "This is one of the most important part of the code. The overall structure of the generator has been given. In the generator, you are going to preprocess the images as you have images of 2 different dimensions as well as create a batch of video frames. You have to experiment with `img_idx`, `y`,`z` and normalization such that you get high accuracy."
      ]
    },
    {
      "cell_type": "code",
      "execution_count": 37,
      "metadata": {
        "execution": {
          "iopub.execute_input": "2020-12-30T11:02:56.670547Z",
          "iopub.status.busy": "2020-12-30T11:02:56.668775Z",
          "iopub.status.idle": "2020-12-30T11:02:56.671184Z",
          "shell.execute_reply": "2020-12-30T11:02:56.671615Z"
        },
        "id": "1xrANziuvu_x",
        "papermill": {
          "duration": 0.040091,
          "end_time": "2020-12-30T11:02:56.671717",
          "exception": false,
          "start_time": "2020-12-30T11:02:56.631626",
          "status": "completed"
        },
        "tags": []
      },
      "outputs": [],
      "source": [
        "def cropResize(image, y, z):\n",
        "    h, w = image.shape\n",
        "    \n",
        "    # if smaller image crop at center for 120x120\n",
        "    if w == 160:\n",
        "        image = image[:120, 20:140]\n",
        "\n",
        "    # resize every image\n",
        "    return resize(image, (y,z))"
      ]
    },
    {
      "cell_type": "code",
      "execution_count": 10,
      "metadata": {
        "execution": {
          "iopub.execute_input": "2020-12-30T11:02:56.739235Z",
          "iopub.status.busy": "2020-12-30T11:02:56.737914Z",
          "iopub.status.idle": "2020-12-30T11:02:56.740440Z",
          "shell.execute_reply": "2020-12-30T11:02:56.740817Z"
        },
        "id": "KhGrETufvu_y",
        "papermill": {
          "duration": 0.037747,
          "end_time": "2020-12-30T11:02:56.740923",
          "exception": false,
          "start_time": "2020-12-30T11:02:56.703176",
          "status": "completed"
        },
        "tags": []
      },
      "outputs": [],
      "source": [
        "def normalizeImage(image):\n",
        "    # applying normalization\n",
        "    return image/255.0"
      ]
    },
    {
      "cell_type": "code",
      "execution_count": 11,
      "metadata": {
        "execution": {
          "iopub.execute_input": "2020-12-30T11:02:56.806638Z",
          "iopub.status.busy": "2020-12-30T11:02:56.806102Z",
          "iopub.status.idle": "2020-12-30T11:02:56.809471Z",
          "shell.execute_reply": "2020-12-30T11:02:56.810061Z"
        },
        "id": "-qd1bxIZvu_y",
        "papermill": {
          "duration": 0.038431,
          "end_time": "2020-12-30T11:02:56.810160",
          "exception": false,
          "start_time": "2020-12-30T11:02:56.771729",
          "status": "completed"
        },
        "tags": []
      },
      "outputs": [],
      "source": [
        "def preprocessImage(image, y, z):\n",
        "    return normalizeImage(cropResize(image, y, z))"
      ]
    },
    {
      "cell_type": "code",
      "execution_count": 12,
      "metadata": {
        "execution": {
          "iopub.execute_input": "2020-12-30T11:02:56.876842Z",
          "iopub.status.busy": "2020-12-30T11:02:56.876269Z",
          "iopub.status.idle": "2020-12-30T11:02:56.879810Z",
          "shell.execute_reply": "2020-12-30T11:02:56.880186Z"
        },
        "id": "LNgZq2e-vu_z",
        "papermill": {
          "duration": 0.038917,
          "end_time": "2020-12-30T11:02:56.880323",
          "exception": false,
          "start_time": "2020-12-30T11:02:56.841406",
          "status": "completed"
        },
        "tags": []
      },
      "outputs": [],
      "source": [
        "def make3dFilter(x):\n",
        "    return tuple([x]*3)\n",
        "\n",
        "def make2dFilter(x):\n",
        "    return tuple([x]*2)"
      ]
    },
    {
      "cell_type": "code",
      "execution_count": 38,
      "metadata": {
        "execution": {
          "iopub.execute_input": "2020-12-30T11:02:56.956477Z",
          "iopub.status.busy": "2020-12-30T11:02:56.955306Z",
          "iopub.status.idle": "2020-12-30T11:02:56.957865Z",
          "shell.execute_reply": "2020-12-30T11:02:56.958237Z"
        },
        "id": "-yPBgXECvu_z",
        "papermill": {
          "duration": 0.046129,
          "end_time": "2020-12-30T11:02:56.958354",
          "exception": false,
          "start_time": "2020-12-30T11:02:56.912225",
          "status": "completed"
        },
        "tags": []
      },
      "outputs": [],
      "source": [
        "def getBatchData(source_path, t, batch, batch_size, img_tensor):\n",
        "    [x,y,z] = [len(img_tensor[0]),img_tensor[1], img_tensor[2]]\n",
        "    img_idx = img_tensor[0]\n",
        "    batch_data = np.zeros((batch_size,x,y,z,3)) # x is the number of images you use for each video, (y,z) is the final size of the input images and 3 is the number of channels RGB\n",
        "    batch_labels = np.zeros((batch_size,5)) # batch_labels is the one hot representation of the output\n",
        "    for folder in range(batch_size): # iterate over the batch_size\n",
        "        imgs = os.listdir(source_path+'/'+ t[folder + (batch*batch_size)].split(';')[0]) # read all the images in the folder\n",
        "        for idx,item in enumerate(img_idx): #  Iterate iver the frames/images of a folder to read them in\n",
        "            image = imread(source_path+'/'+ t[folder + (batch*batch_size)].strip().split(';')[0]+'/'+imgs[item]).astype(np.float32)\n",
        "\n",
        "            #crop the images and resize them. Note that the images are of 2 different shape \n",
        "            #and the conv3D will throw error if the inputs in a batch have different shapes\n",
        "\n",
        "            # separate preprocessImage function is defined for cropping, resizing and normalizing images\n",
        "            batch_data[folder,idx,:,:,0] = preprocessImage(image[:, :, 0], y, z)\n",
        "            batch_data[folder,idx,:,:,1] = preprocessImage(image[:, :, 1], y, z)\n",
        "            batch_data[folder,idx,:,:,2] = preprocessImage(image[:, :, 2], y, z)\n",
        "\n",
        "        batch_labels[folder, int(t[folder + (batch*batch_size)].strip().split(';')[2])] = 1\n",
        "    return batch_data, batch_labels"
      ]
    },
    {
      "cell_type": "code",
      "execution_count": 21,
      "metadata": {
        "execution": {
          "iopub.execute_input": "2020-12-30T11:02:57.027608Z",
          "iopub.status.busy": "2020-12-30T11:02:57.026954Z",
          "iopub.status.idle": "2020-12-30T11:02:57.030303Z",
          "shell.execute_reply": "2020-12-30T11:02:57.030681Z"
        },
        "id": "eA6r1IMmvu_0",
        "papermill": {
          "duration": 0.041295,
          "end_time": "2020-12-30T11:02:57.030781",
          "exception": false,
          "start_time": "2020-12-30T11:02:56.989486",
          "status": "completed"
        },
        "tags": []
      },
      "outputs": [],
      "source": [
        "def generator(source_path, folder_list, batch_size, img_tensor):\n",
        "    print( 'Source path = ', source_path, '; batch size =', batch_size)\n",
        "    while True:\n",
        "        t = np.random.permutation(folder_list)\n",
        "        num_batches = int(len(folder_list)/batch_size)\n",
        "        for batch in range(num_batches): # we iterate over the number of batches\n",
        "            yield getBatchData(source_path, t, batch, batch_size, img_tensor)\n",
        "        \n",
        "        # write the code for the remaining data points which are left after full batches\n",
        "        # checking if any remaining batches are there or not\n",
        "        if len(folder_list)%batch_size != 0:\n",
        "            # updated the batch size and yield\n",
        "            batch_size = len(folder_list)%batch_size\n",
        "            yield getBatchData(source_path, t, batch, batch_size, img_tensor)"
      ]
    },
    {
      "cell_type": "markdown",
      "metadata": {
        "id": "tzNpErbFvu_1",
        "papermill": {
          "duration": 0.031438,
          "end_time": "2020-12-30T11:02:57.093854",
          "exception": false,
          "start_time": "2020-12-30T11:02:57.062416",
          "status": "completed"
        },
        "tags": []
      },
      "source": [
        "Note here that a video is represented above in the generator as (number of images, height, width, number of channels). Take this into consideration while creating the model architecture."
      ]
    },
    {
      "cell_type": "code",
      "execution_count": 39,
      "metadata": {
        "execution": {
          "iopub.execute_input": "2020-12-30T11:02:57.165799Z",
          "iopub.status.busy": "2020-12-30T11:02:57.164733Z",
          "iopub.status.idle": "2020-12-30T11:02:57.167969Z",
          "shell.execute_reply": "2020-12-30T11:02:57.167529Z"
        },
        "id": "CiGThqNVvu_2",
        "outputId": "87d6e29f-eb83-4ea7-e9d3-609bccc41fa9",
        "papermill": {
          "duration": 0.042645,
          "end_time": "2020-12-30T11:02:57.168049",
          "exception": false,
          "start_time": "2020-12-30T11:02:57.125404",
          "status": "completed"
        },
        "tags": [],
        "colab": {
          "base_uri": "https://localhost:8080/"
        }
      },
      "outputs": [
        {
          "output_type": "stream",
          "name": "stdout",
          "text": [
            "# training sequences = 663\n",
            "# validation sequences = 100\n",
            "# epochs = 10\n"
          ]
        }
      ],
      "source": [
        "curr_dt_time = datetime.datetime.now()\n",
        "train_path = 'gesture-recognition/train'\n",
        "val_path = 'gesture-recognition/val'\n",
        "num_train_sequences = len(train_doc)\n",
        "print('# training sequences =', num_train_sequences)\n",
        "num_val_sequences = len(val_doc)\n",
        "print('# validation sequences =', num_val_sequences)\n",
        "num_epochs = 10\n",
        "print ('# epochs =', num_epochs)"
      ]
    },
    {
      "cell_type": "code",
      "execution_count": 19,
      "metadata": {
        "execution": {
          "iopub.execute_input": "2020-12-30T11:02:57.240302Z",
          "iopub.status.busy": "2020-12-30T11:02:57.239659Z",
          "iopub.status.idle": "2020-12-30T11:02:57.245542Z",
          "shell.execute_reply": "2020-12-30T11:02:57.244901Z"
        },
        "id": "w2bDaqWXvu_4",
        "outputId": "fd90c24a-3528-4512-a2f3-2ecfa008f044",
        "papermill": {
          "duration": 0.045644,
          "end_time": "2020-12-30T11:02:57.245648",
          "exception": false,
          "start_time": "2020-12-30T11:02:57.200004",
          "status": "completed"
        },
        "tags": [],
        "colab": {
          "base_uri": "https://localhost:8080/"
        }
      },
      "outputs": [
        {
          "output_type": "stream",
          "name": "stdout",
          "text": [
            "# img_tensor = [array([ 0,  2,  3,  5,  6,  8,  9, 11, 12, 14, 15, 17, 18, 20, 21, 23, 24,\n",
            "       26, 27, 29]), 100, 100, 3]\n",
            "100\n"
          ]
        }
      ],
      "source": [
        "def getImgTensor(n_frames):\n",
        "    img_idx = np.round(np.linspace(0, 29, n_frames)).astype(int)\n",
        "    return [img_idx, 100, 100, 3]\n",
        "\n",
        "# define image tensor size\n",
        "img_tensor = getImgTensor(20)\n",
        "print ('# img_tensor =', img_tensor)\n",
        "print(img_tensor[1])"
      ]
    },
    {
      "cell_type": "code",
      "source": [],
      "metadata": {
        "id": "EAo6wr2bQKoP"
      },
      "execution_count": 16,
      "outputs": []
    },
    {
      "cell_type": "markdown",
      "metadata": {
        "id": "TEzkB8pzvu_5",
        "papermill": {
          "duration": 0.032074,
          "end_time": "2020-12-30T11:02:57.310202",
          "exception": false,
          "start_time": "2020-12-30T11:02:57.278128",
          "status": "completed"
        },
        "tags": []
      },
      "source": [
        "### Generator Validation"
      ]
    },
    {
      "cell_type": "code",
      "execution_count": 24,
      "metadata": {
        "execution": {
          "iopub.execute_input": "2020-12-30T11:02:57.379837Z",
          "iopub.status.busy": "2020-12-30T11:02:57.379131Z",
          "iopub.status.idle": "2020-12-30T11:03:37.977487Z",
          "shell.execute_reply": "2020-12-30T11:03:37.978111Z"
        },
        "id": "PKXoahGbvu_7",
        "outputId": "6b3c51a5-51c8-41f2-d721-44a5907838aa",
        "papermill": {
          "duration": 40.636083,
          "end_time": "2020-12-30T11:03:37.978298",
          "exception": false,
          "start_time": "2020-12-30T11:02:57.342215",
          "status": "completed"
        },
        "tags": [],
        "colab": {
          "base_uri": "https://localhost:8080/"
        }
      },
      "outputs": [
        {
          "output_type": "stream",
          "name": "stdout",
          "text": [
            "Source path =  gesture-recognition/train ; batch size = 64\n",
            "(64, 20, 100, 100, 3)\n",
            "[1. 0. 0. 0. 0.]\n",
            "Source path =  gesture-recognition/val ; batch size = 64\n",
            "(64, 20, 100, 100, 3)\n"
          ]
        }
      ],
      "source": [
        "# check complete batch shape\n",
        "sample_generator = generator(train_path, train_doc, batch_size, img_tensor)\n",
        "sample_batch_data, sample_batch_labels = next(sample_generator)\n",
        "print(sample_batch_data.shape) #20 frame in one sample /vedio ,64 sample \n",
        "print(sample_batch_labels[1])\n",
        "# validation batch sample\n",
        "sample_val_generator = generator(val_path, val_doc, batch_size, img_tensor)\n",
        "sample_val_batch_data, sample_val_batch_labels = next(sample_val_generator)\n",
        "print(sample_val_batch_data.shape)"
      ]
    },
    {
      "cell_type": "code",
      "execution_count": 31,
      "metadata": {
        "execution": {
          "iopub.execute_input": "2020-12-30T11:03:38.062371Z",
          "iopub.status.busy": "2020-12-30T11:03:38.060997Z",
          "iopub.status.idle": "2020-12-30T11:03:38.321730Z",
          "shell.execute_reply": "2020-12-30T11:03:38.322143Z"
        },
        "id": "Xl6e7d0Ovu_8",
        "outputId": "52910365-e035-486b-f5d6-8d1d5ff8e592",
        "papermill": {
          "duration": 0.308784,
          "end_time": "2020-12-30T11:03:38.322256",
          "exception": false,
          "start_time": "2020-12-30T11:03:38.013472",
          "status": "completed"
        },
        "tags": [],
        "colab": {
          "base_uri": "https://localhost:8080/",
          "height": 203
        }
      },
      "outputs": [
        {
          "output_type": "display_data",
          "data": {
            "text/plain": [
              "<Figure size 432x288 with 2 Axes>"
            ],
            "image/png": "[encoded data removed]"
          },
          "metadata": {
            "needs_background": "light"
          }
        }
      ],
      "source": [
        "# visulaize  sample images\n",
        "fig, ax = plt.subplots(1,2)\n",
        "ax[0].imshow(sample_val_batch_data[24,19,:,:,:])   \n",
        "ax[1].imshow(sample_val_batch_data[42,10,:,:,:])\n",
        "plt.show()"
      ]
    },
    {
      "cell_type": "code",
      "execution_count": 32,
      "metadata": {
        "execution": {
          "iopub.execute_input": "2020-12-30T11:03:38.410968Z",
          "iopub.status.busy": "2020-12-30T11:03:38.410136Z",
          "iopub.status.idle": "2020-12-30T11:03:38.422572Z",
          "shell.execute_reply": "2020-12-30T11:03:38.423076Z"
        },
        "id": "k3HvPgOPvu_-",
        "papermill": {
          "duration": 0.064517,
          "end_time": "2020-12-30T11:03:38.423183",
          "exception": false,
          "start_time": "2020-12-30T11:03:38.358666",
          "status": "completed"
        },
        "tags": []
      },
      "outputs": [],
      "source": [
        "def plotModelHistory(h):\n",
        "    fig, ax = plt.subplots(1, 2, figsize=(15,4))\n",
        "    ax[0].plot(h.history['loss'])   \n",
        "    ax[0].plot(h.history['val_loss'])\n",
        "    ax[0].legend(['loss','val_loss'])\n",
        "    ax[0].title.set_text(\"Train loss vs Validation loss\")\n",
        "\n",
        "    ax[1].plot(h.history['categorical_accuracy'])   \n",
        "    ax[1].plot(h.history['val_categorical_accuracy'])\n",
        "    ax[1].legend(['categorical_accuracy','val_categorical_accuracy'])\n",
        "    ax[1].title.set_text(\"Train accuracy vs Validation accuracy\")\n",
        "    plt.show()\n",
        "\n",
        "    print(\"Max. Training Accuracy\", max(h.history['categorical_accuracy']))\n",
        "    print(\"Max. Validaiton Accuracy\", max(h.history['val_categorical_accuracy']))"
      ]
    },
    {
      "cell_type": "markdown",
      "metadata": {
        "id": "dcGAuU41vu__",
        "papermill": {
          "duration": 0.061965,
          "end_time": "2020-12-30T11:03:38.551365",
          "exception": false,
          "start_time": "2020-12-30T11:03:38.489400",
          "status": "completed"
        },
        "tags": []
      },
      "source": [
        "## Model Building\n",
        "Here you make the model using different functionalities that Keras provides. Remember to use `Conv3D` and `MaxPooling3D` and not `Conv2D` and `Maxpooling2D` for a 3D convolution model. You would want to use `TimeDistributed` while building a Conv2D + RNN model. Also remember that the last layer is the softmax. Design the network in such a way that the model is able to give good accuracy on the least number of parameters so that it can fit in the memory of the webcam."
      ]
    },
    {
      "cell_type": "code",
      "execution_count": 34,
      "metadata": {
        "execution": {
          "iopub.execute_input": "2020-12-30T11:03:38.684466Z",
          "iopub.status.busy": "2020-12-30T11:03:38.683641Z",
          "iopub.status.idle": "2020-12-30T11:03:38.687126Z",
          "shell.execute_reply": "2020-12-30T11:03:38.687738Z"
        },
        "id": "BlVvi0S9vvAA",
        "papermill": {
          "duration": 0.073376,
          "end_time": "2020-12-30T11:03:38.687892",
          "exception": false,
          "start_time": "2020-12-30T11:03:38.614516",
          "status": "completed"
        },
        "tags": []
      },
      "outputs": [],
      "source": [
        "from keras.models import Sequential, Model\n",
        "from keras.layers import Dense, GRU, Flatten, TimeDistributed, Flatten, BatchNormalization, Activation, Dropout, LSTM\n",
        "from keras.layers.convolutional import Conv3D, MaxPooling3D, Conv2D, MaxPooling2D\n",
        "from keras.callbacks import ModelCheckpoint, ReduceLROnPlateau\n",
        "from keras import optimizers\n"
      ]
    },
    {
      "cell_type": "markdown",
      "metadata": {
        "id": "9A0Y13yhvvAA",
        "papermill": {
          "duration": 0.058747,
          "end_time": "2020-12-30T11:03:38.805775",
          "exception": false,
          "start_time": "2020-12-30T11:03:38.747028",
          "status": "completed"
        },
        "tags": []
      },
      "source": [
        "### Base Model"
      ]
    },
    {
      "cell_type": "code",
      "execution_count": 40,
      "metadata": {
        "execution": {
          "iopub.execute_input": "2020-12-30T11:03:38.999365Z",
          "iopub.status.busy": "2020-12-30T11:03:38.998362Z",
          "iopub.status.idle": "2020-12-30T11:03:39.866965Z",
          "shell.execute_reply": "2020-12-30T11:03:39.863138Z"
        },
        "id": "jD0uh84WvvAB",
        "outputId": "cba8d35f-bf27-4ae0-9427-c5b9449e46be",
        "papermill": {
          "duration": 0.987539,
          "end_time": "2020-12-30T11:03:39.867110",
          "exception": false,
          "start_time": "2020-12-30T11:03:38.879571",
          "status": "completed"
        },
        "tags": [],
        "colab": {
          "base_uri": "https://localhost:8080/"
        }
      },
      "outputs": [
        {
          "output_type": "stream",
          "name": "stdout",
          "text": [
            "Model: \"sequential_2\"\n",
            "_________________________________________________________________\n",
            " Layer (type)                Output Shape              Param #   \n",
            "=================================================================\n",
            " conv3d_6 (Conv3D)           (None, 16, 96, 96, 16)    6016      \n",
            "                                                                 \n",
            " max_pooling3d_6 (MaxPooling  (None, 8, 48, 48, 16)    0         \n",
            " 3D)                                                             \n",
            "                                                                 \n",
            " batch_normalization_10 (Bat  (None, 8, 48, 48, 16)    64        \n",
            " chNormalization)                                                \n",
            "                                                                 \n",
            " conv3d_7 (Conv3D)           (None, 6, 46, 46, 32)     13856     \n",
            "                                                                 \n",
            " max_pooling3d_7 (MaxPooling  (None, 6, 23, 23, 32)    0         \n",
            " 3D)                                                             \n",
            "                                                                 \n",
            " batch_normalization_11 (Bat  (None, 6, 23, 23, 32)    128       \n",
            " chNormalization)                                                \n",
            "                                                                 \n",
            " conv3d_8 (Conv3D)           (None, 4, 21, 21, 64)     55360     \n",
            "                                                                 \n",
            " max_pooling3d_8 (MaxPooling  (None, 4, 11, 11, 64)    0         \n",
            " 3D)                                                             \n",
            "                                                                 \n",
            " batch_normalization_12 (Bat  (None, 4, 11, 11, 64)    256       \n",
            " chNormalization)                                                \n",
            "                                                                 \n",
            " flatten_2 (Flatten)         (None, 30976)             0         \n",
            "                                                                 \n",
            " dense_6 (Dense)             (None, 128)               3965056   \n",
            "                                                                 \n",
            " batch_normalization_13 (Bat  (None, 128)              512       \n",
            " chNormalization)                                                \n",
            "                                                                 \n",
            " dropout_4 (Dropout)         (None, 128)               0         \n",
            "                                                                 \n",
            " dense_7 (Dense)             (None, 64)                8256      \n",
            "                                                                 \n",
            " batch_normalization_14 (Bat  (None, 64)               256       \n",
            " chNormalization)                                                \n",
            "                                                                 \n",
            " dropout_5 (Dropout)         (None, 64)                0         \n",
            "                                                                 \n",
            " dense_8 (Dense)             (None, 5)                 325       \n",
            "                                                                 \n",
            "=================================================================\n",
            "Total params: 4,050,085\n",
            "Trainable params: 4,049,477\n",
            "Non-trainable params: 608\n",
            "_________________________________________________________________\n"
          ]
        }
      ],
      "source": [
        "#write your model here\n",
        "def defineModel(img_tensor):\n",
        "    inputShape = (len(img_tensor[0]), img_tensor[1], img_tensor[2], img_tensor[3]) #(20,100,100,3)\n",
        "\n",
        "    model = Sequential([\n",
        "        Conv3D(16, make3dFilter(5), activation='relu', input_shape=inputShape),\n",
        "        MaxPooling3D(make3dFilter(2), padding='same'),\n",
        "        BatchNormalization(),\n",
        "\n",
        "\n",
        "        Conv3D(32, make3dFilter(3), activation='relu'),\n",
        "        MaxPooling3D(pool_size=(1,2,2), padding='same'),\n",
        "        BatchNormalization(),\n",
        "\n",
        "        Conv3D(64, make3dFilter(3), activation='relu'),\n",
        "        MaxPooling3D(pool_size=(1,2,2), padding='same'),\n",
        "        BatchNormalization(),\n",
        "\n",
        "        Flatten(),\n",
        "        Dense(128, activation='relu'),\n",
        "        BatchNormalization(),\n",
        "        Dropout(0.25),\n",
        "\n",
        "        Dense(64, activation='relu'),\n",
        "        BatchNormalization(),\n",
        "        Dropout(0.25),\n",
        "\n",
        "        Dense(5, activation='softmax')\n",
        "    ])\n",
        "    model.compile(optimizer=tf.keras.optimizers.Adam(), loss='categorical_crossentropy', metrics=['categorical_accuracy'])\n",
        "    return model\n",
        "\n",
        "model = defineModel(img_tensor)\n",
        "model.summary()"
      ]
    },
    {
      "cell_type": "code",
      "execution_count": 41,
      "metadata": {
        "execution": {
          "iopub.execute_input": "2020-12-30T11:03:40.016547Z",
          "iopub.status.busy": "2020-12-30T11:03:40.014460Z",
          "iopub.status.idle": "2020-12-30T11:03:40.017202Z",
          "shell.execute_reply": "2020-12-30T11:03:40.017680Z"
        },
        "id": "1SFrztx4vvAE",
        "papermill": {
          "duration": 0.081805,
          "end_time": "2020-12-30T11:03:40.017795",
          "exception": false,
          "start_time": "2020-12-30T11:03:39.935990",
          "status": "completed"
        },
        "tags": []
      },
      "outputs": [],
      "source": [
        "train_generator = generator(train_path, train_doc, batch_size, img_tensor)\n",
        "val_generator = generator(val_path, val_doc, batch_size, img_tensor)"
      ]
    },
    {
      "cell_type": "markdown",
      "metadata": {
        "id": "TshGKBpyvvAF",
        "papermill": {
          "duration": 0.037982,
          "end_time": "2020-12-30T11:03:40.093995",
          "exception": false,
          "start_time": "2020-12-30T11:03:40.056013",
          "status": "completed"
        },
        "tags": []
      },
      "source": [
        "The `steps_per_epoch` and `validation_steps` are used by `fit_generator` to decide the number of next() calls it need to make."
      ]
    },
    {
      "cell_type": "code",
      "execution_count": 42,
      "metadata": {
        "execution": {
          "iopub.execute_input": "2020-12-30T11:03:40.177731Z",
          "iopub.status.busy": "2020-12-30T11:03:40.176991Z",
          "iopub.status.idle": "2020-12-30T11:03:40.179881Z",
          "shell.execute_reply": "2020-12-30T11:03:40.179481Z"
        },
        "id": "hNW5OuAsvvAF",
        "papermill": {
          "duration": 0.047948,
          "end_time": "2020-12-30T11:03:40.179966",
          "exception": false,
          "start_time": "2020-12-30T11:03:40.132018",
          "status": "completed"
        },
        "tags": [],
        "colab": {
          "base_uri": "https://localhost:8080/"
        },
        "outputId": "de4fdf64-afdf-4b4e-c31e-6113bf7a74ac"
      },
      "outputs": [
        {
          "output_type": "stream",
          "name": "stdout",
          "text": [
            "from else 11\n"
          ]
        }
      ],
      "source": [
        "if (num_train_sequences%batch_size) == 0: # training sequences = 663/ batch_size = 64 ==>23 \n",
        "    steps_per_epoch = int(num_train_sequences/batch_size) \n",
        "    print(\"from if\" ,steps_per_epoch)\n",
        "else:\n",
        "    steps_per_epoch = (num_train_sequences//batch_size) + 1\n",
        "    print(\"from else\" ,steps_per_epoch)\n",
        "\n",
        "if (num_val_sequences%batch_size) == 0:\n",
        "    validation_steps = int(num_val_sequences/batch_size)\n",
        "else:\n",
        "    validation_steps = (num_val_sequences//batch_size) + 1"
      ]
    },
    {
      "cell_type": "markdown",
      "metadata": {
        "id": "YnIglXSuRxNs",
        "papermill": {
          "duration": 0.037752,
          "end_time": "2020-12-30T11:03:40.255666",
          "exception": false,
          "start_time": "2020-12-30T11:03:40.217914",
          "status": "completed"
        },
        "tags": []
      },
      "source": [
        "### Model Callbacks Setup"
      ]
    },
    {
      "cell_type": "code",
      "execution_count": 43,
      "metadata": {
        "execution": {
          "iopub.execute_input": "2020-12-30T11:03:40.341264Z",
          "iopub.status.busy": "2020-12-30T11:03:40.339849Z",
          "iopub.status.idle": "2020-12-30T11:03:40.342439Z",
          "shell.execute_reply": "2020-12-30T11:03:40.342996Z"
        },
        "id": "hWzVNhUhRqpL",
        "outputId": "c2701d91-ef46-4228-f1f2-e642800b679c",
        "papermill": {
          "duration": 0.048466,
          "end_time": "2020-12-30T11:03:40.343097",
          "exception": false,
          "start_time": "2020-12-30T11:03:40.294631",
          "status": "completed"
        },
        "tags": [],
        "colab": {
          "base_uri": "https://localhost:8080/"
        }
      },
      "outputs": [
        {
          "output_type": "stream",
          "name": "stderr",
          "text": [
            "WARNING:tensorflow:`period` argument is deprecated. Please use `save_freq` to specify the frequency in number of batches seen.\n"
          ]
        }
      ],
      "source": [
        "model_name = 'model_init' + '_' + str(curr_dt_time).replace(' ','').replace(':','_') + '/'\n",
        "    \n",
        "if not os.path.exists(model_name):\n",
        "    os.mkdir(model_name)\n",
        "\n",
        "filepath = model_name + 'model-{epoch:05d}-{loss:.5f}-{categorical_accuracy:.5f}-{val_loss:.5f}-{val_categorical_accuracy:.5f}.h5'\n",
        "\n",
        "checkpoint = ModelCheckpoint(filepath, monitor='val_loss', verbose=1, save_best_only=False, save_weights_only=False, mode='auto', period=1)\n",
        "\n",
        "LR = ReduceLROnPlateau(monitor='val_loss', factor=0.2, verbose=1, patience=4)\n",
        "\n",
        "# callbacks_list = [checkpoint, LR]\n",
        "callbacks_list = [LR]"
      ]
    },
    {
      "cell_type": "markdown",
      "metadata": {
        "id": "-hem7-SrSZme",
        "papermill": {
          "duration": 0.037862,
          "end_time": "2020-12-30T11:03:40.419628",
          "exception": false,
          "start_time": "2020-12-30T11:03:40.381766",
          "status": "completed"
        },
        "tags": []
      },
      "source": [
        "### Test Batch Size & Frames"
      ]
    },
    {
      "cell_type": "code",
      "execution_count": 44,
      "metadata": {
        "execution": {
          "iopub.execute_input": "2020-12-30T11:03:40.506363Z",
          "iopub.status.busy": "2020-12-30T11:03:40.505218Z",
          "iopub.status.idle": "2020-12-30T11:03:40.508359Z",
          "shell.execute_reply": "2020-12-30T11:03:40.507845Z"
        },
        "id": "ez2ESV-vHPKA",
        "papermill": {
          "duration": 0.050449,
          "end_time": "2020-12-30T11:03:40.508453",
          "exception": false,
          "start_time": "2020-12-30T11:03:40.458004",
          "status": "completed"
        },
        "tags": []
      },
      "outputs": [],
      "source": [
        "def testBatchSize(batch_size, n_frames):\n",
        "    img_tensor = getImgTensor(n_frames)\n",
        "    print(\"Using frames as\", img_tensor[0])\n",
        "    global callbacks_list\n",
        "    num_epochs = 3\n",
        "    train_generator = generator(train_path, train_doc, batch_size, img_tensor)\n",
        "    val_generator = generator(val_path, val_doc, batch_size, img_tensor)\n",
        "    if (num_train_sequences%batch_size) == 0:\n",
        "        steps_per_epoch = int(num_train_sequences/batch_size)\n",
        "    else:\n",
        "        steps_per_epoch = (num_train_sequences//batch_size) + 1\n",
        "\n",
        "    if (num_val_sequences%batch_size) == 0:\n",
        "        validation_steps = int(num_val_sequences/batch_size)\n",
        "    else:\n",
        "        validation_steps = (num_val_sequences//batch_size) + 1\n",
        "\n",
        "    model = defineModel(img_tensor)\n",
        "    model.fit_generator(train_generator, steps_per_epoch=steps_per_epoch, epochs=num_epochs, verbose=1, \n",
        "                callbacks=callbacks_list, validation_data=val_generator, \n",
        "                validation_steps=validation_steps, class_weight=None, workers=1, initial_epoch=0)"
      ]
    },
    {
      "cell_type": "code",
      "execution_count": null,
      "metadata": {
        "execution": {
          "iopub.execute_input": "2020-12-30T11:03:40.591300Z",
          "iopub.status.busy": "2020-12-30T11:03:40.589575Z",
          "iopub.status.idle": "2020-12-30T11:03:40.593051Z",
          "shell.execute_reply": "2020-12-30T11:03:40.592586Z"
        },
        "papermill": {
          "duration": 0.044889,
          "end_time": "2020-12-30T11:03:40.593141",
          "exception": false,
          "start_time": "2020-12-30T11:03:40.548252",
          "status": "completed"
        },
        "tags": [],
        "id": "iOXdoYt3M6Js"
      },
      "outputs": [],
      "source": [
        "# testBatchSize(batch_size=64, n_frames=30)"
      ]
    },
    {
      "cell_type": "code",
      "execution_count": null,
      "metadata": {
        "execution": {
          "iopub.execute_input": "2020-12-30T11:03:40.676750Z",
          "iopub.status.busy": "2020-12-30T11:03:40.674918Z",
          "iopub.status.idle": "2020-12-30T11:03:40.677420Z",
          "shell.execute_reply": "2020-12-30T11:03:40.677843Z"
        },
        "papermill": {
          "duration": 0.045619,
          "end_time": "2020-12-30T11:03:40.677942",
          "exception": false,
          "start_time": "2020-12-30T11:03:40.632323",
          "status": "completed"
        },
        "tags": [],
        "id": "2dJqEX-LM6Js"
      },
      "outputs": [],
      "source": [
        "# testBatchSize(batch_size=64, n_frames=16)"
      ]
    },
    {
      "cell_type": "code",
      "execution_count": null,
      "metadata": {
        "execution": {
          "iopub.execute_input": "2020-12-30T11:03:40.759564Z",
          "iopub.status.busy": "2020-12-30T11:03:40.759017Z",
          "iopub.status.idle": "2020-12-30T11:03:40.763088Z",
          "shell.execute_reply": "2020-12-30T11:03:40.762671Z"
        },
        "papermill": {
          "duration": 0.046181,
          "end_time": "2020-12-30T11:03:40.763182",
          "exception": false,
          "start_time": "2020-12-30T11:03:40.717001",
          "status": "completed"
        },
        "tags": [],
        "id": "oegUJ82WM6Js"
      },
      "outputs": [],
      "source": [
        "# testBatchSize(batch_size=32, n_frames=30)"
      ]
    },
    {
      "cell_type": "code",
      "execution_count": 45,
      "metadata": {
        "execution": {
          "iopub.execute_input": "2020-12-30T11:03:40.843196Z",
          "iopub.status.busy": "2020-12-30T11:03:40.842684Z",
          "iopub.status.idle": "2020-12-30T11:03:40.846329Z",
          "shell.execute_reply": "2020-12-30T11:03:40.845904Z"
        },
        "papermill": {
          "duration": 0.044218,
          "end_time": "2020-12-30T11:03:40.846457",
          "exception": false,
          "start_time": "2020-12-30T11:03:40.802239",
          "status": "completed"
        },
        "tags": [],
        "id": "FDkkrSZrM6Js"
      },
      "outputs": [],
      "source": [
        "# testBatchSize(batch_size=32, n_frames=16)"
      ]
    },
    {
      "cell_type": "markdown",
      "metadata": {
        "id": "Vh1IZvwiajxA",
        "papermill": {
          "duration": 0.03831,
          "end_time": "2020-12-30T11:03:40.923787",
          "exception": false,
          "start_time": "2020-12-30T11:03:40.885477",
          "status": "completed"
        },
        "tags": []
      },
      "source": [
        "With above observations, we can see that batch size is not impacting training time but number of frames. We will use batch size of 64 as it seems optimal. It is commented as it takes a lot of time to run that is restricting for the notebook to completely run."
      ]
    },
    {
      "cell_type": "markdown",
      "metadata": {
        "id": "TRxSBVQgbPHo",
        "papermill": {
          "duration": 0.038838,
          "end_time": "2020-12-30T11:03:41.003654",
          "exception": false,
          "start_time": "2020-12-30T11:03:40.964816",
          "status": "completed"
        },
        "tags": []
      },
      "source": [
        "### Model 1 - Frames-16, Epoc-20"
      ]
    },
    {
      "cell_type": "code",
      "execution_count": null,
      "metadata": {
        "execution": {
          "iopub.execute_input": "2020-12-30T11:03:41.116328Z",
          "iopub.status.busy": "2020-12-30T11:03:41.115414Z",
          "iopub.status.idle": "2020-12-30T11:16:58.841870Z",
          "shell.execute_reply": "2020-12-30T11:16:58.841164Z"
        },
        "id": "e9Z5A_HNZgyP",
        "outputId": "68c3c78f-354e-43a9-8534-c8d9c61cdc21",
        "papermill": {
          "duration": 797.799786,
          "end_time": "2020-12-30T11:16:58.842002",
          "exception": false,
          "start_time": "2020-12-30T11:03:41.042216",
          "status": "completed"
        },
        "tags": []
      },
      "outputs": [
        {
          "name": "stdout",
          "output_type": "stream",
          "text": [
            "Model: \"conv_3d1\"\n",
            "_________________________________________________________________\n",
            "Layer (type)                 Output Shape              Param #   \n",
            "=================================================================\n",
            "conv3d_3 (Conv3D)            (None, 12, 96, 96, 16)    6016      \n",
            "_________________________________________________________________\n",
            "max_pooling3d_3 (MaxPooling3 (None, 6, 48, 48, 16)     0         \n",
            "_________________________________________________________________\n",
            "batch_normalization_5 (Batch (None, 6, 48, 48, 16)     64        \n",
            "_________________________________________________________________\n",
            "conv3d_4 (Conv3D)            (None, 4, 46, 46, 32)     13856     \n",
            "_________________________________________________________________\n",
            "max_pooling3d_4 (MaxPooling3 (None, 4, 23, 23, 32)     0         \n",
            "_________________________________________________________________\n",
            "batch_normalization_6 (Batch (None, 4, 23, 23, 32)     128       \n",
            "_________________________________________________________________\n",
            "conv3d_5 (Conv3D)            (None, 2, 21, 21, 64)     55360     \n",
            "_________________________________________________________________\n",
            "max_pooling3d_5 (MaxPooling3 (None, 2, 11, 11, 64)     0         \n",
            "_________________________________________________________________\n",
            "batch_normalization_7 (Batch (None, 2, 11, 11, 64)     256       \n",
            "_________________________________________________________________\n",
            "flatten_1 (Flatten)          (None, 15488)             0         \n",
            "_________________________________________________________________\n",
            "dense_3 (Dense)              (None, 128)               1982592   \n",
            "_________________________________________________________________\n",
            "batch_normalization_8 (Batch (None, 128)               512       \n",
            "_________________________________________________________________\n",
            "dropout_2 (Dropout)          (None, 128)               0         \n",
            "_________________________________________________________________\n",
            "dense_4 (Dense)              (None, 64)                8256      \n",
            "_________________________________________________________________\n",
            "batch_normalization_9 (Batch (None, 64)                256       \n",
            "_________________________________________________________________\n",
            "dropout_3 (Dropout)          (None, 64)                0         \n",
            "_________________________________________________________________\n",
            "dense_5 (Dense)              (None, 5)                 325       \n",
            "=================================================================\n",
            "Total params: 2,067,621\n",
            "Trainable params: 2,067,013\n",
            "Non-trainable params: 608\n",
            "_________________________________________________________________\n",
            "None\n",
            "Source path =  ../input/gesture-recognition/train ; batch size = 64\n",
            "Epoch 1/20\n",
            "11/11 [==============================] - ETA: 0s - loss: 1.4811 - categorical_accuracy: 0.4600 Source path =  ../input/gesture-recognition/val ; batch size = 64\n",
            "11/11 [==============================] - 172s 16s/step - loss: 1.4811 - categorical_accuracy: 0.4600 - val_loss: 5.9933 - val_categorical_accuracy: 0.2400\n",
            "Epoch 2/20\n",
            "11/11 [==============================] - 51s 5s/step - loss: 1.0727 - categorical_accuracy: 0.5692 - val_loss: 5.9381 - val_categorical_accuracy: 0.2031\n",
            "Epoch 3/20\n",
            "11/11 [==============================] - 48s 4s/step - loss: 1.0628 - categorical_accuracy: 0.6364 - val_loss: 6.4442 - val_categorical_accuracy: 0.2321\n",
            "Epoch 4/20\n",
            "11/11 [==============================] - 43s 4s/step - loss: 0.8315 - categorical_accuracy: 0.6567 - val_loss: 6.2798 - val_categorical_accuracy: 0.2500\n",
            "Epoch 5/20\n",
            "11/11 [==============================] - 36s 3s/step - loss: 0.8683 - categorical_accuracy: 0.6316 - val_loss: 4.2968 - val_categorical_accuracy: 0.1875\n",
            "Epoch 6/20\n",
            "11/11 [==============================] - 31s 3s/step - loss: 0.7479 - categorical_accuracy: 0.7273 - val_loss: 4.4652 - val_categorical_accuracy: 0.2500\n",
            "Epoch 7/20\n",
            "11/11 [==============================] - 31s 3s/step - loss: 0.7721 - categorical_accuracy: 0.7291 - val_loss: 4.2260 - val_categorical_accuracy: 0.1250\n",
            "Epoch 8/20\n",
            "11/11 [==============================] - 28s 3s/step - loss: 0.6009 - categorical_accuracy: 0.8021 - val_loss: 5.3602 - val_categorical_accuracy: 0.0000e+00\n",
            "Epoch 9/20\n",
            "11/11 [==============================] - 26s 2s/step - loss: 0.7970 - categorical_accuracy: 0.7112 - val_loss: 1.5310 - val_categorical_accuracy: 0.3750\n",
            "Epoch 10/20\n",
            "11/11 [==============================] - 29s 3s/step - loss: 0.6184 - categorical_accuracy: 0.7754 - val_loss: 2.9460 - val_categorical_accuracy: 0.0000e+00\n",
            "Epoch 11/20\n",
            "11/11 [==============================] - 25s 2s/step - loss: 0.6106 - categorical_accuracy: 0.7807 - val_loss: 1.2568 - val_categorical_accuracy: 0.5000\n",
            "Epoch 12/20\n",
            "11/11 [==============================] - 28s 3s/step - loss: 0.6182 - categorical_accuracy: 0.7914 - val_loss: 2.2381 - val_categorical_accuracy: 0.3750\n",
            "Epoch 13/20\n",
            "11/11 [==============================] - 28s 3s/step - loss: 0.6792 - categorical_accuracy: 0.7487 - val_loss: 2.4635 - val_categorical_accuracy: 0.3750\n",
            "Epoch 14/20\n",
            "11/11 [==============================] - 28s 3s/step - loss: 0.5612 - categorical_accuracy: 0.7807 - val_loss: 2.1324 - val_categorical_accuracy: 0.5000\n",
            "Epoch 15/20\n",
            "11/11 [==============================] - 27s 2s/step - loss: 0.3733 - categorical_accuracy: 0.8556 - val_loss: 0.6523 - val_categorical_accuracy: 0.7500\n",
            "Epoch 16/20\n",
            "11/11 [==============================] - 27s 2s/step - loss: 0.4471 - categorical_accuracy: 0.8396 - val_loss: 1.6300 - val_categorical_accuracy: 0.3750\n",
            "Epoch 17/20\n",
            "11/11 [==============================] - 29s 3s/step - loss: 0.4022 - categorical_accuracy: 0.8663 - val_loss: 2.8388 - val_categorical_accuracy: 0.1250\n",
            "Epoch 18/20\n",
            "11/11 [==============================] - 26s 2s/step - loss: 0.5249 - categorical_accuracy: 0.8182 - val_loss: 5.6061 - val_categorical_accuracy: 0.1250\n",
            "Epoch 19/20\n",
            "11/11 [==============================] - ETA: 0s - loss: 0.5019 - categorical_accuracy: 0.8235\n",
            "Epoch 00019: ReduceLROnPlateau reducing learning rate to 0.00020000000949949026.\n",
            "11/11 [==============================] - 27s 2s/step - loss: 0.5019 - categorical_accuracy: 0.8235 - val_loss: 3.5743 - val_categorical_accuracy: 0.1250\n",
            "Epoch 20/20\n",
            "11/11 [==============================] - 27s 2s/step - loss: 0.4014 - categorical_accuracy: 0.8556 - val_loss: 3.5873 - val_categorical_accuracy: 0.3750\n"
          ]
        }
      ],
      "source": [
        "n_frames = 16\n",
        "num_epochs = 20\n",
        "batch_size = 64\n",
        "\n",
        "img_tensor = getImgTensor(n_frames)\n",
        "train_generator = generator(train_path, train_doc, batch_size, img_tensor)\n",
        "val_generator = generator(val_path, val_doc, batch_size, img_tensor)\n",
        "\n",
        "if (num_train_sequences%batch_size) == 0:\n",
        "    steps_per_epoch = int(num_train_sequences/batch_size)\n",
        "else:\n",
        "    steps_per_epoch = (num_train_sequences//batch_size) + 1\n",
        "\n",
        "if (num_val_sequences%batch_size) == 0:\n",
        "    validation_steps = int(num_val_sequences/batch_size)\n",
        "else:\n",
        "    validation_steps = (num_val_sequences//batch_size) + 1\n",
        "    \n",
        "inputShape = (len(img_tensor[0]), img_tensor[1], img_tensor[2], img_tensor[3])\n",
        "\n",
        "model1 = Sequential([\n",
        "    Conv3D(16, make3dFilter(5), activation='relu', input_shape=inputShape),\n",
        "    MaxPooling3D(make3dFilter(2), padding='same'),\n",
        "    BatchNormalization(),\n",
        "\n",
        "    Conv3D(32, make3dFilter(3), activation='relu'),\n",
        "    MaxPooling3D(pool_size=(1,2,2), padding='same'),\n",
        "    BatchNormalization(),\n",
        "\n",
        "    Conv3D(64, make3dFilter(3), activation='relu'),\n",
        "    MaxPooling3D(pool_size=(1,2,2), padding='same'),\n",
        "    BatchNormalization(),\n",
        "\n",
        "    Flatten(),\n",
        "    Dense(128, activation='relu'),\n",
        "    BatchNormalization(),\n",
        "    Dropout(0.25),\n",
        "\n",
        "    Dense(64, activation='relu'),\n",
        "    BatchNormalization(),\n",
        "    Dropout(0.25),\n",
        "\n",
        "    Dense(5, activation='softmax')\n",
        "], name=\"conv_3d1\")\n",
        "model1.compile(optimizer=optimizers.Adam(), loss='categorical_crossentropy', metrics=['categorical_accuracy'])\n",
        "print(model1.summary())\n",
        "\n",
        "model1_history = model1.fit_generator(train_generator, steps_per_epoch=steps_per_epoch, epochs=num_epochs, verbose=1, \n",
        "            callbacks=callbacks_list, validation_data=val_generator, \n",
        "            validation_steps=validation_steps, class_weight=None, workers=1, initial_epoch=0)"
      ]
    },
    {
      "cell_type": "code",
      "execution_count": null,
      "metadata": {
        "execution": {
          "iopub.execute_input": "2020-12-30T11:16:59.072028Z",
          "iopub.status.busy": "2020-12-30T11:16:59.071194Z",
          "iopub.status.idle": "2020-12-30T11:16:59.349141Z",
          "shell.execute_reply": "2020-12-30T11:16:59.348657Z"
        },
        "id": "YfeBXCls1r7R",
        "outputId": "c7ad7297-9bdc-4b0b-816d-5c86c63ee254",
        "papermill": {
          "duration": 0.397617,
          "end_time": "2020-12-30T11:16:59.349239",
          "exception": false,
          "start_time": "2020-12-30T11:16:58.951622",
          "status": "completed"
        },
        "tags": []
      },
      "outputs": [
        {
          "data": {
            "image/png": "[encoded data removed]",
            "text/plain": [
              "<Figure size 1080x288 with 2 Axes>"
            ]
          },
          "metadata": {
            "needs_background": "light"
          },
          "output_type": "display_data"
        },
        {
          "name": "stdout",
          "output_type": "stream",
          "text": [
            "Max. Training Accuracy 0.866310179233551\n",
            "Max. Validaiton Accuracy 0.75\n"
          ]
        }
      ],
      "source": [
        "plotModelHistory(model1_history)"
      ]
    },
    {
      "cell_type": "markdown",
      "metadata": {
        "id": "dsjCzIj40suJ",
        "papermill": {
          "duration": 0.111361,
          "end_time": "2020-12-30T11:16:59.574028",
          "exception": false,
          "start_time": "2020-12-30T11:16:59.462667",
          "status": "completed"
        },
        "tags": []
      },
      "source": [
        "### Model 2: Frames-30, Epocs-30"
      ]
    },
    {
      "cell_type": "code",
      "execution_count": null,
      "metadata": {
        "execution": {
          "iopub.execute_input": "2020-12-30T11:16:59.831870Z",
          "iopub.status.busy": "2020-12-30T11:16:59.830984Z",
          "iopub.status.idle": "2020-12-30T11:49:37.368758Z",
          "shell.execute_reply": "2020-12-30T11:49:37.368269Z"
        },
        "id": "I82f2MK3bNyZ",
        "outputId": "d96d1cc3-3336-4be5-b3d1-ac8616919333",
        "papermill": {
          "duration": 1957.682254,
          "end_time": "2020-12-30T11:49:37.368875",
          "exception": false,
          "start_time": "2020-12-30T11:16:59.686621",
          "status": "completed"
        },
        "tags": []
      },
      "outputs": [
        {
          "name": "stdout",
          "output_type": "stream",
          "text": [
            "Model: \"conv_3d2\"\n",
            "_________________________________________________________________\n",
            "Layer (type)                 Output Shape              Param #   \n",
            "=================================================================\n",
            "conv3d_6 (Conv3D)            (None, 26, 96, 96, 16)    6016      \n",
            "_________________________________________________________________\n",
            "max_pooling3d_6 (MaxPooling3 (None, 13, 48, 48, 16)    0         \n",
            "_________________________________________________________________\n",
            "batch_normalization_10 (Batc (None, 13, 48, 48, 16)    64        \n",
            "_________________________________________________________________\n",
            "conv3d_7 (Conv3D)            (None, 11, 46, 46, 32)    13856     \n",
            "_________________________________________________________________\n",
            "max_pooling3d_7 (MaxPooling3 (None, 11, 23, 23, 32)    0         \n",
            "_________________________________________________________________\n",
            "batch_normalization_11 (Batc (None, 11, 23, 23, 32)    128       \n",
            "_________________________________________________________________\n",
            "conv3d_8 (Conv3D)            (None, 9, 21, 21, 64)     55360     \n",
            "_________________________________________________________________\n",
            "max_pooling3d_8 (MaxPooling3 (None, 9, 11, 11, 64)     0         \n",
            "_________________________________________________________________\n",
            "batch_normalization_12 (Batc (None, 9, 11, 11, 64)     256       \n",
            "_________________________________________________________________\n",
            "flatten_2 (Flatten)          (None, 69696)             0         \n",
            "_________________________________________________________________\n",
            "dense_6 (Dense)              (None, 128)               8921216   \n",
            "_________________________________________________________________\n",
            "batch_normalization_13 (Batc (None, 128)               512       \n",
            "_________________________________________________________________\n",
            "dropout_4 (Dropout)          (None, 128)               0         \n",
            "_________________________________________________________________\n",
            "dense_7 (Dense)              (None, 64)                8256      \n",
            "_________________________________________________________________\n",
            "batch_normalization_14 (Batc (None, 64)                256       \n",
            "_________________________________________________________________\n",
            "dropout_5 (Dropout)          (None, 64)                0         \n",
            "_________________________________________________________________\n",
            "dense_8 (Dense)              (None, 5)                 325       \n",
            "=================================================================\n",
            "Total params: 9,006,245\n",
            "Trainable params: 9,005,637\n",
            "Non-trainable params: 608\n",
            "_________________________________________________________________\n",
            "None\n",
            "Source path =  ../input/gesture-recognition/train ; batch size = 64\n",
            "Epoch 1/30\n",
            "11/11 [==============================] - ETA: 0s - loss: 1.5421 - categorical_accuracy: 0.4661 Source path =  ../input/gesture-recognition/val ; batch size = 64\n",
            "11/11 [==============================] - 276s 25s/step - loss: 1.5421 - categorical_accuracy: 0.4661 - val_loss: 8.4930 - val_categorical_accuracy: 0.2600\n",
            "Epoch 2/30\n",
            "11/11 [==============================] - 95s 9s/step - loss: 0.9124 - categorical_accuracy: 0.6364 - val_loss: 5.4997 - val_categorical_accuracy: 0.1562\n",
            "Epoch 3/30\n",
            "11/11 [==============================] - 86s 8s/step - loss: 1.0124 - categorical_accuracy: 0.6443 - val_loss: 8.5361 - val_categorical_accuracy: 0.2500\n",
            "Epoch 4/30\n",
            "11/11 [==============================] - 75s 7s/step - loss: 1.0499 - categorical_accuracy: 0.6180 - val_loss: 8.4728 - val_categorical_accuracy: 0.2500\n",
            "Epoch 5/30\n",
            "11/11 [==============================] - 65s 6s/step - loss: 1.0063 - categorical_accuracy: 0.6268 - val_loss: 5.1333 - val_categorical_accuracy: 0.2500\n",
            "Epoch 6/30\n",
            "11/11 [==============================] - 58s 5s/step - loss: 0.8544 - categorical_accuracy: 0.6411 - val_loss: 2.9681 - val_categorical_accuracy: 0.2500\n",
            "Epoch 7/30\n",
            "11/11 [==============================] - 58s 5s/step - loss: 0.6632 - categorical_accuracy: 0.7635 - val_loss: 2.0236 - val_categorical_accuracy: 0.5000\n",
            "Epoch 8/30\n",
            "11/11 [==============================] - 51s 5s/step - loss: 0.5947 - categorical_accuracy: 0.7701 - val_loss: 2.1798 - val_categorical_accuracy: 0.6250\n",
            "Epoch 9/30\n",
            "11/11 [==============================] - 52s 5s/step - loss: 0.8318 - categorical_accuracy: 0.6845 - val_loss: 2.5242 - val_categorical_accuracy: 0.3750\n",
            "Epoch 10/30\n",
            "11/11 [==============================] - 51s 5s/step - loss: 0.7226 - categorical_accuracy: 0.7380 - val_loss: 1.5215 - val_categorical_accuracy: 0.6250\n",
            "Epoch 11/30\n",
            "11/11 [==============================] - 51s 5s/step - loss: 0.6232 - categorical_accuracy: 0.7594 - val_loss: 3.8333 - val_categorical_accuracy: 0.2500\n",
            "Epoch 12/30\n",
            "11/11 [==============================] - 54s 5s/step - loss: 0.6165 - categorical_accuracy: 0.7807 - val_loss: 1.7497 - val_categorical_accuracy: 0.6250\n",
            "Epoch 13/30\n",
            "11/11 [==============================] - 51s 5s/step - loss: 0.6982 - categorical_accuracy: 0.7594 - val_loss: 2.2073 - val_categorical_accuracy: 0.0000e+00\n",
            "Epoch 14/30\n",
            "11/11 [==============================] - ETA: 0s - loss: 0.6801 - categorical_accuracy: 0.7540\n",
            "Epoch 00014: ReduceLROnPlateau reducing learning rate to 0.00020000000949949026.\n",
            "11/11 [==============================] - 53s 5s/step - loss: 0.6801 - categorical_accuracy: 0.7540 - val_loss: 2.6521 - val_categorical_accuracy: 0.2500\n",
            "Epoch 15/30\n",
            "11/11 [==============================] - 52s 5s/step - loss: 0.4382 - categorical_accuracy: 0.8556 - val_loss: 2.1032 - val_categorical_accuracy: 0.3750\n",
            "Epoch 16/30\n",
            "11/11 [==============================] - 54s 5s/step - loss: 0.4200 - categorical_accuracy: 0.8503 - val_loss: 1.4313 - val_categorical_accuracy: 0.2500\n",
            "Epoch 17/30\n",
            "11/11 [==============================] - 50s 5s/step - loss: 0.4270 - categorical_accuracy: 0.8717 - val_loss: 1.4019 - val_categorical_accuracy: 0.3750\n",
            "Epoch 18/30\n",
            "11/11 [==============================] - 49s 4s/step - loss: 0.4215 - categorical_accuracy: 0.8396 - val_loss: 0.6988 - val_categorical_accuracy: 0.6250\n",
            "Epoch 19/30\n",
            "11/11 [==============================] - 51s 5s/step - loss: 0.4177 - categorical_accuracy: 0.8396 - val_loss: 1.4443 - val_categorical_accuracy: 0.3750\n",
            "Epoch 20/30\n",
            "11/11 [==============================] - 51s 5s/step - loss: 0.2639 - categorical_accuracy: 0.9198 - val_loss: 1.1773 - val_categorical_accuracy: 0.5000\n",
            "Epoch 21/30\n",
            "11/11 [==============================] - 53s 5s/step - loss: 0.4068 - categorical_accuracy: 0.8503 - val_loss: 1.1374 - val_categorical_accuracy: 0.6250\n",
            "Epoch 22/30\n",
            "11/11 [==============================] - ETA: 0s - loss: 0.3355 - categorical_accuracy: 0.8717\n",
            "Epoch 00022: ReduceLROnPlateau reducing learning rate to 4.0000001899898055e-05.\n",
            "11/11 [==============================] - 50s 5s/step - loss: 0.3355 - categorical_accuracy: 0.8717 - val_loss: 1.0123 - val_categorical_accuracy: 0.6250\n",
            "Epoch 23/30\n",
            "11/11 [==============================] - 50s 5s/step - loss: 0.3493 - categorical_accuracy: 0.8503 - val_loss: 0.7809 - val_categorical_accuracy: 0.7500\n",
            "Epoch 24/30\n",
            "11/11 [==============================] - 50s 5s/step - loss: 0.2768 - categorical_accuracy: 0.9091 - val_loss: 1.3754 - val_categorical_accuracy: 0.2500\n",
            "Epoch 25/30\n",
            "11/11 [==============================] - 52s 5s/step - loss: 0.2579 - categorical_accuracy: 0.9198 - val_loss: 1.0875 - val_categorical_accuracy: 0.6250\n",
            "Epoch 26/30\n",
            "11/11 [==============================] - 52s 5s/step - loss: 0.2967 - categorical_accuracy: 0.9037 - val_loss: 0.6628 - val_categorical_accuracy: 0.8750\n",
            "Epoch 27/30\n",
            "11/11 [==============================] - 51s 5s/step - loss: 0.2851 - categorical_accuracy: 0.9037 - val_loss: 0.5932 - val_categorical_accuracy: 0.7500\n",
            "Epoch 28/30\n",
            "11/11 [==============================] - 54s 5s/step - loss: 0.2350 - categorical_accuracy: 0.9305 - val_loss: 1.0811 - val_categorical_accuracy: 0.5000\n",
            "Epoch 29/30\n",
            "11/11 [==============================] - 50s 5s/step - loss: 0.2640 - categorical_accuracy: 0.9251 - val_loss: 1.1419 - val_categorical_accuracy: 0.5000\n",
            "Epoch 30/30\n",
            "11/11 [==============================] - 56s 5s/step - loss: 0.2548 - categorical_accuracy: 0.9251 - val_loss: 0.6871 - val_categorical_accuracy: 0.7500\n"
          ]
        }
      ],
      "source": [
        "n_frames = 30\n",
        "num_epochs = 30\n",
        "batch_size = 64\n",
        "\n",
        "img_tensor = getImgTensor(n_frames)\n",
        "train_generator = generator(train_path, train_doc, batch_size, img_tensor)\n",
        "val_generator = generator(val_path, val_doc, batch_size, img_tensor)\n",
        "\n",
        "if (num_train_sequences%batch_size) == 0:\n",
        "    steps_per_epoch = int(num_train_sequences/batch_size)\n",
        "else:\n",
        "    steps_per_epoch = (num_train_sequences//batch_size) + 1\n",
        "\n",
        "if (num_val_sequences%batch_size) == 0:\n",
        "    validation_steps = int(num_val_sequences/batch_size)\n",
        "else:\n",
        "    validation_steps = (num_val_sequences//batch_size) + 1\n",
        "    \n",
        "inputShape = (len(img_tensor[0]), img_tensor[1], img_tensor[2], img_tensor[3])\n",
        "\n",
        "model2 = Sequential([\n",
        "    Conv3D(16, make3dFilter(5), activation='relu', input_shape=inputShape),\n",
        "    MaxPooling3D(make3dFilter(2), padding='same'),\n",
        "    BatchNormalization(),\n",
        "\n",
        "    Conv3D(32, make3dFilter(3), activation='relu'),\n",
        "    MaxPooling3D(pool_size=(1,2,2), padding='same'),\n",
        "    BatchNormalization(),\n",
        "\n",
        "    Conv3D(64, make3dFilter(3), activation='relu'),\n",
        "    MaxPooling3D(pool_size=(1,2,2), padding='same'),\n",
        "    BatchNormalization(),\n",
        "\n",
        "    Flatten(),\n",
        "    Dense(128, activation='relu'),\n",
        "    BatchNormalization(),\n",
        "    Dropout(0.25),\n",
        "\n",
        "    Dense(64, activation='relu'),\n",
        "    BatchNormalization(),\n",
        "    Dropout(0.25),\n",
        "\n",
        "    Dense(5, activation='softmax')\n",
        "], name=\"conv_3d2\")\n",
        "model2.compile(optimizer=optimizers.Adam(), loss='categorical_crossentropy', metrics=['categorical_accuracy'])\n",
        "print(model2.summary())\n",
        "\n",
        "model2_history = model2.fit_generator(train_generator, steps_per_epoch=steps_per_epoch, epochs=num_epochs, verbose=1, \n",
        "            callbacks=callbacks_list, validation_data=val_generator, \n",
        "            validation_steps=validation_steps, class_weight=None, workers=1, initial_epoch=0)"
      ]
    },
    {
      "cell_type": "code",
      "execution_count": null,
      "metadata": {
        "execution": {
          "iopub.execute_input": "2020-12-30T11:49:37.818934Z",
          "iopub.status.busy": "2020-12-30T11:49:37.817219Z",
          "iopub.status.idle": "2020-12-30T11:49:38.077178Z",
          "shell.execute_reply": "2020-12-30T11:49:38.076583Z"
        },
        "id": "dGXMP96h1zDT",
        "outputId": "7b5e1257-e660-4bc9-c5ab-db47d1f62eae",
        "papermill": {
          "duration": 0.489963,
          "end_time": "2020-12-30T11:49:38.077303",
          "exception": false,
          "start_time": "2020-12-30T11:49:37.587340",
          "status": "completed"
        },
        "tags": []
      },
      "outputs": [
        {
          "data": {
            "image/png": "[encoded data removed]",
            "text/plain": [
              "<Figure size 1080x288 with 2 Axes>"
            ]
          },
          "metadata": {
            "needs_background": "light"
          },
          "output_type": "display_data"
        },
        {
          "name": "stdout",
          "output_type": "stream",
          "text": [
            "Max. Training Accuracy 0.9304812550544739\n",
            "Max. Validaiton Accuracy 0.875\n"
          ]
        }
      ],
      "source": [
        "plotModelHistory(model2_history)"
      ]
    },
    {
      "cell_type": "markdown",
      "metadata": {
        "id": "m_-TyE8YDCnP",
        "papermill": {
          "duration": 0.227485,
          "end_time": "2020-12-30T11:49:38.532430",
          "exception": false,
          "start_time": "2020-12-30T11:49:38.304945",
          "status": "completed"
        },
        "tags": []
      },
      "source": [
        "Reduce parameters, with padding in Conv3D layers and filter of (3,3,3)."
      ]
    },
    {
      "cell_type": "markdown",
      "metadata": {
        "id": "n_Fqznw7DwLr",
        "papermill": {
          "duration": 0.223765,
          "end_time": "2020-12-30T11:49:38.994860",
          "exception": false,
          "start_time": "2020-12-30T11:49:38.771095",
          "status": "completed"
        },
        "tags": []
      },
      "source": [
        "### Model 3: Frames-30, Epocs-20, Reduced parameters"
      ]
    },
    {
      "cell_type": "code",
      "execution_count": null,
      "metadata": {
        "execution": {
          "iopub.execute_input": "2020-12-30T11:49:39.467201Z",
          "iopub.status.busy": "2020-12-30T11:49:39.464861Z",
          "iopub.status.idle": "2020-12-30T12:12:04.236506Z",
          "shell.execute_reply": "2020-12-30T12:12:04.235967Z"
        },
        "id": "UlmHHFrL8HYu",
        "papermill": {
          "duration": 1345.022772,
          "end_time": "2020-12-30T12:12:04.236613",
          "exception": false,
          "start_time": "2020-12-30T11:49:39.213841",
          "status": "completed"
        },
        "tags": []
      },
      "outputs": [],
      "source": [
        "n_frames = 30\n",
        "num_epochs = 20\n",
        "batch_size = 64\n",
        "\n",
        "img_tensor = getImgTensor(n_frames)\n",
        "train_generator = generator(train_path, train_doc, batch_size, img_tensor)\n",
        "val_generator = generator(val_path, val_doc, batch_size, img_tensor)\n",
        "\n",
        "if (num_train_sequences%batch_size) == 0:\n",
        "    steps_per_epoch = int(num_train_sequences/batch_size)\n",
        "else:\n",
        "    steps_per_epoch = (num_train_sequences//batch_size) + 1\n",
        "\n",
        "if (num_val_sequences%batch_size) == 0:\n",
        "    validation_steps = int(num_val_sequences/batch_size)\n",
        "else:\n",
        "    validation_steps = (num_val_sequences//batch_size) + 1\n",
        "    \n",
        "inputShape = (len(img_tensor[0]), img_tensor[1], img_tensor[2], img_tensor[3])\n",
        "\n",
        "model3 = Sequential([\n",
        "    Conv3D(16, make3dFilter(3), padding='same', activation='relu', input_shape=inputShape),\n",
        "    MaxPooling3D(make3dFilter(2), padding='same'),\n",
        "    BatchNormalization(),\n",
        "\n",
        "    Conv3D(32, make3dFilter(3), padding='same', activation='relu'),\n",
        "    MaxPooling3D(pool_size=(2), padding='same'),\n",
        "    BatchNormalization(),\n",
        "\n",
        "    Conv3D(64, make3dFilter(3), padding='same', activation='relu'),\n",
        "    MaxPooling3D(pool_size=(2), padding='same'),\n",
        "    BatchNormalization(),\n",
        "\n",
        "    Flatten(),\n",
        "    Dense(128, activation='relu'),\n",
        "    BatchNormalization(),\n",
        "    Dropout(0.25),\n",
        "\n",
        "    Dense(64, activation='relu'),\n",
        "    BatchNormalization(),\n",
        "    Dropout(0.25),\n",
        "\n",
        "    Dense(5, activation='softmax')\n",
        "], name=\"conv_3d3\")\n",
        "model3.compile(optimizer=optimizers.Adam(), loss='categorical_crossentropy', metrics=['categorical_accuracy'])\n",
        "print(model3.summary())\n",
        "\n",
        "model3_history = model3.fit_generator(train_generator, steps_per_epoch=steps_per_epoch, epochs=num_epochs, verbose=1, \n",
        "            callbacks=callbacks_list, validation_data=val_generator, \n",
        "            validation_steps=validation_steps, class_weight=None, workers=1, initial_epoch=0)"
      ]
    },
    {
      "cell_type": "markdown",
      "source": [],
      "metadata": {
        "id": "d4BPl7PgxrKG"
      }
    },
    {
      "cell_type": "code",
      "execution_count": null,
      "metadata": {
        "execution": {
          "iopub.execute_input": "2020-12-30T12:12:04.826305Z",
          "iopub.status.busy": "2020-12-30T12:12:04.825387Z",
          "iopub.status.idle": "2020-12-30T12:12:05.113416Z",
          "shell.execute_reply": "2020-12-30T12:12:05.112770Z"
        },
        "papermill": {
          "duration": 0.585342,
          "end_time": "2020-12-30T12:12:05.113531",
          "exception": false,
          "start_time": "2020-12-30T12:12:04.528189",
          "status": "completed"
        },
        "tags": [],
        "id": "-u9ocXjjM6Jv"
      },
      "outputs": [],
      "source": [
        "plotModelHistory(model3_history)"
      ]
    },
    {
      "cell_type": "markdown",
      "metadata": {
        "id": "50alkFqTbYVq",
        "papermill": {
          "duration": 0.295298,
          "end_time": "2020-12-30T12:12:05.702374",
          "exception": false,
          "start_time": "2020-12-30T12:12:05.407076",
          "status": "completed"
        },
        "tags": []
      },
      "source": [
        "### Model 4: Frames-20, Same pooling in Conv3D layer"
      ]
    },
    {
      "cell_type": "code",
      "execution_count": null,
      "metadata": {
        "execution": {
          "iopub.execute_input": "2020-12-30T12:12:06.335711Z",
          "iopub.status.busy": "2020-12-30T12:12:06.334802Z",
          "iopub.status.idle": "2020-12-30T12:27:10.606448Z",
          "shell.execute_reply": "2020-12-30T12:27:10.606943Z"
        },
        "id": "kR92LCmTBQCD",
        "outputId": "ac73d2a2-58d4-4874-a4f7-89a6d76f0021",
        "papermill": {
          "duration": 904.604753,
          "end_time": "2020-12-30T12:27:10.607081",
          "exception": false,
          "start_time": "2020-12-30T12:12:06.002328",
          "status": "completed"
        },
        "tags": []
      },
      "outputs": [
        {
          "name": "stdout",
          "output_type": "stream",
          "text": [
            "Model: \"conv_3d4\"\n",
            "_________________________________________________________________\n",
            "Layer (type)                 Output Shape              Param #   \n",
            "=================================================================\n",
            "conv3d_12 (Conv3D)           (None, 20, 100, 100, 16)  1312      \n",
            "_________________________________________________________________\n",
            "max_pooling3d_12 (MaxPooling (None, 10, 50, 50, 16)    0         \n",
            "_________________________________________________________________\n",
            "batch_normalization_20 (Batc (None, 10, 50, 50, 16)    64        \n",
            "_________________________________________________________________\n",
            "conv3d_13 (Conv3D)           (None, 10, 50, 50, 32)    13856     \n",
            "_________________________________________________________________\n",
            "max_pooling3d_13 (MaxPooling (None, 5, 25, 25, 32)     0         \n",
            "_________________________________________________________________\n",
            "batch_normalization_21 (Batc (None, 5, 25, 25, 32)     128       \n",
            "_________________________________________________________________\n",
            "conv3d_14 (Conv3D)           (None, 5, 25, 25, 64)     55360     \n",
            "_________________________________________________________________\n",
            "max_pooling3d_14 (MaxPooling (None, 3, 13, 13, 64)     0         \n",
            "_________________________________________________________________\n",
            "batch_normalization_22 (Batc (None, 3, 13, 13, 64)     256       \n",
            "_________________________________________________________________\n",
            "conv3d_15 (Conv3D)           (None, 3, 13, 13, 128)    221312    \n",
            "_________________________________________________________________\n",
            "max_pooling3d_15 (MaxPooling (None, 2, 7, 7, 128)      0         \n",
            "_________________________________________________________________\n",
            "batch_normalization_23 (Batc (None, 2, 7, 7, 128)      512       \n",
            "_________________________________________________________________\n",
            "flatten_4 (Flatten)          (None, 12544)             0         \n",
            "_________________________________________________________________\n",
            "dense_12 (Dense)             (None, 128)               1605760   \n",
            "_________________________________________________________________\n",
            "batch_normalization_24 (Batc (None, 128)               512       \n",
            "_________________________________________________________________\n",
            "dropout_8 (Dropout)          (None, 128)               0         \n",
            "_________________________________________________________________\n",
            "dense_13 (Dense)             (None, 64)                8256      \n",
            "_________________________________________________________________\n",
            "batch_normalization_25 (Batc (None, 64)                256       \n",
            "_________________________________________________________________\n",
            "dropout_9 (Dropout)          (None, 64)                0         \n",
            "_________________________________________________________________\n",
            "dense_14 (Dense)             (None, 5)                 325       \n",
            "=================================================================\n",
            "Total params: 1,907,909\n",
            "Trainable params: 1,907,045\n",
            "Non-trainable params: 864\n",
            "_________________________________________________________________\n",
            "None\n",
            "Source path =  ../input/gesture-recognition/train ; batch size = 64\n",
            "Epoch 1/20\n",
            "11/11 [==============================] - ETA: 0s - loss: 1.4552 - categorical_accuracy: 0.4661 Source path =  ../input/gesture-recognition/val ; batch size = 64\n",
            "11/11 [==============================] - 136s 12s/step - loss: 1.4552 - categorical_accuracy: 0.4661 - val_loss: 1.5989 - val_categorical_accuracy: 0.1700\n",
            "Epoch 2/20\n",
            "11/11 [==============================] - 62s 6s/step - loss: 1.0289 - categorical_accuracy: 0.6166 - val_loss: 1.7881 - val_categorical_accuracy: 0.1250\n",
            "Epoch 3/20\n",
            "11/11 [==============================] - 60s 5s/step - loss: 0.9904 - categorical_accuracy: 0.6206 - val_loss: 2.1410 - val_categorical_accuracy: 0.1786\n",
            "Epoch 4/20\n",
            "11/11 [==============================] - 51s 5s/step - loss: 0.8770 - categorical_accuracy: 0.6910 - val_loss: 2.0042 - val_categorical_accuracy: 0.2812\n",
            "Epoch 5/20\n",
            "11/11 [==============================] - ETA: 0s - loss: 1.0215 - categorical_accuracy: 0.6268\n",
            "Epoch 00005: ReduceLROnPlateau reducing learning rate to 0.00020000000949949026.\n",
            "11/11 [==============================] - 45s 4s/step - loss: 1.0215 - categorical_accuracy: 0.6268 - val_loss: 2.2648 - val_categorical_accuracy: 0.1250\n",
            "Epoch 6/20\n",
            "11/11 [==============================] - 35s 3s/step - loss: 0.9239 - categorical_accuracy: 0.6507 - val_loss: 2.2097 - val_categorical_accuracy: 0.2500\n",
            "Epoch 7/20\n",
            "11/11 [==============================] - 41s 4s/step - loss: 0.6363 - categorical_accuracy: 0.7488 - val_loss: 2.5645 - val_categorical_accuracy: 0.1250\n",
            "Epoch 8/20\n",
            "11/11 [==============================] - 33s 3s/step - loss: 0.6139 - categorical_accuracy: 0.7433 - val_loss: 2.9882 - val_categorical_accuracy: 0.2500\n",
            "Epoch 9/20\n",
            "11/11 [==============================] - ETA: 0s - loss: 0.6413 - categorical_accuracy: 0.7754\n",
            "Epoch 00009: ReduceLROnPlateau reducing learning rate to 4.0000001899898055e-05.\n",
            "11/11 [==============================] - 36s 3s/step - loss: 0.6413 - categorical_accuracy: 0.7754 - val_loss: 1.6653 - val_categorical_accuracy: 0.2500\n",
            "Epoch 10/20\n",
            "11/11 [==============================] - 36s 3s/step - loss: 0.5652 - categorical_accuracy: 0.7968 - val_loss: 2.6042 - val_categorical_accuracy: 0.2500\n",
            "Epoch 11/20\n",
            "11/11 [==============================] - 34s 3s/step - loss: 0.6326 - categorical_accuracy: 0.7701 - val_loss: 4.5920 - val_categorical_accuracy: 0.0000e+00\n",
            "Epoch 12/20\n",
            "11/11 [==============================] - 35s 3s/step - loss: 0.5525 - categorical_accuracy: 0.8075 - val_loss: 3.8006 - val_categorical_accuracy: 0.0000e+00\n",
            "Epoch 13/20\n",
            "11/11 [==============================] - ETA: 0s - loss: 0.4456 - categorical_accuracy: 0.8235\n",
            "Epoch 00013: ReduceLROnPlateau reducing learning rate to 8.000000525498762e-06.\n",
            "11/11 [==============================] - 35s 3s/step - loss: 0.4456 - categorical_accuracy: 0.8235 - val_loss: 2.0557 - val_categorical_accuracy: 0.3750\n",
            "Epoch 14/20\n",
            "11/11 [==============================] - 34s 3s/step - loss: 0.4717 - categorical_accuracy: 0.8449 - val_loss: 3.7242 - val_categorical_accuracy: 0.2500\n",
            "Epoch 15/20\n",
            "11/11 [==============================] - 35s 3s/step - loss: 0.4466 - categorical_accuracy: 0.8289 - val_loss: 4.3422 - val_categorical_accuracy: 0.0000e+00\n",
            "Epoch 16/20\n",
            "11/11 [==============================] - 33s 3s/step - loss: 0.4026 - categorical_accuracy: 0.8984 - val_loss: 3.0487 - val_categorical_accuracy: 0.2500\n",
            "Epoch 17/20\n",
            "11/11 [==============================] - ETA: 0s - loss: 0.4455 - categorical_accuracy: 0.8503\n",
            "Epoch 00017: ReduceLROnPlateau reducing learning rate to 1.6000001778593287e-06.\n",
            "11/11 [==============================] - 36s 3s/step - loss: 0.4455 - categorical_accuracy: 0.8503 - val_loss: 3.2062 - val_categorical_accuracy: 0.2500\n",
            "Epoch 18/20\n",
            "11/11 [==============================] - 34s 3s/step - loss: 0.4897 - categorical_accuracy: 0.8182 - val_loss: 3.2599 - val_categorical_accuracy: 0.0000e+00\n",
            "Epoch 19/20\n",
            "11/11 [==============================] - 35s 3s/step - loss: 0.4569 - categorical_accuracy: 0.8503 - val_loss: 3.7902 - val_categorical_accuracy: 0.1250\n",
            "Epoch 20/20\n",
            "11/11 [==============================] - 33s 3s/step - loss: 0.4954 - categorical_accuracy: 0.8289 - val_loss: 4.3060 - val_categorical_accuracy: 0.1250\n"
          ]
        }
      ],
      "source": [
        "n_frames = 20\n",
        "num_epochs = 20\n",
        "batch_size = 64\n",
        "\n",
        "img_tensor = getImgTensor(n_frames)\n",
        "train_generator = generator(train_path, train_doc, batch_size, img_tensor)\n",
        "val_generator = generator(val_path, val_doc, batch_size, img_tensor)\n",
        "\n",
        "if (num_train_sequences%batch_size) == 0:\n",
        "    steps_per_epoch = int(num_train_sequences/batch_size)\n",
        "else:\n",
        "    steps_per_epoch = (num_train_sequences//batch_size) + 1\n",
        "\n",
        "if (num_val_sequences%batch_size) == 0:\n",
        "    validation_steps = int(num_val_sequences/batch_size)\n",
        "else:\n",
        "    validation_steps = (num_val_sequences//batch_size) + 1\n",
        "    \n",
        "inputShape = (len(img_tensor[0]), img_tensor[1], img_tensor[2], img_tensor[3])\n",
        "\n",
        "model4 = Sequential([\n",
        "    Conv3D(16, make3dFilter(3), padding='same', activation='relu', input_shape=inputShape),\n",
        "    MaxPooling3D(make3dFilter(2), padding='same'),\n",
        "    BatchNormalization(),\n",
        "\n",
        "    Conv3D(32, make3dFilter(3), padding='same', activation='relu'),\n",
        "    MaxPooling3D(pool_size=(2), padding='same'),\n",
        "    BatchNormalization(),\n",
        "\n",
        "    Conv3D(64, make3dFilter(3), padding='same', activation='relu'),\n",
        "    MaxPooling3D(pool_size=(2), padding='same'),\n",
        "    BatchNormalization(),\n",
        "\n",
        "    Conv3D(128, make3dFilter(3), padding='same', activation='relu'),\n",
        "    MaxPooling3D(pool_size=(2), padding='same'),\n",
        "    BatchNormalization(),\n",
        "\n",
        "    Flatten(),\n",
        "    Dense(128, activation='relu'),\n",
        "    BatchNormalization(),\n",
        "    Dropout(0.25),\n",
        "\n",
        "    Dense(64, activation='relu'),\n",
        "    BatchNormalization(),\n",
        "    Dropout(0.25),\n",
        "\n",
        "    Dense(5, activation='softmax')\n",
        "], name=\"conv_3d4\")\n",
        "model4.compile(optimizer=optimizers.Adam(), loss='categorical_crossentropy', metrics=['categorical_accuracy'])\n",
        "print(model4.summary())\n",
        "\n",
        "model4_history = model4.fit_generator(train_generator, steps_per_epoch=steps_per_epoch, epochs=num_epochs, verbose=1, \n",
        "            callbacks=callbacks_list, validation_data=val_generator, \n",
        "            validation_steps=validation_steps, class_weight=None, workers=1, initial_epoch=0)"
      ]
    },
    {
      "cell_type": "code",
      "execution_count": null,
      "metadata": {
        "execution": {
          "iopub.execute_input": "2020-12-30T12:27:11.685576Z",
          "iopub.status.busy": "2020-12-30T12:27:11.684590Z",
          "iopub.status.idle": "2020-12-30T12:27:12.140961Z",
          "shell.execute_reply": "2020-12-30T12:27:12.140385Z"
        },
        "papermill": {
          "duration": 0.951406,
          "end_time": "2020-12-30T12:27:12.141064",
          "exception": false,
          "start_time": "2020-12-30T12:27:11.189658",
          "status": "completed"
        },
        "tags": [],
        "id": "gj3waH1SM6Jw",
        "outputId": "4089f4f2-049d-4b4e-99d5-0042e523a45e"
      },
      "outputs": [
        {
          "data": {
            "image/png": "[encoded data removed]",
            "text/plain": [
              "<Figure size 1080x288 with 2 Axes>"
            ]
          },
          "metadata": {
            "needs_background": "light"
          },
          "output_type": "display_data"
        },
        {
          "name": "stdout",
          "output_type": "stream",
          "text": [
            "Max. Training Accuracy 0.8983957171440125\n",
            "Max. Validaiton Accuracy 0.375\n"
          ]
        }
      ],
      "source": [
        "plotModelHistory(model4_history)"
      ]
    },
    {
      "cell_type": "markdown",
      "metadata": {
        "id": "jd5Nr0nUaR8X",
        "papermill": {
          "duration": 0.37571,
          "end_time": "2020-12-30T12:27:12.918785",
          "exception": false,
          "start_time": "2020-12-30T12:27:12.543075",
          "status": "completed"
        },
        "tags": []
      },
      "source": [
        "### Model 5: Frames:20, Epocs-20, BS-64, reduced kernel to (2,2,2), switching BatchNormalization before MaxPooling."
      ]
    },
    {
      "cell_type": "code",
      "execution_count": null,
      "metadata": {
        "execution": {
          "iopub.execute_input": "2020-12-30T12:27:13.687164Z",
          "iopub.status.busy": "2020-12-30T12:27:13.686143Z",
          "iopub.status.idle": "2020-12-30T12:42:18.145237Z",
          "shell.execute_reply": "2020-12-30T12:42:18.144583Z"
        },
        "id": "wuKTh7-yHs13",
        "outputId": "321c4671-f4b9-4a0a-ed65-5587ff3d92b8",
        "papermill": {
          "duration": 904.859345,
          "end_time": "2020-12-30T12:42:18.145385",
          "exception": false,
          "start_time": "2020-12-30T12:27:13.286040",
          "status": "completed"
        },
        "tags": []
      },
      "outputs": [
        {
          "name": "stdout",
          "output_type": "stream",
          "text": [
            "Model: \"conv_3d5\"\n",
            "_________________________________________________________________\n",
            "Layer (type)                 Output Shape              Param #   \n",
            "=================================================================\n",
            "conv3d_16 (Conv3D)           (None, 20, 100, 100, 16)  400       \n",
            "_________________________________________________________________\n",
            "batch_normalization_26 (Batc (None, 20, 100, 100, 16)  64        \n",
            "_________________________________________________________________\n",
            "max_pooling3d_16 (MaxPooling (None, 10, 50, 50, 16)    0         \n",
            "_________________________________________________________________\n",
            "conv3d_17 (Conv3D)           (None, 10, 50, 50, 32)    4128      \n",
            "_________________________________________________________________\n",
            "batch_normalization_27 (Batc (None, 10, 50, 50, 32)    128       \n",
            "_________________________________________________________________\n",
            "max_pooling3d_17 (MaxPooling (None, 5, 25, 25, 32)     0         \n",
            "_________________________________________________________________\n",
            "conv3d_18 (Conv3D)           (None, 5, 25, 25, 64)     16448     \n",
            "_________________________________________________________________\n",
            "batch_normalization_28 (Batc (None, 5, 25, 25, 64)     256       \n",
            "_________________________________________________________________\n",
            "max_pooling3d_18 (MaxPooling (None, 2, 12, 12, 64)     0         \n",
            "_________________________________________________________________\n",
            "conv3d_19 (Conv3D)           (None, 2, 12, 12, 128)    65664     \n",
            "_________________________________________________________________\n",
            "batch_normalization_29 (Batc (None, 2, 12, 12, 128)    512       \n",
            "_________________________________________________________________\n",
            "max_pooling3d_19 (MaxPooling (None, 1, 6, 6, 128)      0         \n",
            "_________________________________________________________________\n",
            "flatten_5 (Flatten)          (None, 4608)              0         \n",
            "_________________________________________________________________\n",
            "dense_15 (Dense)             (None, 256)               1179904   \n",
            "_________________________________________________________________\n",
            "dense_16 (Dense)             (None, 128)               32896     \n",
            "_________________________________________________________________\n",
            "dense_17 (Dense)             (None, 5)                 645       \n",
            "=================================================================\n",
            "Total params: 1,301,045\n",
            "Trainable params: 1,300,565\n",
            "Non-trainable params: 480\n",
            "_________________________________________________________________\n",
            "None\n",
            "Source path =  ../input/gesture-recognition/train ; batch size = 64\n",
            "Epoch 1/20\n",
            "11/11 [==============================] - ETA: 0s - loss: 3.4375 - categorical_accuracy: 0.3499 Source path =  ../input/gesture-recognition/val ; batch size = 64\n",
            "11/11 [==============================] - 137s 12s/step - loss: 3.4375 - categorical_accuracy: 0.3499 - val_loss: 1.5408 - val_categorical_accuracy: 0.2300\n",
            "Epoch 2/20\n",
            "11/11 [==============================] - 60s 5s/step - loss: 1.0211 - categorical_accuracy: 0.5850 - val_loss: 1.7261 - val_categorical_accuracy: 0.2188\n",
            "Epoch 3/20\n",
            "11/11 [==============================] - 58s 5s/step - loss: 0.9228 - categorical_accuracy: 0.6601 - val_loss: 3.0420 - val_categorical_accuracy: 0.2143\n",
            "Epoch 4/20\n",
            "11/11 [==============================] - 51s 5s/step - loss: 0.8450 - categorical_accuracy: 0.6953 - val_loss: 4.9007 - val_categorical_accuracy: 0.2188\n",
            "Epoch 5/20\n",
            "11/11 [==============================] - ETA: 0s - loss: 0.5165 - categorical_accuracy: 0.8421\n",
            "Epoch 00005: ReduceLROnPlateau reducing learning rate to 0.00020000000949949026.\n",
            "11/11 [==============================] - 49s 4s/step - loss: 0.5165 - categorical_accuracy: 0.8421 - val_loss: 8.2680 - val_categorical_accuracy: 0.1250\n",
            "Epoch 6/20\n",
            "11/11 [==============================] - 36s 3s/step - loss: 0.5870 - categorical_accuracy: 0.7608 - val_loss: 5.8626 - val_categorical_accuracy: 0.2500\n",
            "Epoch 7/20\n",
            "11/11 [==============================] - 38s 3s/step - loss: 0.5565 - categorical_accuracy: 0.8128 - val_loss: 10.6371 - val_categorical_accuracy: 0.0000e+00\n",
            "Epoch 8/20\n",
            "11/11 [==============================] - 33s 3s/step - loss: 0.2776 - categorical_accuracy: 0.9091 - val_loss: 3.7172 - val_categorical_accuracy: 0.5000\n",
            "Epoch 9/20\n",
            "11/11 [==============================] - ETA: 0s - loss: 0.3619 - categorical_accuracy: 0.8877\n",
            "Epoch 00009: ReduceLROnPlateau reducing learning rate to 4.0000001899898055e-05.\n",
            "11/11 [==============================] - 35s 3s/step - loss: 0.3619 - categorical_accuracy: 0.8877 - val_loss: 6.5746 - val_categorical_accuracy: 0.3750\n",
            "Epoch 10/20\n",
            "11/11 [==============================] - 36s 3s/step - loss: 0.3078 - categorical_accuracy: 0.9198 - val_loss: 10.5975 - val_categorical_accuracy: 0.1250\n",
            "Epoch 11/20\n",
            "11/11 [==============================] - 34s 3s/step - loss: 0.2302 - categorical_accuracy: 0.9465 - val_loss: 10.4170 - val_categorical_accuracy: 0.1250\n",
            "Epoch 12/20\n",
            "11/11 [==============================] - 36s 3s/step - loss: 0.1979 - categorical_accuracy: 0.9519 - val_loss: 9.4459 - val_categorical_accuracy: 0.2500\n",
            "Epoch 13/20\n",
            "11/11 [==============================] - ETA: 0s - loss: 0.2531 - categorical_accuracy: 0.9198\n",
            "Epoch 00013: ReduceLROnPlateau reducing learning rate to 8.000000525498762e-06.\n",
            "11/11 [==============================] - 34s 3s/step - loss: 0.2531 - categorical_accuracy: 0.9198 - val_loss: 7.7325 - val_categorical_accuracy: 0.0000e+00\n",
            "Epoch 14/20\n",
            "11/11 [==============================] - 35s 3s/step - loss: 0.2123 - categorical_accuracy: 0.9626 - val_loss: 8.0895 - val_categorical_accuracy: 0.1250\n",
            "Epoch 15/20\n",
            "11/11 [==============================] - 36s 3s/step - loss: 0.1795 - categorical_accuracy: 0.9679 - val_loss: 7.3784 - val_categorical_accuracy: 0.2500\n",
            "Epoch 16/20\n",
            "11/11 [==============================] - 32s 3s/step - loss: 0.1936 - categorical_accuracy: 0.9572 - val_loss: 10.9795 - val_categorical_accuracy: 0.0000e+00\n",
            "Epoch 17/20\n",
            "11/11 [==============================] - ETA: 0s - loss: 0.2147 - categorical_accuracy: 0.9251\n",
            "Epoch 00017: ReduceLROnPlateau reducing learning rate to 1.6000001778593287e-06.\n",
            "11/11 [==============================] - 37s 3s/step - loss: 0.2147 - categorical_accuracy: 0.9251 - val_loss: 8.1629 - val_categorical_accuracy: 0.1250\n",
            "Epoch 18/20\n",
            "11/11 [==============================] - 35s 3s/step - loss: 0.2101 - categorical_accuracy: 0.9519 - val_loss: 13.1245 - val_categorical_accuracy: 0.1250\n",
            "Epoch 19/20\n",
            "11/11 [==============================] - 35s 3s/step - loss: 0.1787 - categorical_accuracy: 0.9412 - val_loss: 5.3662 - val_categorical_accuracy: 0.2500\n",
            "Epoch 20/20\n",
            "11/11 [==============================] - 36s 3s/step - loss: 0.2122 - categorical_accuracy: 0.9412 - val_loss: 8.6099 - val_categorical_accuracy: 0.3750\n"
          ]
        }
      ],
      "source": [
        "n_frames = 20\n",
        "num_epochs = 20\n",
        "batch_size = 64\n",
        "\n",
        "img_tensor = getImgTensor(n_frames)\n",
        "train_generator = generator(train_path, train_doc, batch_size, img_tensor)\n",
        "val_generator = generator(val_path, val_doc, batch_size, img_tensor)\n",
        "\n",
        "if (num_train_sequences%batch_size) == 0:\n",
        "    steps_per_epoch = int(num_train_sequences/batch_size)\n",
        "else:\n",
        "    steps_per_epoch = (num_train_sequences//batch_size) + 1\n",
        "\n",
        "if (num_val_sequences%batch_size) == 0:\n",
        "    validation_steps = int(num_val_sequences/batch_size)\n",
        "else:\n",
        "    validation_steps = (num_val_sequences//batch_size) + 1\n",
        "    \n",
        "inputShape = (len(img_tensor[0]), img_tensor[1], img_tensor[2], img_tensor[3])\n",
        "\n",
        "model5 = Sequential([\n",
        "    Conv3D(16, make3dFilter(2), padding='same', activation='relu', input_shape=inputShape),\n",
        "    BatchNormalization(),\n",
        "    MaxPooling3D(make3dFilter(2)),\n",
        "\n",
        "    Conv3D(32, make3dFilter(2), padding='same', activation='relu'),\n",
        "    BatchNormalization(),\n",
        "    MaxPooling3D(pool_size=(2)),\n",
        "\n",
        "    Conv3D(64, make3dFilter(2), padding='same', activation='relu'),\n",
        "    BatchNormalization(),\n",
        "    MaxPooling3D(pool_size=(2)),\n",
        "\n",
        "    Conv3D(128, make3dFilter(2), padding='same', activation='relu'),\n",
        "    BatchNormalization(),\n",
        "    MaxPooling3D(pool_size=(2)),\n",
        "\n",
        "    Flatten(),\n",
        "    Dense(256, activation='relu'),\n",
        "    # BatchNormalization(),\n",
        "    # Dropout(0.3),\n",
        "\n",
        "    Dense(128, activation='relu'),\n",
        "    # BatchNormalization(),\n",
        "    # Dropout(0.2),\n",
        "\n",
        "    Dense(5, activation='softmax')\n",
        "], name=\"conv_3d5\")\n",
        "model5.compile(optimizer=optimizers.Adam(), loss='categorical_crossentropy', metrics=['categorical_accuracy'])\n",
        "print(model5.summary())\n",
        "\n",
        "model5_history = model5.fit_generator(train_generator, steps_per_epoch=steps_per_epoch, epochs=num_epochs, verbose=1, \n",
        "            callbacks=callbacks_list, validation_data=val_generator, \n",
        "            validation_steps=validation_steps, class_weight=None, workers=1, initial_epoch=0)"
      ]
    },
    {
      "cell_type": "code",
      "execution_count": null,
      "metadata": {
        "execution": {
          "iopub.execute_input": "2020-12-30T12:42:19.083393Z",
          "iopub.status.busy": "2020-12-30T12:42:19.078108Z",
          "iopub.status.idle": "2020-12-30T12:42:19.380190Z",
          "shell.execute_reply": "2020-12-30T12:42:19.379704Z"
        },
        "papermill": {
          "duration": 0.768627,
          "end_time": "2020-12-30T12:42:19.380375",
          "exception": false,
          "start_time": "2020-12-30T12:42:18.611748",
          "status": "completed"
        },
        "tags": [],
        "id": "86bv_ehsM6Jx",
        "outputId": "0157c022-cf81-4791-a70d-77d3f0953a68"
      },
      "outputs": [
        {
          "data": {
            "image/png": "[encoded data removed]",
            "text/plain": [
              "<Figure size 1080x288 with 2 Axes>"
            ]
          },
          "metadata": {
            "needs_background": "light"
          },
          "output_type": "display_data"
        },
        {
          "name": "stdout",
          "output_type": "stream",
          "text": [
            "Max. Training Accuracy 0.9679144620895386\n",
            "Max. Validaiton Accuracy 0.5\n"
          ]
        }
      ],
      "source": [
        "plotModelHistory(model5_history)"
      ]
    },
    {
      "cell_type": "markdown",
      "metadata": {
        "id": "6OFOJQZFcjQW",
        "papermill": {
          "duration": 0.484716,
          "end_time": "2020-12-30T12:42:20.344397",
          "exception": false,
          "start_time": "2020-12-30T12:42:19.859681",
          "status": "completed"
        },
        "tags": []
      },
      "source": [
        "### Model 6: Switching Model architecture to Conv2D+LSTM"
      ]
    },
    {
      "cell_type": "code",
      "execution_count": 49,
      "metadata": {
        "execution": {
          "iopub.execute_input": "2020-12-30T12:42:21.377233Z",
          "iopub.status.busy": "2020-12-30T12:42:21.352399Z",
          "iopub.status.idle": "2020-12-30T13:17:54.330841Z",
          "shell.execute_reply": "2020-12-30T13:17:54.330078Z"
        },
        "id": "QDuEGEx3TTyp",
        "outputId": "3e559ace-bd2d-4090-9694-32199107f2ed",
        "papermill": {
          "duration": 2133.535445,
          "end_time": "2020-12-30T13:17:54.330950",
          "exception": false,
          "start_time": "2020-12-30T12:42:20.795505",
          "status": "completed"
        },
        "tags": [],
        "colab": {
          "base_uri": "https://localhost:8080/"
        }
      },
      "outputs": [
        {
          "output_type": "stream",
          "name": "stdout",
          "text": [
            "Model: \"conv_2d_lstm\"\n",
            "_________________________________________________________________\n",
            " Layer (type)                Output Shape              Param #   \n",
            "=================================================================\n",
            " time_distributed_48 (TimeDi  (None, 20, 100, 100, 16)  448      \n",
            " stributed)                                                      \n",
            "                                                                 \n",
            " time_distributed_49 (TimeDi  (None, 20, 100, 100, 16)  64       \n",
            " stributed)                                                      \n",
            "                                                                 \n",
            " time_distributed_50 (TimeDi  (None, 20, 50, 50, 16)   0         \n",
            " stributed)                                                      \n",
            "                                                                 \n",
            " time_distributed_51 (TimeDi  (None, 20, 50, 50, 32)   4640      \n",
            " stributed)                                                      \n",
            "                                                                 \n",
            " time_distributed_52 (TimeDi  (None, 20, 50, 50, 32)   128       \n",
            " stributed)                                                      \n",
            "                                                                 \n",
            " time_distributed_53 (TimeDi  (None, 20, 25, 25, 32)   0         \n",
            " stributed)                                                      \n",
            "                                                                 \n",
            " time_distributed_54 (TimeDi  (None, 20, 25, 25, 64)   18496     \n",
            " stributed)                                                      \n",
            "                                                                 \n",
            " time_distributed_55 (TimeDi  (None, 20, 25, 25, 64)   256       \n",
            " stributed)                                                      \n",
            "                                                                 \n",
            " time_distributed_56 (TimeDi  (None, 20, 12, 12, 64)   0         \n",
            " stributed)                                                      \n",
            "                                                                 \n",
            " time_distributed_57 (TimeDi  (None, 20, 12, 12, 128)  73856     \n",
            " stributed)                                                      \n",
            "                                                                 \n",
            " time_distributed_58 (TimeDi  (None, 20, 12, 12, 128)  512       \n",
            " stributed)                                                      \n",
            "                                                                 \n",
            " time_distributed_59 (TimeDi  (None, 20, 6, 6, 128)    0         \n",
            " stributed)                                                      \n",
            "                                                                 \n",
            " time_distributed_60 (TimeDi  (None, 20, 6, 6, 256)    295168    \n",
            " stributed)                                                      \n",
            "                                                                 \n",
            " time_distributed_61 (TimeDi  (None, 20, 6, 6, 256)    1024      \n",
            " stributed)                                                      \n",
            "                                                                 \n",
            " time_distributed_62 (TimeDi  (None, 20, 3, 3, 256)    0         \n",
            " stributed)                                                      \n",
            "                                                                 \n",
            " time_distributed_63 (TimeDi  (None, 20, 2304)         0         \n",
            " stributed)                                                      \n",
            "                                                                 \n",
            " lstm_3 (LSTM)               (None, 256)               2622464   \n",
            "                                                                 \n",
            " dropout_14 (Dropout)        (None, 256)               0         \n",
            "                                                                 \n",
            " dense_18 (Dense)            (None, 256)               65792     \n",
            "                                                                 \n",
            " dropout_15 (Dropout)        (None, 256)               0         \n",
            "                                                                 \n",
            " dense_19 (Dense)            (None, 5)                 1285      \n",
            "                                                                 \n",
            "=================================================================\n",
            "Total params: 3,084,133\n",
            "Trainable params: 3,083,141\n",
            "Non-trainable params: 992\n",
            "_________________________________________________________________\n",
            "None\n",
            "Source path =  gesture-recognition/train ; batch size = 32\n",
            "Epoch 1/30\n",
            "21/21 [==============================] - ETA: 0s - loss: 1.3650 - categorical_accuracy: 0.4133 Source path =  gesture-recognition/val ; batch size = 32\n",
            "21/21 [==============================] - 532s 25s/step - loss: 1.3650 - categorical_accuracy: 0.4133 - val_loss: 1.7319 - val_categorical_accuracy: 0.2300 - lr: 0.0010\n",
            "Epoch 2/30\n",
            "21/21 [==============================] - 363s 17s/step - loss: 1.0749 - categorical_accuracy: 0.5611 - val_loss: 2.8776 - val_categorical_accuracy: 0.1875 - lr: 0.0010\n",
            "Epoch 3/30\n",
            "21/21 [==============================] - 314s 15s/step - loss: 1.0079 - categorical_accuracy: 0.6066 - val_loss: 1.8520 - val_categorical_accuracy: 0.2500 - lr: 0.0010\n",
            "Epoch 4/30\n",
            "21/21 [==============================] - 304s 14s/step - loss: 0.8836 - categorical_accuracy: 0.6667 - val_loss: 3.8984 - val_categorical_accuracy: 0.1250 - lr: 0.0010\n",
            "Epoch 5/30\n",
            "21/21 [==============================] - ETA: 0s - loss: 0.7517 - categorical_accuracy: 0.7115 \n",
            "Epoch 5: ReduceLROnPlateau reducing learning rate to 0.00020000000949949026.\n",
            "21/21 [==============================] - 265s 13s/step - loss: 0.7517 - categorical_accuracy: 0.7115 - val_loss: 2.0857 - val_categorical_accuracy: 0.1875 - lr: 0.0010\n",
            "Epoch 6/30\n",
            "21/21 [==============================] - 275s 13s/step - loss: 0.7556 - categorical_accuracy: 0.7255 - val_loss: 2.6304 - val_categorical_accuracy: 0.2500 - lr: 2.0000e-04\n",
            "Epoch 7/30\n",
            "21/21 [==============================] - 272s 13s/step - loss: 0.5369 - categorical_accuracy: 0.7955 - val_loss: 2.7805 - val_categorical_accuracy: 0.1875 - lr: 2.0000e-04\n",
            "Epoch 8/30\n",
            "21/21 [==============================] - 268s 13s/step - loss: 0.5187 - categorical_accuracy: 0.8151 - val_loss: 1.6187 - val_categorical_accuracy: 0.3750 - lr: 2.0000e-04\n",
            "Epoch 9/30\n",
            "21/21 [==============================] - 269s 13s/step - loss: 0.4152 - categorical_accuracy: 0.8627 - val_loss: 2.3706 - val_categorical_accuracy: 0.3125 - lr: 2.0000e-04\n",
            "Epoch 10/30\n",
            "21/21 [==============================] - 260s 12s/step - loss: 0.4447 - categorical_accuracy: 0.8431 - val_loss: 2.7054 - val_categorical_accuracy: 0.1875 - lr: 2.0000e-04\n",
            "Epoch 11/30\n",
            "21/21 [==============================] - 253s 12s/step - loss: 0.3857 - categorical_accuracy: 0.8459 - val_loss: 3.6940 - val_categorical_accuracy: 0.0000e+00 - lr: 2.0000e-04\n",
            "Epoch 12/30\n",
            "21/21 [==============================] - ETA: 0s - loss: 0.3176 - categorical_accuracy: 0.8992 \n",
            "Epoch 12: ReduceLROnPlateau reducing learning rate to 4.0000001899898055e-05.\n",
            "21/21 [==============================] - 255s 12s/step - loss: 0.3176 - categorical_accuracy: 0.8992 - val_loss: 2.6397 - val_categorical_accuracy: 0.3125 - lr: 2.0000e-04\n",
            "Epoch 13/30\n",
            "21/21 [==============================] - 262s 13s/step - loss: 0.2525 - categorical_accuracy: 0.9216 - val_loss: 2.6842 - val_categorical_accuracy: 0.1250 - lr: 4.0000e-05\n",
            "Epoch 14/30\n",
            "21/21 [==============================] - 259s 12s/step - loss: 0.2183 - categorical_accuracy: 0.9356 - val_loss: 2.4127 - val_categorical_accuracy: 0.1875 - lr: 4.0000e-05\n",
            "Epoch 15/30\n",
            "21/21 [==============================] - 263s 13s/step - loss: 0.2230 - categorical_accuracy: 0.9300 - val_loss: 2.7815 - val_categorical_accuracy: 0.1875 - lr: 4.0000e-05\n",
            "Epoch 16/30\n",
            "21/21 [==============================] - ETA: 0s - loss: 0.1813 - categorical_accuracy: 0.9440 \n",
            "Epoch 16: ReduceLROnPlateau reducing learning rate to 8.000000525498762e-06.\n",
            "21/21 [==============================] - 267s 13s/step - loss: 0.1813 - categorical_accuracy: 0.9440 - val_loss: 2.1812 - val_categorical_accuracy: 0.2500 - lr: 4.0000e-05\n",
            "Epoch 17/30\n",
            "21/21 [==============================] - 267s 13s/step - loss: 0.1972 - categorical_accuracy: 0.9552 - val_loss: 2.7706 - val_categorical_accuracy: 0.1875 - lr: 8.0000e-06\n",
            "Epoch 18/30\n",
            "21/21 [==============================] - 266s 13s/step - loss: 0.1842 - categorical_accuracy: 0.9468 - val_loss: 2.6504 - val_categorical_accuracy: 0.2500 - lr: 8.0000e-06\n",
            "Epoch 19/30\n",
            "21/21 [==============================] - 255s 12s/step - loss: 0.2161 - categorical_accuracy: 0.9300 - val_loss: 1.6015 - val_categorical_accuracy: 0.5000 - lr: 8.0000e-06\n",
            "Epoch 20/30\n",
            "21/21 [==============================] - 258s 12s/step - loss: 0.1840 - categorical_accuracy: 0.9440 - val_loss: 2.1563 - val_categorical_accuracy: 0.2500 - lr: 8.0000e-06\n",
            "Epoch 21/30\n",
            "21/21 [==============================] - 261s 13s/step - loss: 0.1618 - categorical_accuracy: 0.9636 - val_loss: 2.3692 - val_categorical_accuracy: 0.3125 - lr: 8.0000e-06\n",
            "Epoch 22/30\n",
            "21/21 [==============================] - 260s 12s/step - loss: 0.1801 - categorical_accuracy: 0.9440 - val_loss: 1.4190 - val_categorical_accuracy: 0.5000 - lr: 8.0000e-06\n",
            "Epoch 23/30\n",
            "21/21 [==============================] - 265s 13s/step - loss: 0.1680 - categorical_accuracy: 0.9636 - val_loss: 1.8564 - val_categorical_accuracy: 0.4375 - lr: 8.0000e-06\n",
            "Epoch 24/30\n",
            "21/21 [==============================] - 256s 12s/step - loss: 0.2083 - categorical_accuracy: 0.9328 - val_loss: 1.2512 - val_categorical_accuracy: 0.6875 - lr: 8.0000e-06\n",
            "Epoch 25/30\n",
            "21/21 [==============================] - 258s 12s/step - loss: 0.1665 - categorical_accuracy: 0.9636 - val_loss: 1.6808 - val_categorical_accuracy: 0.5000 - lr: 8.0000e-06\n",
            "Epoch 26/30\n",
            "21/21 [==============================] - 256s 12s/step - loss: 0.1804 - categorical_accuracy: 0.9552 - val_loss: 2.4306 - val_categorical_accuracy: 0.3750 - lr: 8.0000e-06\n",
            "Epoch 27/30\n",
            "21/21 [==============================] - 257s 12s/step - loss: 0.1650 - categorical_accuracy: 0.9552 - val_loss: 1.0534 - val_categorical_accuracy: 0.6250 - lr: 8.0000e-06\n",
            "Epoch 28/30\n",
            "21/21 [==============================] - 258s 12s/step - loss: 0.1581 - categorical_accuracy: 0.9608 - val_loss: 1.6938 - val_categorical_accuracy: 0.4375 - lr: 8.0000e-06\n",
            "Epoch 29/30\n",
            "21/21 [==============================] - 253s 12s/step - loss: 0.1884 - categorical_accuracy: 0.9412 - val_loss: 1.2528 - val_categorical_accuracy: 0.5625 - lr: 8.0000e-06\n",
            "Epoch 30/30\n",
            "21/21 [==============================] - 257s 12s/step - loss: 0.1705 - categorical_accuracy: 0.9524 - val_loss: 0.9651 - val_categorical_accuracy: 0.7500 - lr: 8.0000e-06\n"
          ]
        }
      ],
      "source": [
        "n_frames = 20\n",
        "num_epochs = 30\n",
        "batch_size = 32\n",
        "\n",
        "img_tensor = getImgTensor(n_frames)\n",
        "train_generator = generator(train_path, train_doc, batch_size, img_tensor)\n",
        "val_generator = generator(val_path, val_doc, batch_size, img_tensor)\n",
        "\n",
        "if (num_train_sequences%batch_size) == 0:\n",
        "    steps_per_epoch = int(num_train_sequences/batch_size)\n",
        "else:\n",
        "    steps_per_epoch = (num_train_sequences//batch_size) + 1\n",
        "\n",
        "if (num_val_sequences%batch_size) == 0:\n",
        "    validation_steps = int(num_val_sequences/batch_size)\n",
        "else:\n",
        "    validation_steps = (num_val_sequences//batch_size) + 1\n",
        "    \n",
        "inputShape = (len(img_tensor[0]), img_tensor[1], img_tensor[2], img_tensor[3])\n",
        "\n",
        "model6 = Sequential([\n",
        "    TimeDistributed(Conv2D(16, make2dFilter(3), padding='same', activation='relu'), input_shape=inputShape),\n",
        "    TimeDistributed(BatchNormalization()),\n",
        "    TimeDistributed(MaxPooling2D(make2dFilter(2))),\n",
        "\n",
        "    TimeDistributed(Conv2D(32, make2dFilter(3), padding='same', activation='relu')),\n",
        "    TimeDistributed(BatchNormalization()),\n",
        "    TimeDistributed(MaxPooling2D(make2dFilter(2))),\n",
        "\n",
        "    TimeDistributed(Conv2D(64, make2dFilter(3), padding='same', activation='relu')),\n",
        "    TimeDistributed(BatchNormalization()),\n",
        "    TimeDistributed(MaxPooling2D(make2dFilter(2))),\n",
        "\n",
        "    TimeDistributed(Conv2D(128, make2dFilter(3), padding='same', activation='relu')),\n",
        "    TimeDistributed(BatchNormalization()),\n",
        "    TimeDistributed(MaxPooling2D(make2dFilter(2))),\n",
        "\n",
        "    TimeDistributed(Conv2D(256, make2dFilter(3), padding='same', activation='relu')),\n",
        "    TimeDistributed(BatchNormalization()),\n",
        "    TimeDistributed(MaxPooling2D(make2dFilter(2))),\n",
        "\n",
        "    TimeDistributed(Flatten()),\n",
        "    LSTM(256),\n",
        "    Dropout(0.2),\n",
        "\n",
        "    Dense(256, activation='relu'),\n",
        "    Dropout(0.2),\n",
        "\n",
        "    Dense(5, activation='softmax')\n",
        "], name=\"conv_2d_lstm\")\n",
        "model6.compile(optimizer=tf.keras.optimizers.Adam(), loss='categorical_crossentropy', metrics=['categorical_accuracy'])\n",
        "print(model6.summary())\n",
        "\n",
        "model6_history = model6.fit_generator(train_generator, steps_per_epoch=steps_per_epoch, epochs=num_epochs, verbose=1, \n",
        "            callbacks=callbacks_list, validation_data=val_generator, \n",
        "            validation_steps=validation_steps, class_weight=None, workers=1, initial_epoch=0)"
      ]
    },
    {
      "cell_type": "code",
      "execution_count": null,
      "metadata": {
        "execution": {
          "iopub.execute_input": "2020-12-30T13:17:55.610592Z",
          "iopub.status.busy": "2020-12-30T13:17:55.609155Z",
          "iopub.status.idle": "2020-12-30T13:17:55.888944Z",
          "shell.execute_reply": "2020-12-30T13:17:55.888159Z"
        },
        "papermill": {
          "duration": 0.926799,
          "end_time": "2020-12-30T13:17:55.889071",
          "exception": false,
          "start_time": "2020-12-30T13:17:54.962272",
          "status": "completed"
        },
        "tags": [],
        "id": "uCLyqWJvM6Jy",
        "outputId": "6dbff011-4c74-4dfe-cc4b-3708b6e25161"
      },
      "outputs": [
        {
          "data": {
            "image/png": "[encoded data removed]",
            "text/plain": [
              "<Figure size 1080x288 with 2 Axes>"
            ]
          },
          "metadata": {
            "needs_background": "light"
          },
          "output_type": "display_data"
        },
        {
          "name": "stdout",
          "output_type": "stream",
          "text": [
            "Max. Training Accuracy 0.9327731132507324\n",
            "Max. Validaiton Accuracy 0.6875\n"
          ]
        }
      ],
      "source": [
        "plotModelHistory(model6_history)"
      ]
    },
    {
      "cell_type": "markdown",
      "metadata": {
        "id": "skhLjh_vyXfR",
        "papermill": {
          "duration": 0.635548,
          "end_time": "2020-12-30T13:17:57.159194",
          "exception": false,
          "start_time": "2020-12-30T13:17:56.523646",
          "status": "completed"
        },
        "tags": []
      },
      "source": [
        "### Model 7: Transfer Learning (MobileNet) with LSTM"
      ]
    },
    {
      "cell_type": "code",
      "execution_count": null,
      "metadata": {
        "execution": {
          "iopub.execute_input": "2020-12-30T13:17:58.434228Z",
          "iopub.status.busy": "2020-12-30T13:17:58.432956Z",
          "iopub.status.idle": "2020-12-30T13:17:58.435250Z",
          "shell.execute_reply": "2020-12-30T13:17:58.435802Z"
        },
        "id": "6o_v7A10vBKd",
        "papermill": {
          "duration": 0.635537,
          "end_time": "2020-12-30T13:17:58.435917",
          "exception": false,
          "start_time": "2020-12-30T13:17:57.800380",
          "status": "completed"
        },
        "tags": []
      },
      "outputs": [],
      "source": [
        "from tensorflow.keras.applications import mobilenet"
      ]
    },
    {
      "cell_type": "code",
      "execution_count": null,
      "metadata": {
        "execution": {
          "iopub.execute_input": "2020-12-30T13:17:59.705227Z",
          "iopub.status.busy": "2020-12-30T13:17:59.698364Z",
          "iopub.status.idle": "2020-12-30T13:38:54.927398Z",
          "shell.execute_reply": "2020-12-30T13:38:54.928097Z"
        },
        "id": "1o8quf9byzns",
        "outputId": "b4df59a3-3fe9-4cdd-ba7d-9dc69515603d",
        "papermill": {
          "duration": 1255.865789,
          "end_time": "2020-12-30T13:38:54.928343",
          "exception": false,
          "start_time": "2020-12-30T13:17:59.062554",
          "status": "completed"
        },
        "scrolled": false,
        "tags": []
      },
      "outputs": [
        {
          "name": "stdout",
          "output_type": "stream",
          "text": [
            "Downloading data from https://storage.googleapis.com/tensorflow/keras-applications/mobilenet/mobilenet_1_0_224_tf_no_top.h5\n",
            "17227776/17225924 [==============================] - 1s 0us/step\n",
            "Model: \"mobilenet_lstm\"\n",
            "_________________________________________________________________\n",
            "Layer (type)                 Output Shape              Param #   \n",
            "=================================================================\n",
            "time_distributed_16 (TimeDis (None, 20, 3, 3, 1024)    3228864   \n",
            "_________________________________________________________________\n",
            "time_distributed_17 (TimeDis (None, 20, 3, 3, 1024)    4096      \n",
            "_________________________________________________________________\n",
            "time_distributed_18 (TimeDis (None, 20, 1, 1, 1024)    0         \n",
            "_________________________________________________________________\n",
            "time_distributed_19 (TimeDis (None, 20, 1024)          0         \n",
            "_________________________________________________________________\n",
            "lstm_1 (LSTM)                (None, 256)               1311744   \n",
            "_________________________________________________________________\n",
            "dropout_12 (Dropout)         (None, 256)               0         \n",
            "_________________________________________________________________\n",
            "dense_20 (Dense)             (None, 256)               65792     \n",
            "_________________________________________________________________\n",
            "dropout_13 (Dropout)         (None, 256)               0         \n",
            "_________________________________________________________________\n",
            "dense_21 (Dense)             (None, 5)                 1285      \n",
            "=================================================================\n",
            "Total params: 4,611,781\n",
            "Trainable params: 1,380,869\n",
            "Non-trainable params: 3,230,912\n",
            "_________________________________________________________________\n",
            "None\n",
            "Source path =  ../input/gesture-recognition/train ; batch size = 64\n",
            "Epoch 1/30\n",
            "11/11 [==============================] - ETA: 0s - loss: 1.3842 - categorical_accuracy: 0.4268 Source path =  ../input/gesture-recognition/val ; batch size = 64\n",
            "11/11 [==============================] - 138s 13s/step - loss: 1.3842 - categorical_accuracy: 0.4268 - val_loss: 1.1187 - val_categorical_accuracy: 0.5400\n",
            "Epoch 2/30\n",
            "11/11 [==============================] - 63s 6s/step - loss: 0.6846 - categorical_accuracy: 0.7787 - val_loss: 0.9801 - val_categorical_accuracy: 0.5625\n",
            "Epoch 3/30\n",
            "11/11 [==============================] - 59s 5s/step - loss: 0.5688 - categorical_accuracy: 0.7708 - val_loss: 1.0071 - val_categorical_accuracy: 0.6250\n",
            "Epoch 4/30\n",
            "11/11 [==============================] - 48s 4s/step - loss: 0.4224 - categorical_accuracy: 0.8584 - val_loss: 1.2240 - val_categorical_accuracy: 0.5000\n",
            "Epoch 5/30\n",
            "11/11 [==============================] - 46s 4s/step - loss: 0.2142 - categorical_accuracy: 0.9234 - val_loss: 1.2513 - val_categorical_accuracy: 0.5625\n",
            "Epoch 6/30\n",
            "11/11 [==============================] - 39s 4s/step - loss: 0.2088 - categorical_accuracy: 0.9330 - val_loss: 0.4280 - val_categorical_accuracy: 0.7500\n",
            "Epoch 7/30\n",
            "11/11 [==============================] - 37s 3s/step - loss: 0.2461 - categorical_accuracy: 0.9212 - val_loss: 0.7477 - val_categorical_accuracy: 0.7500\n",
            "Epoch 8/30\n",
            "11/11 [==============================] - 35s 3s/step - loss: 0.1226 - categorical_accuracy: 0.9572 - val_loss: 1.1751 - val_categorical_accuracy: 0.7500\n",
            "Epoch 9/30\n",
            "11/11 [==============================] - 35s 3s/step - loss: 0.1622 - categorical_accuracy: 0.9465 - val_loss: 1.6465 - val_categorical_accuracy: 0.6250\n",
            "Epoch 10/30\n",
            "11/11 [==============================] - ETA: 0s - loss: 0.0908 - categorical_accuracy: 0.9840\n",
            "Epoch 00010: ReduceLROnPlateau reducing learning rate to 0.00020000000949949026.\n",
            "11/11 [==============================] - 33s 3s/step - loss: 0.0908 - categorical_accuracy: 0.9840 - val_loss: 1.1124 - val_categorical_accuracy: 0.7500\n",
            "Epoch 11/30\n",
            "11/11 [==============================] - 33s 3s/step - loss: 0.1037 - categorical_accuracy: 0.9626 - val_loss: 0.8097 - val_categorical_accuracy: 0.7500\n",
            "Epoch 12/30\n",
            "11/11 [==============================] - 35s 3s/step - loss: 0.0395 - categorical_accuracy: 0.9947 - val_loss: 0.5488 - val_categorical_accuracy: 0.7500\n",
            "Epoch 13/30\n",
            "11/11 [==============================] - 33s 3s/step - loss: 0.0581 - categorical_accuracy: 0.9840 - val_loss: 1.6039 - val_categorical_accuracy: 0.6250\n",
            "Epoch 14/30\n",
            "11/11 [==============================] - 36s 3s/step - loss: 0.0534 - categorical_accuracy: 0.9893 - val_loss: 0.2410 - val_categorical_accuracy: 0.8750\n",
            "Epoch 15/30\n",
            "11/11 [==============================] - 33s 3s/step - loss: 0.0239 - categorical_accuracy: 0.9893 - val_loss: 1.2562 - val_categorical_accuracy: 0.5000\n",
            "Epoch 16/30\n",
            "11/11 [==============================] - 36s 3s/step - loss: 0.0221 - categorical_accuracy: 1.0000 - val_loss: 0.9652 - val_categorical_accuracy: 0.7500\n",
            "Epoch 17/30\n",
            "11/11 [==============================] - 36s 3s/step - loss: 0.0193 - categorical_accuracy: 1.0000 - val_loss: 0.8175 - val_categorical_accuracy: 0.8750\n",
            "Epoch 18/30\n",
            "11/11 [==============================] - ETA: 0s - loss: 0.0294 - categorical_accuracy: 0.9947\n",
            "Epoch 00018: ReduceLROnPlateau reducing learning rate to 4.0000001899898055e-05.\n",
            "11/11 [==============================] - 35s 3s/step - loss: 0.0294 - categorical_accuracy: 0.9947 - val_loss: 1.1473 - val_categorical_accuracy: 0.6250\n",
            "Epoch 19/30\n",
            "11/11 [==============================] - 33s 3s/step - loss: 0.0204 - categorical_accuracy: 1.0000 - val_loss: 0.5317 - val_categorical_accuracy: 0.7500\n",
            "Epoch 20/30\n",
            "11/11 [==============================] - 33s 3s/step - loss: 0.0135 - categorical_accuracy: 1.0000 - val_loss: 0.7916 - val_categorical_accuracy: 0.7500\n",
            "Epoch 21/30\n",
            "11/11 [==============================] - 34s 3s/step - loss: 0.0134 - categorical_accuracy: 1.0000 - val_loss: 1.0059 - val_categorical_accuracy: 0.5000\n",
            "Epoch 22/30\n",
            "11/11 [==============================] - ETA: 0s - loss: 0.0163 - categorical_accuracy: 1.0000\n",
            "Epoch 00022: ReduceLROnPlateau reducing learning rate to 8.000000525498762e-06.\n",
            "11/11 [==============================] - 34s 3s/step - loss: 0.0163 - categorical_accuracy: 1.0000 - val_loss: 1.1556 - val_categorical_accuracy: 0.7500\n",
            "Epoch 23/30\n",
            "11/11 [==============================] - 34s 3s/step - loss: 0.0114 - categorical_accuracy: 1.0000 - val_loss: 1.5596 - val_categorical_accuracy: 0.5000\n",
            "Epoch 24/30\n",
            "11/11 [==============================] - 37s 3s/step - loss: 0.0232 - categorical_accuracy: 0.9947 - val_loss: 1.9818 - val_categorical_accuracy: 0.5000\n",
            "Epoch 25/30\n",
            "11/11 [==============================] - 34s 3s/step - loss: 0.0149 - categorical_accuracy: 1.0000 - val_loss: 0.6685 - val_categorical_accuracy: 0.7500\n",
            "Epoch 26/30\n",
            "11/11 [==============================] - ETA: 0s - loss: 0.0098 - categorical_accuracy: 1.0000\n",
            "Epoch 00026: ReduceLROnPlateau reducing learning rate to 1.6000001778593287e-06.\n",
            "11/11 [==============================] - 34s 3s/step - loss: 0.0098 - categorical_accuracy: 1.0000 - val_loss: 0.6833 - val_categorical_accuracy: 0.7500\n",
            "Epoch 27/30\n",
            "11/11 [==============================] - 33s 3s/step - loss: 0.0137 - categorical_accuracy: 1.0000 - val_loss: 0.6470 - val_categorical_accuracy: 0.7500\n",
            "Epoch 28/30\n",
            "11/11 [==============================] - 34s 3s/step - loss: 0.0179 - categorical_accuracy: 1.0000 - val_loss: 1.5729 - val_categorical_accuracy: 0.5000\n",
            "Epoch 29/30\n",
            "11/11 [==============================] - 34s 3s/step - loss: 0.0168 - categorical_accuracy: 1.0000 - val_loss: 1.6321 - val_categorical_accuracy: 0.7500\n",
            "Epoch 30/30\n",
            "11/11 [==============================] - ETA: 0s - loss: 0.0137 - categorical_accuracy: 1.0000\n",
            "Epoch 00030: ReduceLROnPlateau reducing learning rate to 3.200000264769187e-07.\n",
            "11/11 [==============================] - 33s 3s/step - loss: 0.0137 - categorical_accuracy: 1.0000 - val_loss: 0.3232 - val_categorical_accuracy: 0.8750\n"
          ]
        }
      ],
      "source": [
        "mobilenet = mobilenet.MobileNet(weights='imagenet', include_top=False)\n",
        "\n",
        "n_frames = 20\n",
        "num_epochs = 30\n",
        "batch_size = 64\n",
        "\n",
        "img_tensor = getImgTensor(n_frames)\n",
        "train_generator = generator(train_path, train_doc, batch_size, img_tensor)\n",
        "val_generator = generator(val_path, val_doc, batch_size, img_tensor)\n",
        "\n",
        "if (num_train_sequences%batch_size) == 0:\n",
        "    steps_per_epoch = int(num_train_sequences/batch_size)\n",
        "else:\n",
        "    steps_per_epoch = (num_train_sequences//batch_size) + 1\n",
        "\n",
        "if (num_val_sequences%batch_size) == 0:\n",
        "    validation_steps = int(num_val_sequences/batch_size)\n",
        "else:\n",
        "    validation_steps = (num_val_sequences//batch_size) + 1\n",
        "    \n",
        "inputShape = (len(img_tensor[0]), img_tensor[1], img_tensor[2], img_tensor[3])\n",
        "\n",
        "model7 = Sequential([\n",
        "    TimeDistributed(mobilenet, input_shape=inputShape)\n",
        "], name=\"mobilenet_lstm\")\n",
        "\n",
        "for layer in model7.layers:\n",
        "    layer.trainable = False\n",
        "\n",
        "model7.add(TimeDistributed(BatchNormalization()))\n",
        "model7.add(TimeDistributed(MaxPooling2D(make2dFilter(2))))\n",
        "model7.add(TimeDistributed(Flatten()))\n",
        "\n",
        "model7.add(LSTM(256))\n",
        "model7.add(Dropout(0.2))\n",
        "\n",
        "model7.add(Dense(256,activation='relu'))\n",
        "model7.add(Dropout(0.2))\n",
        "\n",
        "model7.add(Dense(5, activation='softmax'))\n",
        "\n",
        "model7.compile(optimizer=optimizers.Adam(), loss='categorical_crossentropy', metrics=['categorical_accuracy'])\n",
        "print(model7.summary())\n",
        "\n",
        "model7_history = model7.fit_generator(train_generator, steps_per_epoch=steps_per_epoch, epochs=num_epochs, verbose=1, \n",
        "            callbacks=callbacks_list, validation_data=val_generator, \n",
        "            validation_steps=validation_steps, class_weight=None, workers=1, initial_epoch=0)"
      ]
    },
    {
      "cell_type": "code",
      "execution_count": null,
      "metadata": {
        "execution": {
          "iopub.execute_input": "2020-12-30T13:38:56.694837Z",
          "iopub.status.busy": "2020-12-30T13:38:56.693634Z",
          "iopub.status.idle": "2020-12-30T13:38:56.988275Z",
          "shell.execute_reply": "2020-12-30T13:38:56.987618Z"
        },
        "papermill": {
          "duration": 1.153986,
          "end_time": "2020-12-30T13:38:56.988440",
          "exception": false,
          "start_time": "2020-12-30T13:38:55.834454",
          "status": "completed"
        },
        "tags": [],
        "id": "LdFS--6wM6Jz",
        "outputId": "3acc6a76-b800-4448-b3a9-c9f6c49d1608"
      },
      "outputs": [
        {
          "data": {
            "image/png": "[encoded data removed]",
            "text/plain": [
              "<Figure size 1080x288 with 2 Axes>"
            ]
          },
          "metadata": {
            "needs_background": "light"
          },
          "output_type": "display_data"
        },
        {
          "name": "stdout",
          "output_type": "stream",
          "text": [
            "Max. Training Accuracy 1.0\n",
            "Max. Validaiton Accuracy 0.875\n"
          ]
        }
      ],
      "source": [
        "plotModelHistory(model7_history)"
      ]
    },
    {
      "cell_type": "code",
      "source": [],
      "metadata": {
        "id": "mIlQiX6Prw_p"
      },
      "execution_count": null,
      "outputs": []
    }
  ],
  "metadata": {
    "kernelspec": {
      "display_name": "Python 3",
      "language": "python",
      "name": "python3"
    },
    "language_info": {
      "codemirror_mode": {
        "name": "ipython",
        "version": 3
      },
      "file_extension": ".py",
      "mimetype": "text/x-python",
      "name": "python",
      "nbconvert_exporter": "python",
      "pygments_lexer": "ipython3",
      "version": "3.7.6"
    },
    "papermill": {
      "duration": 9375.075711,
      "end_time": "2020-12-30T13:38:59.003426",
      "environment_variables": {},
      "exception": null,
      "input_path": "__notebook__.ipynb",
      "output_path": "__notebook__.ipynb",
      "parameters": {},
      "start_time": "2020-12-30T11:02:43.927715",
      "version": "2.1.0"
    },
    "colab": {
      "provenance": []
    }
  },
  "nbformat": 4,
  "nbformat_minor": 0
}