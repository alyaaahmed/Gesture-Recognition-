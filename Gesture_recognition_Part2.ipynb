{
  "metadata": {
    "kernelspec": {
      "language": "python",
      "display_name": "Python 3",
      "name": "python3"
    },
    "language_info": {
      "name": "python",
      "version": "3.7.10",
      "mimetype": "text/x-python",
      "codemirror_mode": {
        "name": "ipython",
        "version": 3
      },
      "pygments_lexer": "ipython3",
      "nbconvert_exporter": "python",
      "file_extension": ".py"
    },
    "colab": {
      "provenance": [],
      "collapsed_sections": [
        "Pur_SM5qAKc_",
        "jcDRIsomAKc_",
        "3o2EC9jnAKdA",
        "dN2fMkEzAKdB"
      ]
    }
  },
  "nbformat_minor": 0,
  "nbformat": 4,
  "cells": [
    {
      "cell_type": "markdown",
      "source": [
        "# Gesture Recognition part2\n",
        "\n",
        "\n"
      ],
      "metadata": {
        "id": "CEylTZzdAKch"
      }
    },
    {
      "cell_type": "code",
      "source": [],
      "metadata": {
        "execution": {
          "iopub.status.busy": "2021-10-15T06:28:12.276339Z",
          "iopub.execute_input": "2021-10-15T06:28:12.276697Z",
          "iopub.status.idle": "2021-10-15T06:28:15.065554Z",
          "shell.execute_reply.started": "2021-10-15T06:28:12.276580Z",
          "shell.execute_reply": "2021-10-15T06:28:15.064795Z"
        },
        "trusted": true,
        "id": "h0Nh_qfyAKcn"
      },
      "execution_count": null,
      "outputs": []
    },
    {
      "cell_type": "code",
      "source": [
        "import numpy as np\n",
        "import os\n",
        "from imageio import imread\n",
        "from skimage.transform import resize\n",
        "import datetime\n",
        "from collections import deque\n",
        "import copy\n",
        "\n",
        "import pandas as pd\n",
        "\n",
        "import PIL\n",
        "import cv2\n",
        "import numpy as np\n",
        "import pandas as pd  \n",
        "import os\n",
        "import tensorflow as tf\n",
        "from tensorflow import keras\n",
        "from tensorflow.keras import layers\n",
        "from tensorflow.keras.preprocessing.image import ImageDataGenerator\n",
        "from tensorflow.keras.models import Sequential\n",
        "from tensorflow.keras.layers import Dense, Dropout, Activation, Flatten\n",
        "from tensorflow.keras.layers import BatchNormalization\n",
        "from tensorflow.keras.layers import Conv2D, MaxPooling2D\n",
        "from tensorflow.keras.regularizers import l2\n",
        "\n",
        "import matplotlib.pyplot as plt\n",
        "import seaborn as sns\n",
        "%matplotlib inline\n",
        "\n",
        "from glob import glob\n",
        "\n",
        "# hide warnings\n",
        "import warnings\n",
        "warnings.filterwarnings('ignore')\n",
        "\n",
        "# set options\n",
        "pd.set_option('display.max_columns', None)\n",
        "pd.set_option('display.max_rows', None)"
      ],
      "metadata": {
        "execution": {
          "iopub.status.busy": "2021-10-15T06:28:15.068967Z",
          "iopub.execute_input": "2021-10-15T06:28:15.069573Z",
          "iopub.status.idle": "2021-10-15T06:28:21.104688Z",
          "shell.execute_reply.started": "2021-10-15T06:28:15.069541Z",
          "shell.execute_reply": "2021-10-15T06:28:21.104000Z"
        },
        "trusted": true,
        "id": "ucHAayJ9AKcp"
      },
      "execution_count": null,
      "outputs": []
    },
    {
      "cell_type": "code",
      "source": [
        "from google.colab import drive\n",
        "drive.mount('/content/drive')"
      ],
      "metadata": {
        "colab": {
          "base_uri": "https://localhost:8080/"
        },
        "id": "K1ojHlhMgSW0",
        "outputId": "798ecee3-468e-4380-90c3-cdf81cf05bc5"
      },
      "execution_count": null,
      "outputs": [
        {
          "output_type": "stream",
          "name": "stdout",
          "text": [
            "Mounted at /content/drive\n"
          ]
        }
      ]
    },
    {
      "cell_type": "markdown",
      "source": [
        "# About Dataset"
      ],
      "metadata": {
        "id": "CbJ220ewfaTV"
      }
    },
    {
      "cell_type": "markdown",
      "source": [
        "\n",
        "This dataset has 5 gestures having 30 frames in sequence for each sample.\n",
        "\n",
        "Each gesture corresponds to the following specific command:\n",
        "\n",
        "Thumbs up: Increase the volume\n",
        "Thumbs down: Decrease the volume\n",
        "Left swipe: 'Jump' backward 10 seconds\n",
        "Right swipe: 'Jump' forward 10 seconds\n",
        "Stop: Pause the movie\n",
        "Each video is a sequence of 30 frames (or images).\n",
        "\n",
        "The data contains a 'train' and a 'val' folder with two CSV files for the two folders. These folders are in turn divided into subfolders where each subfolder represents a video of a particular gesture. Each subfolder, i.e. a video, contains 30 frames (or images). Note that all images in a particular video subfolder have the same dimensions but different videos may have different dimensions. Specifically, videos have two types of dimensions - either 360x360 or 120x160 (depending on the webcam used to record the videos).\n",
        "\n",
        "Each row of the CSV file represents one video and contains three main pieces of information - the name of the subfolder containing the 30 images of the video sample (gesture), the name of the gesture, and the numeric label (between 0-4) of the video."
      ],
      "metadata": {
        "id": "AJOsUtXSAKcq"
      }
    },
    {
      "cell_type": "markdown",
      "source": [
        "Read the folder names for training and validation. "
      ],
      "metadata": {
        "id": "8rvDjikkfcaN"
      }
    },
    {
      "cell_type": "code",
      "source": [],
      "metadata": {
        "id": "cJl_wg1Vfxb1"
      },
      "execution_count": null,
      "outputs": []
    },
    {
      "cell_type": "markdown",
      "source": [],
      "metadata": {
        "id": "Us5MVP8Nfu2I"
      }
    },
    {
      "cell_type": "markdown",
      "source": [],
      "metadata": {
        "id": "Od3sg49ffu5h"
      }
    },
    {
      "cell_type": "markdown",
      "source": [],
      "metadata": {
        "id": "dk54fAoofu8t"
      }
    },
    {
      "cell_type": "code",
      "source": [
        "np.random.seed(30)\n",
        "import random as rn\n",
        "rn.seed(30)\n",
        "from tensorflow import keras\n",
        "import tensorflow as tf\n",
        "tf.random.set_seed(30)"
      ],
      "metadata": {
        "execution": {
          "iopub.status.busy": "2021-10-15T06:28:21.105874Z",
          "iopub.execute_input": "2021-10-15T06:28:21.106165Z",
          "iopub.status.idle": "2021-10-15T06:28:21.115007Z",
          "shell.execute_reply.started": "2021-10-15T06:28:21.106129Z",
          "shell.execute_reply": "2021-10-15T06:28:21.111766Z"
        },
        "trusted": true,
        "id": "ja1TOBVVAKcr"
      },
      "execution_count": null,
      "outputs": []
    },
    {
      "cell_type": "code",
      "source": [
        "!pip install opendatasets"
      ],
      "metadata": {
        "colab": {
          "base_uri": "https://localhost:8080/"
        },
        "id": "vlbrHg9SAdpE",
        "outputId": "c5072af3-49b0-4e4d-f3c9-bcebe3347a0e"
      },
      "execution_count": null,
      "outputs": [
        {
          "output_type": "stream",
          "name": "stdout",
          "text": [
            "Looking in indexes: https://pypi.org/simple, https://us-python.pkg.dev/colab-wheels/public/simple/\n",
            "Collecting opendatasets\n",
            "  Downloading opendatasets-0.1.22-py3-none-any.whl (15 kB)\n",
            "Requirement already satisfied: tqdm in /usr/local/lib/python3.7/dist-packages (from opendatasets) (4.64.1)\n",
            "Requirement already satisfied: kaggle in /usr/local/lib/python3.7/dist-packages (from opendatasets) (1.5.12)\n",
            "Requirement already satisfied: click in /usr/local/lib/python3.7/dist-packages (from opendatasets) (7.1.2)\n",
            "Requirement already satisfied: urllib3 in /usr/local/lib/python3.7/dist-packages (from kaggle->opendatasets) (1.24.3)\n",
            "Requirement already satisfied: six>=1.10 in /usr/local/lib/python3.7/dist-packages (from kaggle->opendatasets) (1.15.0)\n",
            "Requirement already satisfied: python-slugify in /usr/local/lib/python3.7/dist-packages (from kaggle->opendatasets) (6.1.2)\n",
            "Requirement already satisfied: certifi in /usr/local/lib/python3.7/dist-packages (from kaggle->opendatasets) (2022.6.15)\n",
            "Requirement already satisfied: requests in /usr/local/lib/python3.7/dist-packages (from kaggle->opendatasets) (2.23.0)\n",
            "Requirement already satisfied: python-dateutil in /usr/local/lib/python3.7/dist-packages (from kaggle->opendatasets) (2.8.2)\n",
            "Requirement already satisfied: text-unidecode>=1.3 in /usr/local/lib/python3.7/dist-packages (from python-slugify->kaggle->opendatasets) (1.3)\n",
            "Requirement already satisfied: idna<3,>=2.5 in /usr/local/lib/python3.7/dist-packages (from requests->kaggle->opendatasets) (2.10)\n",
            "Requirement already satisfied: chardet<4,>=3.0.2 in /usr/local/lib/python3.7/dist-packages (from requests->kaggle->opendatasets) (3.0.4)\n",
            "Installing collected packages: opendatasets\n",
            "Successfully installed opendatasets-0.1.22\n"
          ]
        }
      ]
    },
    {
      "cell_type": "code",
      "source": [
        "import opendatasets as od\n",
        "od.download(\"https://www.kaggle.com/datasets/imsparsh/gesture-recognition\")"
      ],
      "metadata": {
        "colab": {
          "base_uri": "https://localhost:8080/"
        },
        "id": "pFUiPlI2Ad_j",
        "outputId": "b436a10e-e7d8-44e7-9e9a-689e43dcfa7f"
      },
      "execution_count": null,
      "outputs": [
        {
          "output_type": "stream",
          "name": "stdout",
          "text": [
            "Please provide your Kaggle credentials to download this dataset. Learn more: http://bit.ly/kaggle-creds\n",
            "Your Kaggle username: alyaaselim\n",
            "Your Kaggle Key: ··········\n",
            "Downloading gesture-recognition.zip to ./gesture-recognition\n"
          ]
        },
        {
          "output_type": "stream",
          "name": "stderr",
          "text": [
            "100%|██████████| 1.60G/1.60G [00:12<00:00, 133MB/s]\n"
          ]
        },
        {
          "output_type": "stream",
          "name": "stdout",
          "text": [
            "\n"
          ]
        }
      ]
    },
    {
      "cell_type": "markdown",
      "source": [
        "In this block, you read the folder names for training and validation. You also set the `batch_size` here. Note that you set the batch size in such a way that you are able to use the GPU in full capacity. You keep increasing the batch size until the machine throws an error."
      ],
      "metadata": {
        "id": "GiU1Lri_AKcs"
      }
    },
    {
      "cell_type": "code",
      "source": [
        "train_doc = np.random.permutation(open('gesture-recognition/train.csv').readlines())\n",
        "val_doc = np.random.permutation(open('gesture-recognition/val.csv').readlines())\n",
        "batch_size = 32\n",
        "img_size = 100"
      ],
      "metadata": {
        "execution": {
          "iopub.status.busy": "2021-10-15T06:28:21.117646Z",
          "iopub.execute_input": "2021-10-15T06:28:21.117940Z",
          "iopub.status.idle": "2021-10-15T06:28:21.140597Z",
          "shell.execute_reply.started": "2021-10-15T06:28:21.117904Z",
          "shell.execute_reply": "2021-10-15T06:28:21.139969Z"
        },
        "trusted": true,
        "id": "L228sLdOAKct"
      },
      "execution_count": null,
      "outputs": []
    },
    {
      "cell_type": "markdown",
      "source": [
        "After lot of analysis and experimentation we found that the ideal batch size, frames_per_video and image size to be used are :<br>\n",
        "##### batch_size = 32<br>\n",
        "##### image_size = 100 x 100<br>\n",
        "##### frames_per_video = 20<br>"
      ],
      "metadata": {
        "id": "HmcVr8fbAKcv"
      }
    },
    {
      "cell_type": "code",
      "source": [
        "train_doc = np.random.permutation(open('gesture-recognition/train.csv').readlines())\n",
        "val_doc = np.random.permutation(open('gesture-recognition/val.csv').readlines())\n",
        "\n",
        "batch_size = 64 #experiment with the batch size\n",
        "train_doc "
      ],
      "metadata": {
        "colab": {
          "base_uri": "https://localhost:8080/"
        },
        "id": "V3OAmGQTf7Ce",
        "outputId": "3c65eb5a-a10c-476c-ad56-6bdf3c18b12f"
      },
      "execution_count": null,
      "outputs": [
        {
          "output_type": "execute_result",
          "data": {
            "text/plain": [
              "array(['WIN_20180926_17_19_48_Pro_Left_Swipe_new;Left_Swipe_new;0\\n',\n",
              "       'WIN_20180926_17_41_15_Pro_Thumbs_Up_new;Thumbs_Up_new;4\\n',\n",
              "       'WIN_20180926_17_13_39_Pro_Right_Swipe_new;Right_Swipe_new;1\\n',\n",
              "       'WIN_20180926_17_17_07_Pro_Thumbs_Down_new;Thumbs_Down_new;3\\n',\n",
              "       'WIN_20180925_17_46_05_Pro_Stop_new;Stop_new;2\\n',\n",
              "       'WIN_20180907_16_33_33_Pro_Thumbs Down_new;Thumbs Down_new;3\\n',\n",
              "       'WIN_20180925_17_24_49_Pro_Left_Swipe_new;Left_Swipe_new;0\\n',\n",
              "       'WIN_20180907_15_48_25_Pro_Thumbs Down_new;Thumbs Down_new;3\\n',\n",
              "       'WIN_20180925_17_20_55_Pro_Right_Swipe_new;Right_Swipe_new;1\\n',\n",
              "       'WIN_20180907_16_42_19_Pro_Left Swipe_new_Left Swipe_new;Left Swipe_new_Left Swipe_new;0\\n',\n",
              "       'WIN_20180925_17_32_52_Pro_Thumbs_Up_new;Thumbs_Up_new;4\\n',\n",
              "       'WIN_20180926_17_33_51_Pro_Thumbs_Down_new;Thumbs_Down_new;3\\n',\n",
              "       'WIN_20180926_18_05_07_Pro_Right_Swipe_new;Right_Swipe_new;1\\n',\n",
              "       'WIN_20180926_16_57_26_Pro_Left_Swipe_new;Left_Swipe_new;0\\n',\n",
              "       'WIN_20180926_17_35_17_Pro_Stop_new;Stop_new;2\\n',\n",
              "       'WIN_20180926_17_38_09_Pro_Left_Swipe_new;Left_Swipe_new;0\\n',\n",
              "       'WIN_20180925_17_56_48_Pro_Stop_new;Stop_new;2\\n',\n",
              "       'WIN_20180925_17_47_40_Pro_Thumbs_Down_new;Thumbs_Down_new;3\\n',\n",
              "       'WIN_20180926_16_41_01_Pro_Thumbs_Up_new;Thumbs_Up_new;4\\n',\n",
              "       'WIN_20180925_17_37_30_Pro_Left_Swipe_new;Left_Swipe_new;0\\n',\n",
              "       'WIN_20180925_17_41_54_Pro_Thumbs_Up_new;Thumbs_Up_new;4\\n',\n",
              "       'WIN_20180926_17_12_29_Pro_Thumbs_Down_new;Thumbs_Down_new;3\\n',\n",
              "       'WIN_20180926_16_37_46_Pro_Stop_new;Stop_new;2\\n',\n",
              "       'WIN_20180907_16_18_43_Pro_Thumbs Up_new;Thumbs Up_new;4\\n',\n",
              "       'WIN_20180925_17_57_58_Pro_Right_Swipe_new;Right_Swipe_new;1\\n',\n",
              "       'WIN_20180907_16_35_51_Pro_Right Swipe_new;Right Swipe_new;1\\n',\n",
              "       'WIN_20180926_16_50_32_Pro_Stop_new;Stop_new;2\\n',\n",
              "       'WIN_20180907_16_11_06_Pro_Stop Gesture_new;Stop Gesture_new;2\\n',\n",
              "       'WIN_20180907_16_07_50_Pro_Thumbs Down_new;Thumbs Down_new;3\\n',\n",
              "       'WIN_20180925_17_58_10_Pro_Stop_new;Stop_new;2\\n',\n",
              "       'WIN_20180925_18_21_50_Pro_Thumbs_Down_new;Thumbs_Down_new;3\\n',\n",
              "       'WIN_20180925_17_56_00_Pro_Right_Swipe_new;Right_Swipe_new;1\\n',\n",
              "       'WIN_20180926_16_56_46_Pro_Right_Swipe_new;Right_Swipe_new;1\\n',\n",
              "       'WIN_20180926_18_05_38_Pro_Right_Swipe_new;Right_Swipe_new;1\\n',\n",
              "       'WIN_20180926_16_53_28_Pro_Thumbs_Up_new;Thumbs_Up_new;4\\n',\n",
              "       'WIN_20180925_17_51_52_Pro_Right_Swipe_new;Right_Swipe_new;1\\n',\n",
              "       'WIN_20180926_16_46_07_Pro_Right_Swipe_new;Right_Swipe_new;1\\n',\n",
              "       'WIN_20180926_16_45_45_Pro_Thumbs_Down_new;Thumbs_Down_new;3\\n',\n",
              "       'WIN_20180925_17_18_56_Pro_Left_Swipe_new;Left_Swipe_new;0\\n',\n",
              "       'WIN_20180907_16_11_36_Pro_Right Swipe_new;Right Swipe_new;1\\n',\n",
              "       'WIN_20180907_15_56_32_Pro_Left Swipe_new_Left Swipe_new;Left Swipe_new_Left Swipe_new;0\\n',\n",
              "       'WIN_20180926_17_30_47_Pro_Thumbs_Up_new;Thumbs_Up_new;4\\n',\n",
              "       'WIN_20180926_17_26_41_Pro_Right_Swipe_new;Right_Swipe_new;1\\n',\n",
              "       'WIN_20180907_15_35_09_Pro_Right Swipe_new;Right Swipe_new;1\\n',\n",
              "       'WIN_20180925_18_15_50_Pro_Thumbs_Down_new;Thumbs_Down_new;3\\n',\n",
              "       'WIN_20180907_15_56_07_Pro_Stop Gesture_new;Stop Gesture_new;2\\n',\n",
              "       'WIN_20180925_17_55_36_Pro_Right_Swipe_new;Right_Swipe_new;1\\n',\n",
              "       'WIN_20180907_16_42_55_Pro_Thumbs Up_new;Thumbs Up_new;4\\n',\n",
              "       'WIN_20180926_17_35_54_Pro_Thumbs_Up_new;Thumbs_Up_new;4\\n',\n",
              "       'WIN_20180926_16_50_23_Pro_Stop_new;Stop_new;2\\n',\n",
              "       'WIN_20180907_16_08_56_Pro_Thumbs Up_new;Thumbs Up_new;4\\n',\n",
              "       'WIN_20180926_17_32_01_Pro_Thumbs_Down_new;Thumbs_Down_new;3\\n',\n",
              "       'WIN_20180907_16_54_21_Pro_Thumbs Down_new;Thumbs Down_new;3\\n',\n",
              "       'WIN_20180907_16_25_22_Pro_Thumbs Down_new;Thumbs Down_new;3\\n',\n",
              "       'WIN_20180925_18_28_41_Pro_Thumbs_Down_new;Thumbs_Down_new;3\\n',\n",
              "       'WIN_20180925_17_26_34_Pro_Right_Swipe_new;Right_Swipe_new;1\\n',\n",
              "       'WIN_20180907_16_41_13_Pro_Thumbs Down_new;Thumbs Down_new;3\\n',\n",
              "       'WIN_20180907_16_03_54_Pro_Right Swipe_new;Right Swipe_new;1\\n',\n",
              "       'WIN_20180925_18_01_52_Pro_Stop_new;Stop_new;2\\n',\n",
              "       'WIN_20180907_15_38_35_Pro_Thumbs Down_new;Thumbs Down_new;3\\n',\n",
              "       'WIN_20180925_18_08_31_Pro_Thumbs_Down_new;Thumbs_Down_new;3\\n',\n",
              "       'WIN_20180926_17_14_56_Pro_Right_Swipe_new;Right_Swipe_new;1\\n',\n",
              "       'WIN_20180926_17_18_39_Pro_Thumbs_Down_new;Thumbs_Down_new;3\\n',\n",
              "       'WIN_20180926_17_03_21_Pro_Stop_new;Stop_new;2\\n',\n",
              "       'WIN_20180925_17_49_11_Pro_Thumbs_Down_new;Thumbs_Down_new;3\\n',\n",
              "       'WIN_20180926_17_24_54_Pro_Left_Swipe_new;Left_Swipe_new;0\\n',\n",
              "       'WIN_20180925_18_14_35_Pro_Right_Swipe_new;Right_Swipe_new;1\\n',\n",
              "       'WIN_20180926_17_20_04_Pro_Right_Swipe_new;Right_Swipe_new;1\\n',\n",
              "       'WIN_20180907_16_28_49_Pro_Right Swipe_new;Right Swipe_new;1\\n',\n",
              "       'WIN_20180907_16_13_12_Pro_Stop Gesture_new;Stop Gesture_new;2\\n',\n",
              "       'WIN_20180926_17_36_34_Pro_Right_Swipe_new;Right_Swipe_new;1\\n',\n",
              "       'WIN_20180907_16_18_18_Pro_Right Swipe_new;Right Swipe_new;1\\n',\n",
              "       'WIN_20180926_16_39_58_Pro_Thumbs_Down_new;Thumbs_Down_new;3\\n',\n",
              "       'WIN_20180926_16_40_01_Pro_Thumbs_Up_new;Thumbs_Up_new;4\\n',\n",
              "       'WIN_20180907_15_44_13_Pro_Stop Gesture_new;Stop Gesture_new;2\\n',\n",
              "       'WIN_20180925_18_06_24_Pro_Stop_new;Stop_new;2\\n',\n",
              "       'WIN_20180926_17_39_43_Pro_Stop_new;Stop_new;2\\n',\n",
              "       'WIN_20180907_16_41_45_Pro_Right Swipe_new;Right Swipe_new;1\\n',\n",
              "       'WIN_20180925_17_43_11_Pro_Thumbs_Up_new;Thumbs_Up_new;4\\n',\n",
              "       'WIN_20180925_17_55_57_Pro_Left_Swipe_new;Left_Swipe_new;0\\n',\n",
              "       'WIN_20180925_17_47_06_Pro_Thumbs_Down_new;Thumbs_Down_new;3\\n',\n",
              "       'WIN_20180926_17_37_02_Pro_Stop_new;Stop_new;2\\n',\n",
              "       'WIN_20180907_16_25_10_Pro_Thumbs Up_new;Thumbs Up_new;4\\n',\n",
              "       'WIN_20180926_17_22_08_Pro_Thumbs_Down_new;Thumbs_Down_new;3\\n',\n",
              "       'WIN_20180926_17_00_32_Pro_Left_Swipe_new;Left_Swipe_new;0\\n',\n",
              "       'WIN_20180926_16_57_19_Pro_Right_Swipe_new;Right_Swipe_new;1\\n',\n",
              "       'WIN_20180925_17_22_32_Pro_Right_Swipe_new;Right_Swipe_new;1\\n',\n",
              "       'WIN_20180926_17_13_44_Pro_Stop_new;Stop_new;2\\n',\n",
              "       'WIN_20180925_17_38_16_Pro_Stop_new;Stop_new;2\\n',\n",
              "       'WIN_20180907_16_02_30_Pro_Thumbs Up_new;Thumbs Up_new;4\\n',\n",
              "       'WIN_20180926_17_43_57_Pro_Stop_new;Stop_new;2\\n',\n",
              "       'WIN_20180925_17_19_16_Pro_Thumbs_Up_new;Thumbs_Up_new;4\\n',\n",
              "       'WIN_20180925_17_37_42_Pro_Stop_new;Stop_new;2\\n',\n",
              "       'WIN_20180907_16_52_18_Pro_Stop Gesture_new;Stop Gesture_new;2\\n',\n",
              "       'WIN_20180907_15_44_55_Pro_Stop Gesture_new;Stop Gesture_new;2\\n',\n",
              "       'WIN_20180925_17_39_11_Pro_Stop_new;Stop_new;2\\n',\n",
              "       'WIN_20180926_17_40_53_Pro_Thumbs_Up_new;Thumbs_Up_new;4\\n',\n",
              "       'WIN_20180926_17_11_11_Pro_Left_Swipe_new;Left_Swipe_new;0\\n',\n",
              "       'WIN_20180926_17_20_43_Pro_Left_Swipe_new;Left_Swipe_new;0\\n',\n",
              "       'WIN_20180926_17_38_25_Pro_Stop_new;Stop_new;2\\n',\n",
              "       'WIN_20180907_16_19_27_Pro_Stop Gesture_new;Stop Gesture_new;2\\n',\n",
              "       'WIN_20180907_15_58_45_Pro_Left Swipe_new_Left Swipe_new;Left Swipe_new_Left Swipe_new;0\\n',\n",
              "       'WIN_20180926_16_52_43_Pro_Thumbs_Down_new;Thumbs_Down_new;3\\n',\n",
              "       'WIN_20180926_17_33_51_Pro_Thumbs_Up_new;Thumbs_Up_new;4\\n',\n",
              "       'WIN_20180907_16_12_40_Pro_Thumbs Down_new;Thumbs Down_new;3\\n',\n",
              "       'WIN_20180926_17_05_38_Pro_Thumbs_Up_new;Thumbs_Up_new;4\\n',\n",
              "       'WIN_20180926_17_19_50_Pro_Thumbs_Down_new;Thumbs_Down_new;3\\n',\n",
              "       'WIN_20180926_16_51_55_Pro_Left_Swipe_new;Left_Swipe_new;0\\n',\n",
              "       'WIN_20180907_15_50_33_Pro_Left Swipe_new_Left Swipe_new;Left Swipe_new_Left Swipe_new;0\\n',\n",
              "       'WIN_20180907_16_10_07_Pro_Thumbs Down_new;Thumbs Down_new;3\\n',\n",
              "       'WIN_20180926_17_10_30_Pro_Stop_new;Stop_new;2\\n',\n",
              "       'WIN_20180926_17_39_05_Pro_Stop_new;Stop_new;2\\n',\n",
              "       'WIN_20180926_17_31_45_Pro_Thumbs_Up_new;Thumbs_Up_new;4\\n',\n",
              "       'WIN_20180926_16_55_16_Pro_Right_Swipe_new;Right_Swipe_new;1\\n',\n",
              "       'WIN_20180926_17_40_37_Pro_Stop_new;Stop_new;2\\n',\n",
              "       'WIN_20180926_16_55_47_Pro_Right_Swipe_new;Right_Swipe_new;1\\n',\n",
              "       'WIN_20180907_16_53_36_Pro_Thumbs Down_new;Thumbs Down_new;3\\n',\n",
              "       'WIN_20180907_16_41_09_Pro_Thumbs Up_new;Thumbs Up_new;4\\n',\n",
              "       'WIN_20180907_15_40_26_Pro_Thumbs Down_new;Thumbs Down_new;3\\n',\n",
              "       'WIN_20180926_17_23_26_Pro_Stop_new;Stop_new;2\\n',\n",
              "       'WIN_20180926_16_53_30_Pro_Stop_new;Stop_new;2\\n',\n",
              "       'WIN_20180925_17_30_26_Pro_Thumbs_Up_new;Thumbs_Up_new;4\\n',\n",
              "       'WIN_20180926_17_28_21_Pro_Right_Swipe_new;Right_Swipe_new;1\\n',\n",
              "       'WIN_20180907_16_15_44_Pro_Thumbs Down_new;Thumbs Down_new;3\\n',\n",
              "       'WIN_20180925_17_46_33_Pro_Thumbs_Down_new;Thumbs_Down_new;3\\n',\n",
              "       'WIN_20180926_17_13_32_Pro_Left_Swipe_new;Left_Swipe_new;0\\n',\n",
              "       'WIN_20180907_15_51_07_Pro_Left Swipe_new_Left Swipe_new;Left Swipe_new_Left Swipe_new;0\\n',\n",
              "       'WIN_20180925_17_43_32_Pro_Left_Swipe_new;Left_Swipe_new;0\\n',\n",
              "       'WIN_20180907_15_56_26_Pro_Thumbs Up_new;Thumbs Up_new;4\\n',\n",
              "       'WIN_20180926_17_03_21_Pro_Left_Swipe_new;Left_Swipe_new;0\\n',\n",
              "       'WIN_20180907_15_41_54_Pro_Right Swipe_new;Right Swipe_new;1\\n',\n",
              "       'WIN_20180925_17_28_48_Pro_Stop_new;Stop_new;2\\n',\n",
              "       'WIN_20180926_16_59_55_Pro_Thumbs_Down_new;Thumbs_Down_new;3\\n',\n",
              "       'WIN_20180925_17_50_59_Pro_Right_Swipe_new;Right_Swipe_new;1\\n',\n",
              "       'WIN_20180925_17_52_46_Pro_Right_Swipe_new;Right_Swipe_new;1\\n',\n",
              "       'WIN_20180925_17_51_26_Pro_Left_Swipe_new;Left_Swipe_new;0\\n',\n",
              "       'WIN_20180925_17_51_49_Pro_Left_Swipe_new;Left_Swipe_new;0\\n',\n",
              "       'WIN_20180926_17_43_30_Pro_Thumbs_Up_new;Thumbs_Up_new;4\\n',\n",
              "       'WIN_20180925_18_14_47_Pro_Thumbs_Down_new;Thumbs_Down_new;3\\n',\n",
              "       'WIN_20180907_15_44_32_Pro_Thumbs Down_new;Thumbs Down_new;3\\n',\n",
              "       'WIN_20180925_17_57_06_Pro_Thumbs_Down_new;Thumbs_Down_new;3\\n',\n",
              "       'WIN_20180926_17_56_27_Pro_Right_Swipe_new;Right_Swipe_new;1\\n',\n",
              "       'WIN_20180907_15_54_27_Pro_Thumbs Down_new;Thumbs Down_new;3\\n',\n",
              "       'WIN_20180926_16_49_52_Pro_Left_Swipe_new;Left_Swipe_new;0\\n',\n",
              "       'WIN_20180926_17_44_20_Pro_Right_Swipe_new;Right_Swipe_new;1\\n',\n",
              "       'WIN_20180925_17_28_04_Pro_Right_Swipe_new;Right_Swipe_new;1\\n',\n",
              "       'WIN_20180926_16_50_21_Pro_Left_Swipe_new;Left_Swipe_new;0\\n',\n",
              "       'WIN_20180925_17_36_07_Pro_Right_Swipe_new;Right_Swipe_new;1\\n',\n",
              "       'WIN_20180926_17_25_18_Pro_Stop_new;Stop_new;2\\n',\n",
              "       'WIN_20180925_17_20_14_Pro_Left_Swipe_new;Left_Swipe_new;0\\n',\n",
              "       'WIN_20180926_16_42_15_Pro_Thumbs_Up_new;Thumbs_Up_new;4\\n',\n",
              "       'WIN_20180926_17_23_38_Pro_Thumbs_Down_new;Thumbs_Down_new;3\\n',\n",
              "       'WIN_20180926_16_47_06_Pro_Thumbs_Up_new;Thumbs_Up_new;4\\n',\n",
              "       'WIN_20180926_17_20_41_Pro_Stop_new;Stop_new;2\\n',\n",
              "       'WIN_20180907_16_28_20_Pro_Thumbs Up_new;Thumbs Up_new;4\\n',\n",
              "       'WIN_20180926_17_29_54_Pro_Thumbs_Down_new;Thumbs_Down_new;3\\n',\n",
              "       'WIN_20180926_17_34_37_Pro_Stop_new;Stop_new;2\\n',\n",
              "       'WIN_20180926_17_43_07_Pro_Left_Swipe_new;Left_Swipe_new;0\\n',\n",
              "       'WIN_20180907_15_55_22_Pro_Stop Gesture_new;Stop Gesture_new;2\\n',\n",
              "       'WIN_20180925_17_35_57_Pro_Stop_new;Stop_new;2\\n',\n",
              "       'WIN_20180925_17_45_31_Pro_Stop_new;Stop_new;2\\n',\n",
              "       'WIN_20180907_16_06_32_Pro_Thumbs Up_new;Thumbs Up_new;4\\n',\n",
              "       'WIN_20180907_16_17_00_Pro_Right Swipe_new;Right Swipe_new;1\\n',\n",
              "       'WIN_20180925_17_41_24_Pro_Thumbs_Up_new;Thumbs_Up_new;4\\n',\n",
              "       'WIN_20180926_17_33_08_Pro_Thumbs_Down_new;Thumbs_Down_new;3\\n',\n",
              "       'WIN_20180907_15_59_12_Pro_Stop Gesture_new;Stop Gesture_new;2\\n',\n",
              "       'WIN_20180925_17_43_57_Pro_Left_Swipe_new;Left_Swipe_new;0\\n',\n",
              "       'WIN_20180907_16_02_07_Pro_Stop Gesture_new;Stop Gesture_new;2\\n',\n",
              "       'WIN_20180926_17_01_50_Pro_Stop_new;Stop_new;2\\n',\n",
              "       'WIN_20180925_18_23_57_Pro_Thumbs_Down_new;Thumbs_Down_new;3\\n',\n",
              "       'WIN_20180926_17_40_55_Pro_Thumbs_Down_new;Thumbs_Down_new;3\\n',\n",
              "       'WIN_20180926_18_09_50_Pro_Right_Swipe_new;Right_Swipe_new;1\\n',\n",
              "       'WIN_20180926_17_21_38_Pro_Thumbs_Up_new;Thumbs_Up_new;4\\n',\n",
              "       'WIN_20180926_18_07_05_Pro_Right_Swipe_new;Right_Swipe_new;1\\n',\n",
              "       'WIN_20180907_15_52_03_Pro_Stop Gesture_new;Stop Gesture_new;2\\n',\n",
              "       'WIN_20180926_17_25_32_Pro_Left_Swipe_new;Left_Swipe_new;0\\n',\n",
              "       'WIN_20180926_16_45_10_Pro_Thumbs_Up_new;Thumbs_Up_new;4\\n',\n",
              "       'WIN_20180926_17_35_35_Pro_Thumbs_Down_new;Thumbs_Down_new;3\\n',\n",
              "       'WIN_20180926_16_54_08_Pro_Right_Swipe_new;Right_Swipe_new;1\\n',\n",
              "       'WIN_20180925_17_30_21_Pro_Right_Swipe_new;Right_Swipe_new;1\\n',\n",
              "       'WIN_20180926_16_40_53_Pro_Thumbs_Down_new;Thumbs_Down_new;3\\n',\n",
              "       'WIN_20180926_17_00_22_Pro_Stop_new;Stop_new;2\\n',\n",
              "       'WIN_20180926_17_06_07_Pro_Thumbs_Up_new;Thumbs_Up_new;4\\n',\n",
              "       'WIN_20180926_17_05_54_Pro_Right_Swipe_new;Right_Swipe_new;1\\n',\n",
              "       'WIN_20180907_16_22_00_Pro_Thumbs Up_new;Thumbs Up_new;4\\n',\n",
              "       'WIN_20180907_15_45_40_Pro_Left Swipe_new_Left Swipe_new;Left Swipe_new_Left Swipe_new;0\\n',\n",
              "       'WIN_20180926_16_54_53_Pro_Thumbs_Down_new;Thumbs_Down_new;3\\n',\n",
              "       'WIN_20180907_16_27_42_Pro_Right Swipe_new;Right Swipe_new;1\\n',\n",
              "       'WIN_20180926_17_35_12_Pro_Thumbs_Down_new;Thumbs_Down_new;3\\n',\n",
              "       'WIN_20180926_17_18_02_Pro_Thumbs_Up_new;Thumbs_Up_new;4\\n',\n",
              "       'WIN_20180926_16_35_06_Pro_Thumbs_Down_new;Thumbs_Down_new;3\\n',\n",
              "       'WIN_20180907_16_43_19_Pro_Thumbs Down_new;Thumbs Down_new;3\\n',\n",
              "       'WIN_20180925_17_50_17_Pro_Thumbs_Down_new;Thumbs_Down_new;3\\n',\n",
              "       'WIN_20180926_16_58_07_Pro_Thumbs_Up_new;Thumbs_Up_new;4\\n',\n",
              "       'WIN_20180907_16_58_34_Pro_Right Swipe_new;Right Swipe_new;1\\n',\n",
              "       'WIN_20180907_15_45_56_Pro_Thumbs Down_new;Thumbs Down_new;3\\n',\n",
              "       'WIN_20180926_17_17_18_Pro_Thumbs_Down_new;Thumbs_Down_new;3\\n',\n",
              "       'WIN_20180925_18_04_13_Pro_Thumbs_Down_new;Thumbs_Down_new;3\\n',\n",
              "       'WIN_20180926_17_15_10_Pro_Stop_new;Stop_new;2\\n',\n",
              "       'WIN_20180926_17_32_42_Pro_Thumbs_Up_new;Thumbs_Up_new;4\\n',\n",
              "       'WIN_20180926_17_02_35_Pro_Right_Swipe_new;Right_Swipe_new;1\\n',\n",
              "       'WIN_20180926_17_23_39_Pro_Left_Swipe_new;Left_Swipe_new;0\\n',\n",
              "       'WIN_20180926_16_58_25_Pro_Stop_new;Stop_new;2\\n',\n",
              "       'WIN_20180925_17_52_58_Pro_Left_Swipe_new;Left_Swipe_new;0\\n',\n",
              "       'WIN_20180907_16_21_32_Pro_Thumbs Down_new;Thumbs Down_new;3\\n',\n",
              "       'WIN_20180925_17_42_50_Pro_Thumbs_Down_new;Thumbs_Down_new;3\\n',\n",
              "       'WIN_20180907_16_01_35_Pro_Thumbs Down_new;Thumbs Down_new;3\\n',\n",
              "       'WIN_20180926_16_58_12_Pro_Left_Swipe_new;Left_Swipe_new;0\\n',\n",
              "       'WIN_20180926_16_52_54_Pro_Thumbs_Down_new;Thumbs_Down_new;3\\n',\n",
              "       'WIN_20180926_17_22_53_Pro_Thumbs_Up_new;Thumbs_Up_new;4\\n',\n",
              "       'WIN_20180926_17_21_49_Pro_Stop_new;Stop_new;2\\n',\n",
              "       'WIN_20180926_17_41_29_Pro_Right_Swipe_new;Right_Swipe_new;1\\n',\n",
              "       'WIN_20180925_17_23_34_Pro_Right_Swipe_new;Right_Swipe_new;1\\n',\n",
              "       'WIN_20180926_17_27_29_Pro_Stop_new;Stop_new;2\\n',\n",
              "       'WIN_20180925_17_51_29_Pro_Stop_new;Stop_new;2\\n',\n",
              "       'WIN_20180907_16_05_58_Pro_Stop Gesture_new;Stop Gesture_new;2\\n',\n",
              "       'WIN_20180907_16_19_10_Pro_Left Swipe_new_Left Swipe_new;Left Swipe_new_Left Swipe_new;0\\n',\n",
              "       'WIN_20180926_17_16_10_Pro_Left_Swipe_new;Left_Swipe_new;0\\n',\n",
              "       'WIN_20180907_16_07_43_Pro_Right Swipe_new;Right Swipe_new;1\\n',\n",
              "       'WIN_20180926_17_01_07_Pro_Right_Swipe_new;Right_Swipe_new;1\\n',\n",
              "       'WIN_20180925_17_55_12_Pro_Left_Swipe_new;Left_Swipe_new;0\\n',\n",
              "       'WIN_20180907_15_39_51_Pro_Stop Gesture_new;Stop Gesture_new;2\\n',\n",
              "       'WIN_20180925_17_19_51_Pro_Left_Swipe_new;Left_Swipe_new;0\\n',\n",
              "       'WIN_20180907_16_06_35_Pro_Thumbs Down_new;Thumbs Down_new;3\\n',\n",
              "       'WIN_20180926_17_19_12_Pro_Left_Swipe_new;Left_Swipe_new;0\\n',\n",
              "       'WIN_20180926_16_49_59_Pro_Thumbs_Up_new;Thumbs_Up_new;4\\n',\n",
              "       'WIN_20180907_16_18_59_Pro_Stop Gesture_new;Stop Gesture_new;2\\n',\n",
              "       'WIN_20180907_16_08_46_Pro_Thumbs Down_new;Thumbs Down_new;3\\n',\n",
              "       'WIN_20180907_15_40_55_Pro_Thumbs Up_new;Thumbs Up_new;4\\n',\n",
              "       'WIN_20180925_17_46_49_Pro_Left_Swipe_new;Left_Swipe_new;0\\n',\n",
              "       'WIN_20180907_16_13_35_Pro_Thumbs Up_new;Thumbs Up_new;4\\n',\n",
              "       'WIN_20180925_18_01_30_Pro_Stop_new;Stop_new;2\\n',\n",
              "       'WIN_20180926_16_56_51_Pro_Thumbs_Up_new;Thumbs_Up_new;4\\n',\n",
              "       'WIN_20180925_17_44_25_Pro_Stop_new;Stop_new;2\\n',\n",
              "       'WIN_20180926_16_50_27_Pro_Thumbs_Up_new;Thumbs_Up_new;4\\n',\n",
              "       'WIN_20180926_16_38_09_Pro_Thumbs_Up_new;Thumbs_Up_new;4\\n',\n",
              "       'WIN_20180926_17_13_01_Pro_Thumbs_Up_new;Thumbs_Up_new;4\\n',\n",
              "       'WIN_20180907_16_30_13_Pro_Right Swipe_new;Right Swipe_new;1\\n',\n",
              "       'WIN_20180926_17_06_24_Pro_Left_Swipe_new;Left_Swipe_new;0\\n',\n",
              "       'WIN_20180926_17_40_11_Pro_Stop_new;Stop_new;2\\n',\n",
              "       'WIN_20180907_16_19_31_Pro_Right Swipe_new;Right Swipe_new;1\\n',\n",
              "       'WIN_20180926_17_11_24_Pro_Right_Swipe_new;Right_Swipe_new;1\\n',\n",
              "       'WIN_20180925_17_37_54_Pro_Thumbs_Down_new;Thumbs_Down_new;3\\n',\n",
              "       'WIN_20180907_16_23_55_Pro_Right Swipe_new;Right Swipe_new;1\\n',\n",
              "       'WIN_20180925_18_03_22_Pro_Thumbs_Down_new;Thumbs_Down_new;3\\n',\n",
              "       'WIN_20180926_16_35_34_Pro_Stop_new;Stop_new;2\\n',\n",
              "       'WIN_20180926_17_29_37_Pro_Thumbs_Up_new;Thumbs_Up_new;4\\n',\n",
              "       'WIN_20180926_17_54_45_Pro_Right_Swipe_new;Right_Swipe_new;1\\n',\n",
              "       'WIN_20180926_17_28_47_Pro_Left_Swipe_new;Left_Swipe_new;0\\n',\n",
              "       'WIN_20180926_17_13_29_Pro_Thumbs_Up_new;Thumbs_Up_new;4\\n',\n",
              "       'WIN_20180926_16_39_35_Pro_Stop_new;Stop_new;2\\n',\n",
              "       'WIN_20180926_17_05_08_Pro_Left_Swipe_new;Left_Swipe_new;0\\n',\n",
              "       'WIN_20180907_15_45_30_Pro_Thumbs Up_new;Thumbs Up_new;4\\n',\n",
              "       'WIN_20180926_17_21_18_Pro_Thumbs_Up_new;Thumbs_Up_new;4\\n',\n",
              "       'WIN_20180926_17_22_23_Pro_Stop_new;Stop_new;2\\n',\n",
              "       'WIN_20180926_17_17_23_Pro_Thumbs_Up_new;Thumbs_Up_new;4\\n',\n",
              "       'WIN_20180926_17_29_23_Pro_Stop_new;Stop_new;2\\n',\n",
              "       'WIN_20180907_15_59_28_Pro_Thumbs Up_new;Thumbs Up_new;4\\n',\n",
              "       'WIN_20180926_16_59_44_Pro_Thumbs_Up_new;Thumbs_Up_new;4\\n',\n",
              "       'WIN_20180907_15_54_06_Pro_Stop Gesture_new;Stop Gesture_new;2\\n',\n",
              "       'WIN_20180926_16_57_34_Pro_Left_Swipe_new;Left_Swipe_new;0\\n',\n",
              "       'WIN_20180907_16_30_30_Pro_Thumbs Up_new;Thumbs Up_new;4\\n',\n",
              "       'WIN_20180926_18_05_29_Pro_Thumbs_Down_new;Thumbs_Down_new;3\\n',\n",
              "       'WIN_20180925_17_36_58_Pro_Right_Swipe_new;Right_Swipe_new;1\\n',\n",
              "       'WIN_20180907_15_49_59_Pro_Thumbs Up_new;Thumbs Up_new;4\\n',\n",
              "       'WIN_20180925_17_35_24_Pro_Right_Swipe_new;Right_Swipe_new;1\\n',\n",
              "       'WIN_20180925_17_54_25_Pro_Left_Swipe_new;Left_Swipe_new;0\\n',\n",
              "       'WIN_20180907_15_52_28_Pro_Left Swipe_new_Left Swipe_new;Left Swipe_new_Left Swipe_new;0\\n',\n",
              "       'WIN_20180926_16_58_27_Pro_Right_Swipe_new;Right_Swipe_new;1\\n',\n",
              "       'WIN_20180926_18_04_06_Pro_Thumbs_Down_new;Thumbs_Down_new;3\\n',\n",
              "       'WIN_20180926_17_27_34_Pro_Thumbs_Down_new;Thumbs_Down_new;3\\n',\n",
              "       'WIN_20180926_17_17_35_Pro_Left_Swipe_new;Left_Swipe_new;0\\n',\n",
              "       'WIN_20180926_17_40_43_Pro_Thumbs_Down_new;Thumbs_Down_new;3\\n',\n",
              "       'WIN_20180907_16_49_05_Pro_Left Swipe_new_Left Swipe_new;Left Swipe_new_Left Swipe_new;0\\n',\n",
              "       'WIN_20180926_17_06_30_Pro_Thumbs_Down_new;Thumbs_Down_new;3\\n',\n",
              "       'WIN_20180926_17_27_48_Pro_Thumbs_Up_new;Thumbs_Up_new;4\\n',\n",
              "       'WIN_20180925_17_58_21_Pro_Right_Swipe_new;Right_Swipe_new;1\\n',\n",
              "       'WIN_20180926_16_44_06_Pro_Left_Swipe_new;Left_Swipe_new;0\\n',\n",
              "       'WIN_20180926_17_27_40_Pro_Left_Swipe_new;Left_Swipe_new;0\\n',\n",
              "       'WIN_20180907_16_17_11_Pro_Left Swipe_new_Left Swipe_new;Left Swipe_new_Left Swipe_new;0\\n',\n",
              "       'WIN_20180926_17_39_59_Pro_Thumbs_Down_new;Thumbs_Down_new;3\\n',\n",
              "       'WIN_20180907_15_43_40_Pro_Stop Gesture_new;Stop Gesture_new;2\\n',\n",
              "       'WIN_20180926_17_14_32_Pro_Left_Swipe_new;Left_Swipe_new;0\\n',\n",
              "       'WIN_20180925_17_56_11_Pro_Thumbs_Up_new;Thumbs_Up_new;4\\n',\n",
              "       'WIN_20180907_16_27_05_Pro_Right Swipe_new;Right Swipe_new;1\\n',\n",
              "       'WIN_20180925_17_48_48_Pro_Right_Swipe_new;Right_Swipe_new;1\\n',\n",
              "       'WIN_20180925_18_08_08_Pro_Thumbs_Up_new;Thumbs_Up_new;4\\n',\n",
              "       'WIN_20180925_17_49_29_Pro_Left_Swipe_new;Left_Swipe_new;0\\n',\n",
              "       'WIN_20180926_17_04_58_Pro_Right_Swipe_new;Right_Swipe_new;1\\n',\n",
              "       'WIN_20180925_17_53_35_Pro_Stop_new;Stop_new;2\\n',\n",
              "       'WIN_20180907_16_24_20_Pro_Thumbs Down_new;Thumbs Down_new;3\\n',\n",
              "       'WIN_20180926_17_30_12_Pro_Thumbs_Up_new;Thumbs_Up_new;4\\n',\n",
              "       'WIN_20180925_18_20_19_Pro_Thumbs_Down_new;Thumbs_Down_new;3\\n',\n",
              "       'WIN_20180926_17_02_27_Pro_Thumbs_Up_new;Thumbs_Up_new;4\\n',\n",
              "       'WIN_20180907_15_43_00_Pro_Left Swipe_new_Left Swipe_new;Left Swipe_new_Left Swipe_new;0\\n',\n",
              "       'WIN_20180926_16_52_10_Pro_Thumbs_Up_new;Thumbs_Up_new;4\\n',\n",
              "       'WIN_20180907_16_22_23_Pro_Right Swipe_new;Right Swipe_new;1\\n',\n",
              "       'WIN_20180925_17_37_08_Pro_Left_Swipe_new;Left_Swipe_new;0\\n',\n",
              "       'WIN_20180925_17_47_19_Pro_Right_Swipe_new;Right_Swipe_new;1\\n',\n",
              "       'WIN_20180925_17_18_28_Pro_Left_Swipe_new;Left_Swipe_new;0\\n',\n",
              "       'WIN_20180925_17_29_33_Pro_Stop_new;Stop_new;2\\n',\n",
              "       'WIN_20180926_17_12_26_Pro_Thumbs_Up_new;Thumbs_Up_new;4\\n',\n",
              "       'WIN_20180926_17_15_18_Pro_Thumbs_Up_new;Thumbs_Up_new;4\\n',\n",
              "       'WIN_20180925_17_57_52_Pro_Thumbs_Down_new;Thumbs_Down_new;3\\n',\n",
              "       'WIN_20180925_17_18_25_Pro_Right_Swipe_new;Right_Swipe_new;1\\n',\n",
              "       'WIN_20180907_16_04_51_Pro_Left Swipe_new_Left Swipe_new;Left Swipe_new_Left Swipe_new;0\\n',\n",
              "       'WIN_20180926_17_00_44_Pro_Thumbs_Down_new;Thumbs_Down_new;3\\n',\n",
              "       'WIN_20180907_16_12_16_Pro_Thumbs Down_new;Thumbs Down_new;3\\n',\n",
              "       'WIN_20180926_17_43_30_Pro_Left_Swipe_new;Left_Swipe_new;0\\n',\n",
              "       'WIN_20180926_17_06_01_Pro_Stop_new;Stop_new;2\\n',\n",
              "       'WIN_20180925_17_27_40_Pro_Left_Swipe_new;Left_Swipe_new;0\\n',\n",
              "       'WIN_20180926_17_07_09_Pro_Left_Swipe_new;Left_Swipe_new;0\\n',\n",
              "       'WIN_20180926_17_16_17_Pro_Thumbs_Up_new;Thumbs_Up_new;4\\n',\n",
              "       'WIN_20180907_16_03_09_Pro_Thumbs Down_new;Thumbs Down_new;3\\n',\n",
              "       'WIN_20180907_15_43_28_Pro_Right Swipe_new;Right Swipe_new;1\\n',\n",
              "       'WIN_20180907_16_32_17_Pro_Left Swipe_new_Left Swipe_new;Left Swipe_new_Left Swipe_new;0\\n',\n",
              "       'WIN_20180925_17_08_43_Pro_Left_Swipe_new;Left_Swipe_new;0\\n',\n",
              "       'WIN_20180926_16_44_37_Pro_Left_Swipe_new;Left_Swipe_new;0\\n',\n",
              "       'WIN_20180907_16_25_52_Pro_Thumbs Down_new;Thumbs Down_new;3\\n',\n",
              "       'WIN_20180926_17_29_01_Pro_Stop_new;Stop_new;2\\n',\n",
              "       'WIN_20180926_17_26_13_Pro_Left_Swipe_new;Left_Swipe_new;0\\n',\n",
              "       'WIN_20180925_17_50_07_Pro_Thumbs_Down_new;Thumbs_Down_new;3\\n',\n",
              "       'WIN_20180907_16_04_43_Pro_Stop Gesture_new;Stop Gesture_new;2\\n',\n",
              "       'WIN_20180926_17_24_58_Pro_Right_Swipe_new;Right_Swipe_new;1\\n',\n",
              "       'WIN_20180907_15_54_42_Pro_Left Swipe_new_Left Swipe_new;Left Swipe_new_Left Swipe_new;0\\n',\n",
              "       'WIN_20180907_16_38_29_Pro_Left Swipe_new_Left Swipe_new;Left Swipe_new_Left Swipe_new;0\\n',\n",
              "       'WIN_20180925_17_33_08_Pro_Left_Swipe_new;Left_Swipe_new;0\\n',\n",
              "       'WIN_20180907_15_57_30_Pro_Stop Gesture_new;Stop Gesture_new;2\\n',\n",
              "       'WIN_20180925_17_20_53_Pro_Thumbs_Up_new;Thumbs_Up_new;4\\n',\n",
              "       'WIN_20180925_17_24_26_Pro_Right_Swipe_new;Right_Swipe_new;1\\n',\n",
              "       'WIN_20180926_16_45_15_Pro_Left_Swipe_new;Left_Swipe_new;0\\n',\n",
              "       'WIN_20180926_17_06_12_Pro_Left_Swipe_new;Left_Swipe_new;0\\n',\n",
              "       'WIN_20180907_16_12_09_Pro_Stop Gesture_new;Stop Gesture_new;2\\n',\n",
              "       'WIN_20180925_17_50_31_Pro_Right_Swipe_new;Right_Swipe_new;1\\n',\n",
              "       'WIN_20180907_16_56_18_Pro_Stop Gesture_new;Stop Gesture_new;2\\n',\n",
              "       'WIN_20180926_16_55_03_Pro_Stop_new;Stop_new;2\\n',\n",
              "       'WIN_20180926_16_41_27_Pro_Right_Swipe_new;Right_Swipe_new;1\\n',\n",
              "       'WIN_20180907_15_55_27_Pro_Thumbs Down_new;Thumbs Down_new;3\\n',\n",
              "       'WIN_20180925_18_16_51_Pro_Right_Swipe_new;Right_Swipe_new;1\\n',\n",
              "       'WIN_20180925_17_37_17_Pro_Thumbs_Up_new;Thumbs_Up_new;4\\n',\n",
              "       'WIN_20180926_17_39_48_Pro_Right_Swipe_new;Right_Swipe_new;1\\n',\n",
              "       'WIN_20180926_17_13_07_Pro_Left_Swipe_new;Left_Swipe_new;0\\n',\n",
              "       'WIN_20180926_17_25_30_Pro_Right_Swipe_new;Right_Swipe_new;1\\n',\n",
              "       'WIN_20180907_16_43_39_Pro_Thumbs Up_new;Thumbs Up_new;4\\n',\n",
              "       'WIN_20180926_17_31_23_Pro_Stop_new;Stop_new;2\\n',\n",
              "       'WIN_20180926_16_59_03_Pro_Thumbs_Down_new;Thumbs_Down_new;3\\n',\n",
              "       'WIN_20180926_17_03_38_Pro_Thumbs_Up_new;Thumbs_Up_new;4\\n',\n",
              "       'WIN_20180925_17_22_11_Pro_Thumbs_Up_new;Thumbs_Up_new;4\\n',\n",
              "       'WIN_20180925_18_02_52_Pro_Stop_new;Stop_new;2\\n',\n",
              "       'WIN_20180907_15_50_05_Pro_Left Swipe_new_Left Swipe_new;Left Swipe_new_Left Swipe_new;0\\n',\n",
              "       'WIN_20180926_17_24_14_Pro_Stop_new;Stop_new;2\\n',\n",
              "       'WIN_20180926_17_24_55_Pro_Stop_new;Stop_new;2\\n',\n",
              "       'WIN_20180925_17_57_22_Pro_Stop_new;Stop_new;2\\n',\n",
              "       'WIN_20180925_17_26_51_Pro_Left_Swipe_new;Left_Swipe_new;0\\n',\n",
              "       'WIN_20180926_16_56_12_Pro_Stop_new;Stop_new;2\\n',\n",
              "       'WIN_20180925_17_48_59_Pro_Stop_new;Stop_new;2\\n',\n",
              "       'WIN_20180926_17_00_47_Pro_Stop_new;Stop_new;2\\n',\n",
              "       'WIN_20180907_16_12_53_Pro_Left Swipe_new_Left Swipe_new;Left Swipe_new_Left Swipe_new;0\\n',\n",
              "       'WIN_20180907_16_21_23_Pro_Right Swipe_new;Right Swipe_new;1\\n',\n",
              "       'WIN_20180907_16_33_15_Pro_Left Swipe_new_Left Swipe_new;Left Swipe_new_Left Swipe_new;0\\n',\n",
              "       'WIN_20180926_16_54_48_Pro_Left_Swipe_new;Left_Swipe_new;0\\n',\n",
              "       'WIN_20180926_16_41_11_Pro_Thumbs_Up_new;Thumbs_Up_new;4\\n',\n",
              "       'WIN_20180926_17_53_03_Pro_Right_Swipe_new;Right_Swipe_new;1\\n',\n",
              "       'WIN_20180926_16_55_41_Pro_Left_Swipe_new;Left_Swipe_new;0\\n',\n",
              "       'WIN_20180907_16_29_23_Pro_Left Swipe_new_Left Swipe_new;Left Swipe_new_Left Swipe_new;0\\n',\n",
              "       'WIN_20180926_17_28_09_Pro_Thumbs_Down_new;Thumbs_Down_new;3\\n',\n",
              "       'WIN_20180925_18_02_41_Pro_Right_Swipe_new;Right_Swipe_new;1\\n',\n",
              "       'WIN_20180926_17_20_22_Pro_Thumbs_Down_new;Thumbs_Down_new;3\\n',\n",
              "       'WIN_20180926_17_07_50_Pro_Right_Swipe_new;Right_Swipe_new;1\\n',\n",
              "       'WIN_20180926_16_51_04_Pro_Stop_new;Stop_new;2\\n',\n",
              "       'WIN_20180926_16_55_27_Pro_Thumbs_Up_new;Thumbs_Up_new;4\\n',\n",
              "       'WIN_20180925_17_28_57_Pro_Right_Swipe_new;Right_Swipe_new;1\\n',\n",
              "       'WIN_20180926_17_42_50_Pro_Thumbs_Down_new;Thumbs_Down_new;3\\n',\n",
              "       'WIN_20180907_16_36_14_Pro_Thumbs Up_new;Thumbs Up_new;4\\n',\n",
              "       'WIN_20180926_16_57_51_Pro_Thumbs_Up_new;Thumbs_Up_new;4\\n',\n",
              "       'WIN_20180926_17_37_45_Pro_Left_Swipe_new;Left_Swipe_new;0\\n',\n",
              "       'WIN_20180907_16_04_16_Pro_Thumbs Up_new;Thumbs Up_new;4\\n',\n",
              "       'WIN_20180925_17_46_48_Pro_Right_Swipe_new;Right_Swipe_new;1\\n',\n",
              "       'WIN_20180926_17_10_00_Pro_Thumbs_Up_new;Thumbs_Up_new;4\\n',\n",
              "       'WIN_20180925_17_46_39_Pro_Left_Swipe_new;Left_Swipe_new;0\\n',\n",
              "       'WIN_20180926_17_20_47_Pro_Thumbs_Up_new;Thumbs_Up_new;4\\n',\n",
              "       'WIN_20180907_15_46_25_Pro_Stop Gesture_new;Stop Gesture_new;2\\n',\n",
              "       'WIN_20180926_17_27_33_Pro_Right_Swipe_new;Right_Swipe_new;1\\n',\n",
              "       'WIN_20180907_16_06_16_Pro_Left Swipe_new_Left Swipe_new;Left Swipe_new_Left Swipe_new;0\\n',\n",
              "       'WIN_20180926_17_12_37_Pro_Left_Swipe_new;Left_Swipe_new;0\\n',\n",
              "       'WIN_20180925_17_26_58_Pro_Right_Swipe_new;Right_Swipe_new;1\\n',\n",
              "       'WIN_20180907_16_37_37_Pro_Left Swipe_new_Left Swipe_new;Left Swipe_new_Left Swipe_new;0\\n',\n",
              "       'WIN_20180907_16_25_05_Pro_Stop Gesture_new;Stop Gesture_new;2\\n',\n",
              "       'WIN_20180926_17_07_29_Pro_Stop_new;Stop_new;2\\n',\n",
              "       'WIN_20180907_15_46_43_Pro_Left Swipe_new_Left Swipe_new;Left Swipe_new_Left Swipe_new;0\\n',\n",
              "       'WIN_20180926_17_40_52_Pro_Right_Swipe_new;Right_Swipe_new;1\\n',\n",
              "       'WIN_20180926_16_51_21_Pro_Thumbs_Down_new;Thumbs_Down_new;3\\n',\n",
              "       'WIN_20180926_17_08_38_Pro_Thumbs_Down_new;Thumbs_Down_new;3\\n',\n",
              "       'WIN_20180907_16_38_23_Pro_Thumbs Up_new;Thumbs Up_new;4\\n',\n",
              "       'WIN_20180926_17_40_35_Pro_Left_Swipe_new;Left_Swipe_new;0\\n',\n",
              "       'WIN_20180925_17_42_57_Pro_Stop_new;Stop_new;2\\n',\n",
              "       'WIN_20180907_15_53_12_Pro_Thumbs Up_new;Thumbs Up_new;4\\n',\n",
              "       'WIN_20180907_16_20_37_Pro_Thumbs Up_new;Thumbs Up_new;4\\n',\n",
              "       'WIN_20180925_17_19_19_Pro_Right_Swipe_new;Right_Swipe_new;1\\n',\n",
              "       'WIN_20180907_16_37_03_Pro_Right Swipe_new;Right Swipe_new;1\\n',\n",
              "       'WIN_20180926_17_50_56_Pro_Stop_new;Stop_new;2\\n',\n",
              "       'WIN_20180925_17_31_02_Pro_Right_Swipe_new;Right_Swipe_new;1\\n',\n",
              "       'WIN_20180907_17_03_16_Pro_Right Swipe_new;Right Swipe_new;1\\n',\n",
              "       'WIN_20180926_16_59_06_Pro_Left_Swipe_new;Left_Swipe_new;0\\n',\n",
              "       'WIN_20180926_17_21_16_Pro_Left_Swipe_new;Left_Swipe_new;0\\n',\n",
              "       'WIN_20180926_17_53_54_Pro_Right_Swipe_new;Right_Swipe_new;1\\n',\n",
              "       'WIN_20180926_17_36_31_Pro_Thumbs_Down_new;Thumbs_Down_new;3\\n',\n",
              "       'WIN_20180925_17_53_03_Pro_Stop_new;Stop_new;2\\n',\n",
              "       'WIN_20180925_17_21_28_Pro_Left_Swipe_new;Left_Swipe_new;0\\n',\n",
              "       'WIN_20180926_17_10_43_Pro_Thumbs_Up_new;Thumbs_Up_new;4\\n',\n",
              "       'WIN_20180907_16_07_57_Pro_Left Swipe_new_Left Swipe_new;Left Swipe_new_Left Swipe_new;0\\n',\n",
              "       'WIN_20180926_17_30_14_Pro_Left_Swipe_new;Left_Swipe_new;0\\n',\n",
              "       'WIN_20180907_16_14_58_Pro_Left Swipe_new_Left Swipe_new;Left Swipe_new_Left Swipe_new;0\\n',\n",
              "       'WIN_20180907_16_24_28_Pro_Stop Gesture_new;Stop Gesture_new;2\\n',\n",
              "       'WIN_20180907_16_32_11_Pro_Stop Gesture_new;Stop Gesture_new;2\\n',\n",
              "       'WIN_20180926_17_51_06_Pro_Stop_new;Stop_new;2\\n',\n",
              "       'WIN_20180907_15_49_02_Pro_Left Swipe_new_Left Swipe_new;Left Swipe_new_Left Swipe_new;0\\n',\n",
              "       'WIN_20180925_17_35_39_Pro_Left_Swipe_new;Left_Swipe_new;0\\n',\n",
              "       'WIN_20180926_17_49_29_Pro_Stop_new;Stop_new;2\\n',\n",
              "       'WIN_20180926_17_38_34_Pro_Right_Swipe_new;Right_Swipe_new;1\\n',\n",
              "       'WIN_20180926_16_56_13_Pro_Thumbs_Up_new;Thumbs_Up_new;4\\n',\n",
              "       'WIN_20180925_17_43_33_Pro_Thumbs_Down_new;Thumbs_Down_new;3\\n',\n",
              "       'WIN_20180925_17_48_42_Pro_Thumbs_Up_new;Thumbs_Up_new;4\\n',\n",
              "       'WIN_20180907_16_01_20_Pro_Thumbs Up_new;Thumbs Up_new;4\\n',\n",
              "       'WIN_20180907_15_58_38_Pro_Thumbs Down_new;Thumbs Down_new;3\\n',\n",
              "       'WIN_20180926_17_21_24_Pro_Thumbs_Down_new;Thumbs_Down_new;3\\n',\n",
              "       'WIN_20180926_17_23_23_Pro_Right_Swipe_new;Right_Swipe_new;1\\n',\n",
              "       'WIN_20180907_16_30_24_Pro_Stop Gesture_new;Stop Gesture_new;2\\n',\n",
              "       'WIN_20180907_16_11_00_Pro_Thumbs Down_new;Thumbs Down_new;3\\n',\n",
              "       'WIN_20180926_17_24_18_Pro_Left_Swipe_new;Left_Swipe_new;0\\n',\n",
              "       'WIN_20180925_17_42_12_Pro_Right_Swipe_new;Right_Swipe_new;1\\n',\n",
              "       'WIN_20180907_16_35_35_Pro_Left Swipe_new_Left Swipe_new;Left Swipe_new_Left Swipe_new;0\\n',\n",
              "       'WIN_20180907_16_20_32_Pro_Thumbs Down_new;Thumbs Down_new;3\\n',\n",
              "       'WIN_20180907_15_38_17_Pro_Left Swipe_new_Left Swipe_new;Left Swipe_new_Left Swipe_new;0\\n',\n",
              "       'WIN_20180926_16_59_12_Pro_Stop_new;Stop_new;2\\n',\n",
              "       'WIN_20180926_17_43_44_Pro_Thumbs_Down_new;Thumbs_Down_new;3\\n',\n",
              "       'WIN_20180907_15_38_24_Pro_Right Swipe_new;Right Swipe_new;1\\n',\n",
              "       'WIN_20180907_16_40_47_Pro_Thumbs Down_new;Thumbs Down_new;3\\n',\n",
              "       'WIN_20180926_17_19_35_Pro_Right_Swipe_new;Right_Swipe_new;1\\n',\n",
              "       'WIN_20180907_16_33_59_Pro_Right Swipe_new;Right Swipe_new;1\\n',\n",
              "       'WIN_20180926_16_39_19_Pro_Stop_new;Stop_new;2\\n',\n",
              "       'WIN_20180925_17_49_45_Pro_Right_Swipe_new;Right_Swipe_new;1\\n',\n",
              "       'WIN_20180926_17_47_31_Pro_Thumbs_Down_new;Thumbs_Down_new;3\\n',\n",
              "       'WIN_20180926_17_19_13_Pro_Stop_new;Stop_new;2\\n',\n",
              "       'WIN_20180926_16_50_28_Pro_Right_Swipe_new;Right_Swipe_new;1\\n',\n",
              "       'WIN_20180926_17_13_59_Pro_Thumbs_Down_new;Thumbs_Down_new;3\\n',\n",
              "       'WIN_20180907_15_49_58_Pro_Stop Gesture_new;Stop Gesture_new;2\\n',\n",
              "       'WIN_20180925_17_29_52_Pro_Left_Swipe_new;Left_Swipe_new;0\\n',\n",
              "       'WIN_20180926_17_22_49_Pro_Right_Swipe_new;Right_Swipe_new;1\\n',\n",
              "       'WIN_20180926_17_48_06_Pro_Thumbs_Down_new;Thumbs_Down_new;3\\n',\n",
              "       'WIN_20180925_17_48_24_Pro_Left_Swipe_new;Left_Swipe_new;0\\n',\n",
              "       'WIN_20180907_16_31_45_Pro_Thumbs Up_new;Thumbs Up_new;4\\n',\n",
              "       'WIN_20180926_17_42_05_Pro_Thumbs_Down_new;Thumbs_Down_new;3\\n',\n",
              "       'WIN_20180926_17_52_26_Pro_Stop_new;Stop_new;2\\n',\n",
              "       'WIN_20180926_17_43_17_Pro_Right_Swipe_new;Right_Swipe_new;1\\n',\n",
              "       'WIN_20180925_17_46_20_Pro_Left_Swipe_new;Left_Swipe_new;0\\n',\n",
              "       'WIN_20180907_16_50_16_Pro_Right Swipe_new;Right Swipe_new;1\\n',\n",
              "       'WIN_20180926_18_05_21_Pro_Thumbs_Down_new;Thumbs_Down_new;3\\n',\n",
              "       'WIN_20180925_18_01_05_Pro_Right_Swipe_new;Right_Swipe_new;1\\n',\n",
              "       'WIN_20180926_17_36_08_Pro_Thumbs_Down_new;Thumbs_Down_new;3\\n',\n",
              "       'WIN_20180926_17_10_21_Pro_Left_Swipe_new;Left_Swipe_new;0\\n',\n",
              "       'WIN_20180926_17_24_54_Pro_Thumbs_Down_new;Thumbs_Down_new;3\\n',\n",
              "       'WIN_20180925_17_32_38_Pro_Right_Swipe_new;Right_Swipe_new;1\\n',\n",
              "       'WIN_20180907_15_57_35_Pro_Thumbs Up_new;Thumbs Up_new;4\\n',\n",
              "       'WIN_20180925_17_44_12_Pro_Thumbs_Up_new;Thumbs_Up_new;4\\n',\n",
              "       'WIN_20180926_17_29_33_Pro_Left_Swipe_new;Left_Swipe_new;0\\n',\n",
              "       'WIN_20180907_16_40_59_Pro_Left Swipe_new_Left Swipe_new;Left Swipe_new_Left Swipe_new;0\\n',\n",
              "       'WIN_20180926_16_52_36_Pro_Stop_new;Stop_new;2\\n',\n",
              "       'WIN_20180907_15_59_44_Pro_Right Swipe_new;Right Swipe_new;1\\n',\n",
              "       'WIN_20180925_17_50_44_Pro_Left_Swipe_new;Left_Swipe_new;0\\n',\n",
              "       'WIN_20180925_18_13_15_Pro_Thumbs_Down_new;Thumbs_Down_new;3\\n',\n",
              "       'WIN_20180926_17_32_19_Pro_Thumbs_Up_new;Thumbs_Up_new;4\\n',\n",
              "       'WIN_20180926_17_20_19_Pro_Left_Swipe_new;Left_Swipe_new;0\\n',\n",
              "       'WIN_20180925_18_17_43_Pro_Right_Swipe_new;Right_Swipe_new;1\\n',\n",
              "       'WIN_20180926_16_59_27_Pro_Thumbs_Up_new;Thumbs_Up_new;4\\n',\n",
              "       'WIN_20180925_18_01_57_Pro_Left_Swipe_new;Left_Swipe_new;0\\n',\n",
              "       'WIN_20180926_17_11_41_Pro_Left_Swipe_new;Left_Swipe_new;0\\n',\n",
              "       'WIN_20180926_16_40_38_Pro_Right_Swipe_new;Right_Swipe_new;1\\n',\n",
              "       'WIN_20180925_17_57_12_Pro_Thumbs_Up_new;Thumbs_Up_new;4\\n',\n",
              "       'WIN_20180926_17_47_06_Pro_Stop_new;Stop_new;2\\n',\n",
              "       'WIN_20180925_17_51_23_Pro_Thumbs_Down_new;Thumbs_Down_new;3\\n',\n",
              "       'WIN_20180926_17_13_13_Pro_Right_Swipe_new;Right_Swipe_new;1\\n',\n",
              "       'WIN_20180926_16_56_54_Pro_Stop_new;Stop_new;2\\n',\n",
              "       'WIN_20180925_17_36_28_Pro_Thumbs_Down_new;Thumbs_Down_new;3\\n',\n",
              "       'WIN_20180926_17_28_28_Pro_Stop_new;Stop_new;2\\n',\n",
              "       'WIN_20180907_16_21_11_Pro_Stop Gesture_new;Stop Gesture_new;2\\n',\n",
              "       'WIN_20180907_15_44_36_Pro_Right Swipe_new;Right Swipe_new;1\\n',\n",
              "       'WIN_20180926_16_46_40_Pro_Left_Swipe_new;Left_Swipe_new;0\\n',\n",
              "       'WIN_20180926_17_03_37_Pro_Thumbs_Down_new;Thumbs_Down_new;3\\n',\n",
              "       'WIN_20180926_17_23_43_Pro_Thumbs_Up_new;Thumbs_Up_new;4\\n',\n",
              "       'WIN_20180926_17_42_11_Pro_Thumbs_Down_new;Thumbs_Down_new;3\\n',\n",
              "       'WIN_20180907_16_31_12_Pro_Thumbs Down_new;Thumbs Down_new;3\\n',\n",
              "       'WIN_20180925_18_16_56_Pro_Thumbs_Down_new;Thumbs_Down_new;3\\n',\n",
              "       'WIN_20180926_17_42_21_Pro_Thumbs_Down_new;Thumbs_Down_new;3\\n',\n",
              "       'WIN_20180907_15_53_00_Pro_Thumbs Down_new;Thumbs Down_new;3\\n',\n",
              "       'WIN_20180926_16_51_37_Pro_Right_Swipe_new;Right_Swipe_new;1\\n',\n",
              "       'WIN_20180926_17_16_20_Pro_Thumbs_Down_new;Thumbs_Down_new;3\\n',\n",
              "       'WIN_20180907_16_07_46_Pro_Left Swipe_new_Left Swipe_new;Left Swipe_new_Left Swipe_new;0\\n',\n",
              "       'WIN_20180926_17_44_30_Pro_Thumbs_Down_new;Thumbs_Down_new;3\\n',\n",
              "       'WIN_20180925_17_39_48_Pro_Thumbs_Down_new;Thumbs_Down_new;3\\n',\n",
              "       'WIN_20180907_16_39_19_Pro_Left Swipe_new_Left Swipe_new;Left Swipe_new_Left Swipe_new;0\\n',\n",
              "       'WIN_20180926_16_48_35_Pro_Thumbs_Down_new;Thumbs_Down_new;3\\n',\n",
              "       'WIN_20180926_17_19_35_Pro_Stop_new;Stop_new;2\\n',\n",
              "       'WIN_20180926_16_38_18_Pro_Thumbs_Down_new;Thumbs_Down_new;3\\n',\n",
              "       'WIN_20180926_17_22_54_Pro_Stop_new;Stop_new;2\\n',\n",
              "       'WIN_20180926_17_45_23_Pro_Thumbs_Down_new;Thumbs_Down_new;3\\n',\n",
              "       'WIN_20180925_17_57_36_Pro_Left_Swipe_new;Left_Swipe_new;0\\n',\n",
              "       'WIN_20180925_17_39_25_Pro_Left_Swipe_new;Left_Swipe_new;0\\n',\n",
              "       'WIN_20180907_15_49_56_Pro_Right Swipe_new;Right Swipe_new;1\\n',\n",
              "       'WIN_20180907_16_13_56_Pro_Left Swipe_new_Left Swipe_new;Left Swipe_new_Left Swipe_new;0\\n',\n",
              "       'WIN_20180925_17_37_14_Pro_Stop_new;Stop_new;2\\n',\n",
              "       'WIN_20180925_17_50_04_Pro_Thumbs_Up_new;Thumbs_Up_new;4\\n',\n",
              "       'WIN_20180926_16_54_30_Pro_Left_Swipe_new;Left_Swipe_new;0\\n',\n",
              "       'WIN_20180926_16_47_00_Pro_Right_Swipe_new;Right_Swipe_new;1\\n',\n",
              "       'WIN_20180925_17_38_50_Pro_Stop_new;Stop_new;2\\n',\n",
              "       'WIN_20180925_17_43_57_Pro_Stop_new;Stop_new;2\\n',\n",
              "       'WIN_20180925_18_05_04_Pro_Thumbs_Down_new;Thumbs_Down_new;3\\n',\n",
              "       'WIN_20180925_17_26_25_Pro_Left_Swipe_new;Left_Swipe_new;0\\n',\n",
              "       'WIN_20180926_16_49_15_Pro_Left_Swipe_new;Left_Swipe_new;0\\n',\n",
              "       'WIN_20180907_16_14_43_Pro_Thumbs Down_new;Thumbs Down_new;3\\n',\n",
              "       'WIN_20180925_18_05_57_Pro_Right_Swipe_new;Right_Swipe_new;1\\n',\n",
              "       'WIN_20180907_16_06_43_Pro_Stop Gesture_new;Stop Gesture_new;2\\n',\n",
              "       'WIN_20180907_16_35_18_Pro_Thumbs Up_new;Thumbs Up_new;4\\n',\n",
              "       'WIN_20180926_16_49_23_Pro_Thumbs_Up_new;Thumbs_Up_new;4\\n',\n",
              "       'WIN_20180926_16_59_48_Pro_Stop_new;Stop_new;2\\n',\n",
              "       'WIN_20180907_16_04_13_Pro_Thumbs Down_new;Thumbs Down_new;3\\n',\n",
              "       'WIN_20180926_17_12_26_Pro_Stop_new;Stop_new;2\\n',\n",
              "       'WIN_20180907_16_15_33_Pro_Thumbs Up_new;Thumbs Up_new;4\\n',\n",
              "       'WIN_20180925_17_18_07_Pro_Thumbs_Up_new;Thumbs_Up_new;4\\n',\n",
              "       'WIN_20180907_15_51_58_Pro_Right Swipe_new;Right Swipe_new;1\\n',\n",
              "       'WIN_20180926_17_21_29_Pro_Stop_new;Stop_new;2\\n',\n",
              "       'WIN_20180925_17_45_23_Pro_Thumbs_Down_new;Thumbs_Down_new;3\\n',\n",
              "       'WIN_20180925_18_07_47_Pro_Left_Swipe_new;Left_Swipe_new;0\\n',\n",
              "       'WIN_20180925_17_34_40_Pro_Right_Swipe_new;Right_Swipe_new;1\\n',\n",
              "       'WIN_20180907_16_22_52_Pro_Thumbs Up_new;Thumbs Up_new;4\\n',\n",
              "       'WIN_20180925_18_00_08_Pro_Stop_new;Stop_new;2\\n',\n",
              "       'WIN_20180926_17_01_07_Pro_Thumbs_Up_new;Thumbs_Up_new;4\\n',\n",
              "       'WIN_20180925_17_31_26_Pro_Thumbs_Up_new;Thumbs_Up_new;4\\n',\n",
              "       'WIN_20180926_17_30_24_Pro_Right_Swipe_new;Right_Swipe_new;1\\n',\n",
              "       'WIN_20180926_16_39_45_Pro_Right_Swipe_new;Right_Swipe_new;1\\n',\n",
              "       'WIN_20180925_17_57_31_Pro_Stop_new;Stop_new;2\\n',\n",
              "       'WIN_20180926_17_07_57_Pro_Thumbs_Up_new;Thumbs_Up_new;4\\n',\n",
              "       'WIN_20180907_16_01_34_Pro_Left Swipe_new_Left Swipe_new;Left Swipe_new_Left Swipe_new;0\\n',\n",
              "       'WIN_20180907_16_14_53_Pro_Stop Gesture_new;Stop Gesture_new;2\\n',\n",
              "       'WIN_20180925_18_01_26_Pro_Right_Swipe_new;Right_Swipe_new;1\\n',\n",
              "       'WIN_20180907_16_40_19_Pro_Left Swipe_new_Left Swipe_new;Left Swipe_new_Left Swipe_new;0\\n',\n",
              "       'WIN_20180907_15_53_18_Pro_Right Swipe_new;Right Swipe_new;1\\n',\n",
              "       'WIN_20180925_18_06_22_Pro_Left_Swipe_new;Left_Swipe_new;0\\n',\n",
              "       'WIN_20180925_17_37_21_Pro_Right_Swipe_new;Right_Swipe_new;1\\n',\n",
              "       'WIN_20180926_17_45_57_Pro_Thumbs_Down_new;Thumbs_Down_new;3\\n',\n",
              "       'WIN_20180907_16_26_02_Pro_Thumbs Up_new;Thumbs Up_new;4\\n',\n",
              "       'WIN_20180925_17_44_57_Pro_Thumbs_Down_new;Thumbs_Down_new;3\\n',\n",
              "       'WIN_20180926_17_11_17_Pro_Stop_new;Stop_new;2\\n',\n",
              "       'WIN_20180907_16_25_19_Pro_Right Swipe_new;Right Swipe_new;1\\n',\n",
              "       'WIN_20180926_17_39_25_Pro_Thumbs_Up_new;Thumbs_Up_new;4\\n',\n",
              "       'WIN_20180925_17_55_45_Pro_Thumbs_Down_new;Thumbs_Down_new;3\\n',\n",
              "       'WIN_20180926_17_02_05_Pro_Thumbs_Down_new;Thumbs_Down_new;3\\n',\n",
              "       'WIN_20180925_18_05_30_Pro_Thumbs_Up_new;Thumbs_Up_new;4\\n',\n",
              "       'WIN_20180925_17_52_20_Pro_Left_Swipe_new;Left_Swipe_new;0\\n',\n",
              "       'WIN_20180907_16_42_05_Pro_Thumbs Up_new;Thumbs Up_new;4\\n',\n",
              "       'WIN_20180926_17_04_21_Pro_Thumbs_Up_new;Thumbs_Up_new;4\\n',\n",
              "       'WIN_20180907_16_24_14_Pro_Thumbs Up_new;Thumbs Up_new;4\\n',\n",
              "       'WIN_20180926_17_15_12_Pro_Left_Swipe_new;Left_Swipe_new;0\\n',\n",
              "       'WIN_20180925_18_07_19_Pro_Thumbs_Up_new;Thumbs_Up_new;4\\n',\n",
              "       'WIN_20180926_17_07_02_Pro_Stop_new;Stop_new;2\\n',\n",
              "       'WIN_20180926_17_42_43_Pro_Right_Swipe_new;Right_Swipe_new;1\\n',\n",
              "       'WIN_20180925_17_23_46_Pro_Thumbs_Up_new;Thumbs_Up_new;4\\n',\n",
              "       'WIN_20180926_16_48_34_Pro_Left_Swipe_new;Left_Swipe_new;0\\n',\n",
              "       'WIN_20180907_16_22_27_Pro_Thumbs Down_new;Thumbs Down_new;3\\n',\n",
              "       'WIN_20180925_18_06_23_Pro_Thumbs_Down_new;Thumbs_Down_new;3\\n',\n",
              "       'WIN_20180925_17_46_09_Pro_Right_Swipe_new;Right_Swipe_new;1\\n',\n",
              "       'WIN_20180925_17_42_57_Pro_Right_Swipe_new;Right_Swipe_new;1\\n',\n",
              "       'WIN_20180925_17_26_37_Pro_Thumbs_Up_new;Thumbs_Up_new;4\\n',\n",
              "       'WIN_20180925_18_02_58_Pro_Thumbs_Down_new;Thumbs_Down_new;3\\n',\n",
              "       'WIN_20180925_17_51_17_Pro_Thumbs_Up_new;Thumbs_Up_new;4\\n',\n",
              "       'WIN_20180926_16_48_32_Pro_Thumbs_Up_new;Thumbs_Up_new;4\\n',\n",
              "       'WIN_20180907_16_33_26_Pro_Thumbs Up_new;Thumbs Up_new;4\\n',\n",
              "       'WIN_20180907_16_29_34_Pro_Right Swipe_new;Right Swipe_new;1\\n',\n",
              "       'WIN_20180926_16_49_22_Pro_Thumbs_Down_new;Thumbs_Down_new;3\\n',\n",
              "       'WIN_20180925_18_13_58_Pro_Thumbs_Down_new;Thumbs_Down_new;3\\n',\n",
              "       'WIN_20180926_17_05_27_Pro_Left_Swipe_new;Left_Swipe_new;0\\n',\n",
              "       'WIN_20180926_16_49_49_Pro_Thumbs_Up_new;Thumbs_Up_new;4\\n',\n",
              "       'WIN_20180925_17_22_55_Pro_Left_Swipe_new;Left_Swipe_new;0\\n',\n",
              "       'WIN_20180907_15_47_19_Pro_Thumbs Up_new;Thumbs Up_new;4\\n',\n",
              "       'WIN_20180907_16_27_36_Pro_Stop Gesture_new;Stop Gesture_new;2\\n',\n",
              "       'WIN_20180907_15_56_12_Pro_Thumbs Down_new;Thumbs Down_new;3\\n',\n",
              "       'WIN_20180907_16_16_27_Pro_Left Swipe_new_Left Swipe_new;Left Swipe_new_Left Swipe_new;0\\n',\n",
              "       'WIN_20180907_15_43_58_Pro_Left Swipe_new_Left Swipe_new;Left Swipe_new_Left Swipe_new;0\\n',\n",
              "       'WIN_20180907_15_49_14_Pro_Thumbs Down_new;Thumbs Down_new;3\\n',\n",
              "       'WIN_20180925_17_25_14_Pro_Thumbs_Up_new;Thumbs_Up_new;4\\n',\n",
              "       'WIN_20180925_17_40_22_Pro_Thumbs_Down_new;Thumbs_Down_new;3\\n',\n",
              "       'WIN_20180926_17_10_34_Pro_Right_Swipe_new;Right_Swipe_new;1\\n',\n",
              "       'WIN_20180925_17_22_42_Pro_Thumbs_Up_new;Thumbs_Up_new;4\\n',\n",
              "       'WIN_20180907_16_00_54_Pro_Right Swipe_new;Right Swipe_new;1\\n',\n",
              "       'WIN_20180907_16_27_09_Pro_Thumbs Up_new;Thumbs Up_new;4\\n',\n",
              "       'WIN_20180925_17_34_05_Pro_Thumbs_Down_new;Thumbs_Down_new;3\\n',\n",
              "       'WIN_20180925_18_02_17_Pro_Left_Swipe_new;Left_Swipe_new;0\\n',\n",
              "       'WIN_20180925_17_47_32_Pro_Thumbs_Down_new;Thumbs_Down_new;3\\n',\n",
              "       'WIN_20180907_15_39_54_Pro_Thumbs Up_new;Thumbs Up_new;4\\n',\n",
              "       'WIN_20180907_16_12_20_Pro_Right Swipe_new;Right Swipe_new;1\\n',\n",
              "       'WIN_20180925_17_32_14_Pro_Right_Swipe_new;Right_Swipe_new;1\\n',\n",
              "       'WIN_20180925_17_50_43_Pro_Stop_new;Stop_new;2\\n',\n",
              "       'WIN_20180926_17_21_20_Pro_Right_Swipe_new;Right_Swipe_new;1\\n',\n",
              "       'WIN_20180926_17_11_36_Pro_Thumbs_Down_new;Thumbs_Down_new;3\\n',\n",
              "       'WIN_20180925_17_49_07_Pro_Left_Swipe_new;Left_Swipe_new;0\\n',\n",
              "       'WIN_20180925_17_20_22_Pro_Right_Swipe_new;Right_Swipe_new;1\\n',\n",
              "       'WIN_20180925_17_17_26_Pro_Right_Swipe_new;Right_Swipe_new;1\\n',\n",
              "       'WIN_20180907_16_57_43_Pro_Stop Gesture_new;Stop Gesture_new;2\\n',\n",
              "       'WIN_20180926_17_30_54_Pro_Right_Swipe_new;Right_Swipe_new;1\\n',\n",
              "       'WIN_20180925_18_24_34_Pro_Thumbs_Down_new;Thumbs_Down_new;3\\n',\n",
              "       'WIN_20180926_17_32_29_Pro_Thumbs_Down_new;Thumbs_Down_new;3\\n',\n",
              "       'WIN_20180925_18_00_23_Pro_Right_Swipe_new;Right_Swipe_new;1\\n',\n",
              "       'WIN_20180925_18_12_58_Pro_Right_Swipe_new;Right_Swipe_new;1\\n',\n",
              "       'WIN_20180926_17_42_17_Pro_Thumbs_Up_new;Thumbs_Up_new;4\\n',\n",
              "       'WIN_20180926_16_52_38_Pro_Left_Swipe_new;Left_Swipe_new;0\\n',\n",
              "       'WIN_20180926_17_05_32_Pro_Stop_new;Stop_new;2\\n',\n",
              "       'WIN_20180925_18_11_52_Pro_Right_Swipe_new;Right_Swipe_new;1\\n',\n",
              "       'WIN_20180907_16_00_27_Pro_Stop Gesture_new;Stop Gesture_new;2\\n',\n",
              "       'WIN_20180926_17_33_09_Pro_Thumbs_Up_new;Thumbs_Up_new;4\\n',\n",
              "       'WIN_20180907_15_48_01_Pro_Stop Gesture_new;Stop Gesture_new;2\\n',\n",
              "       'WIN_20180926_17_24_33_Pro_Thumbs_Up_new;Thumbs_Up_new;4\\n',\n",
              "       'WIN_20180907_16_25_47_Pro_Left Swipe_new_Left Swipe_new;Left Swipe_new_Left Swipe_new;0\\n',\n",
              "       'WIN_20180926_17_22_16_Pro_Thumbs_Up_new;Thumbs_Up_new;4\\n',\n",
              "       'WIN_20180926_16_54_07_Pro_Stop_new;Stop_new;2\\n',\n",
              "       'WIN_20180925_17_20_16_Pro_Thumbs_Up_new;Thumbs_Up_new;4\\n',\n",
              "       'WIN_20180926_16_55_17_Pro_Thumbs_Down_new;Thumbs_Down_new;3\\n',\n",
              "       'WIN_20180907_16_05_08_Pro_Stop Gesture_new;Stop Gesture_new;2\\n',\n",
              "       'WIN_20180926_17_15_56_Pro_Right_Swipe_new;Right_Swipe_new;1\\n',\n",
              "       'WIN_20180907_16_15_15_Pro_Thumbs Down_new;Thumbs Down_new;3\\n',\n",
              "       'WIN_20180926_17_16_29_Pro_Left_Swipe_new;Left_Swipe_new;0\\n',\n",
              "       'WIN_20180907_16_04_14_Pro_Left Swipe_new_Left Swipe_new;Left Swipe_new_Left Swipe_new;0\\n',\n",
              "       'WIN_20180925_17_31_48_Pro_Stop_new;Stop_new;2\\n',\n",
              "       'WIN_20180925_17_44_26_Pro_Right_Swipe_new;Right_Swipe_new;1\\n',\n",
              "       'WIN_20180926_16_49_40_Pro_Stop_new;Stop_new;2\\n',\n",
              "       'WIN_20180926_17_39_18_Pro_Thumbs_Down_new;Thumbs_Down_new;3\\n',\n",
              "       'WIN_20180925_17_48_24_Pro_Stop_new;Stop_new;2\\n',\n",
              "       'WIN_20180926_17_19_06_Pro_Thumbs_Down_new;Thumbs_Down_new;3\\n',\n",
              "       'WIN_20180907_15_56_38_Pro_Right Swipe_new;Right Swipe_new;1\\n',\n",
              "       'WIN_20180925_17_28_28_Pro_Thumbs_Up_new;Thumbs_Up_new;4\\n',\n",
              "       'WIN_20180926_17_10_46_Pro_Stop_new;Stop_new;2\\n',\n",
              "       'WIN_20180926_17_30_50_Pro_Stop_new;Stop_new;2\\n',\n",
              "       'WIN_20180907_16_29_13_Pro_Stop Gesture_new;Stop Gesture_new;2\\n',\n",
              "       'WIN_20180925_17_35_12_Pro_Stop_new;Stop_new;2\\n',\n",
              "       'WIN_20180907_16_22_03_Pro_Left Swipe_new_Left Swipe_new;Left Swipe_new_Left Swipe_new;0\\n',\n",
              "       'WIN_20180925_17_37_12_Pro_Thumbs_Down_new;Thumbs_Down_new;3\\n',\n",
              "       'WIN_20180925_17_40_41_Pro_Left_Swipe_new;Left_Swipe_new;0\\n',\n",
              "       'WIN_20180907_16_02_59_Pro_Stop Gesture_new;Stop Gesture_new;2\\n',\n",
              "       'WIN_20180926_17_06_26_Pro_Stop_new;Stop_new;2\\n',\n",
              "       'WIN_20180926_16_42_06_Pro_Right_Swipe_new;Right_Swipe_new;1\\n',\n",
              "       'WIN_20180926_17_33_46_Pro_Left_Swipe_new;Left_Swipe_new;0\\n',\n",
              "       'WIN_20180925_17_27_22_Pro_Thumbs_Up_new;Thumbs_Up_new;4\\n',\n",
              "       'WIN_20180926_17_18_43_Pro_Thumbs_Up_new;Thumbs_Up_new;4\\n',\n",
              "       'WIN_20180925_17_42_31_Pro_Thumbs_Down_new;Thumbs_Down_new;3\\n',\n",
              "       'WIN_20180926_17_22_54_Pro_Left_Swipe_new;Left_Swipe_new;0\\n',\n",
              "       'WIN_20180907_15_58_17_Pro_Left Swipe_new_Left Swipe_new;Left Swipe_new_Left Swipe_new;0\\n',\n",
              "       'WIN_20180907_16_37_22_Pro_Thumbs Up_new;Thumbs Up_new;4\\n',\n",
              "       'WIN_20180907_16_02_21_Pro_Left Swipe_new_Left Swipe_new;Left Swipe_new_Left Swipe_new;0\\n',\n",
              "       'WIN_20180925_18_26_40_Pro_Thumbs_Down_new;Thumbs_Down_new;3\\n',\n",
              "       'WIN_20180926_17_28_52_Pro_Right_Swipe_new;Right_Swipe_new;1\\n',\n",
              "       'WIN_20180907_16_28_15_Pro_Stop Gesture_new;Stop Gesture_new;2\\n',\n",
              "       'WIN_20180925_17_47_47_Pro_Right_Swipe_new;Right_Swipe_new;1\\n',\n",
              "       'WIN_20180925_18_07_19_Pro_Left_Swipe_new;Left_Swipe_new;0\\n',\n",
              "       'WIN_20180926_17_20_39_Pro_Right_Swipe_new;Right_Swipe_new;1\\n'],\n",
              "      dtype='<U88')"
            ]
          },
          "metadata": {},
          "execution_count": 10
        }
      ]
    },
    {
      "cell_type": "code",
      "source": [
        "if not os.path.exists('data_files'):\n",
        "    os.mkdir('data_files')\n",
        "if not os.path.exists('data_files/train'):\n",
        "    os.mkdir('data_files/train') \n",
        "if not os.path.exists('data_files/test'):\n",
        "    os.mkdir('data_files/test')     "
      ],
      "metadata": {
        "id": "wEprR3figD5a"
      },
      "execution_count": null,
      "outputs": []
    },
    {
      "cell_type": "markdown",
      "source": [
        "## Create csv file for training data\n"
      ],
      "metadata": {
        "id": "rxdg4pyrhhQz"
      }
    },
    {
      "cell_type": "code",
      "source": [
        "root_data_dir = 'gesture-recognition'\n",
        "# Assigning labels to each flower category\n",
        "num_classes = 5 \n",
        "df=pd.read_csv('gesture-recognition/train.csv',sep=';',usecols = [0,2])\n",
        "labels_name= {row[0] : row[1] for _, row in df.iterrows()}\n",
        "#test label \n",
        "df_test=pd.read_csv('gesture-recognition/val.csv',sep=';',usecols = [0,2])\n",
        "test_labels_name= {row[0] : row[1] for _, row in df_test.iterrows()}\n",
        "test_labels_name"
      ],
      "metadata": {
        "colab": {
          "base_uri": "https://localhost:8080/"
        },
        "id": "wGIt0g_FgEN2",
        "outputId": "2d222c4c-6a75-46b5-ce9a-b34fd32775bd"
      },
      "execution_count": null,
      "outputs": [
        {
          "output_type": "execute_result",
          "data": {
            "text/plain": [
              "{'WIN_20180925_17_43_01_Pro_Left_Swipe_new': 0,\n",
              " 'WIN_20180925_18_01_40_Pro_Left_Swipe_new': 0,\n",
              " 'WIN_20180925_18_03_21_Pro_Left_Swipe_new': 0,\n",
              " 'WIN_20180926_16_46_22_Pro_Left_Swipe_new': 0,\n",
              " 'WIN_20180926_16_47_09_Pro_Left_Swipe_new': 0,\n",
              " 'WIN_20180926_17_05_38_Pro_Left_Swipe_new': 0,\n",
              " 'WIN_20180926_17_08_09_Pro_Left_Swipe_new': 0,\n",
              " 'WIN_20180926_17_09_33_Pro_Left_Swipe_new': 0,\n",
              " 'WIN_20180926_17_15_35_Pro_Left_Swipe_new': 0,\n",
              " 'WIN_20180926_17_21_48_Pro_Left_Swipe_new': 0,\n",
              " 'WIN_20180926_17_32_55_Pro_Left_Swipe_new': 0,\n",
              " 'WIN_20180926_17_40_21_Pro_Left_Swipe_new': 0,\n",
              " 'WIN_20180925_17_25_06_Pro_Right_Swipe_new': 1,\n",
              " 'WIN_20180925_17_43_46_Pro_Right_Swipe_new': 1,\n",
              " 'WIN_20180926_16_48_40_Pro_Right_Swipe_new': 1,\n",
              " 'WIN_20180926_16_52_49_Pro_Right_Swipe_new': 1,\n",
              " 'WIN_20180926_17_01_52_Pro_Right_Swipe_new': 1,\n",
              " 'WIN_20180926_17_03_57_Pro_Right_Swipe_new': 1,\n",
              " 'WIN_20180926_17_12_27_Pro_Right_Swipe_new': 1,\n",
              " 'WIN_20180926_17_24_12_Pro_Right_Swipe_new': 1,\n",
              " 'WIN_20180926_17_29_34_Pro_Right_Swipe_new': 1,\n",
              " 'WIN_20180926_17_33_14_Pro_Right_Swipe_new': 1,\n",
              " 'WIN_20180926_17_34_05_Pro_Right_Swipe_new': 1,\n",
              " 'WIN_20180926_17_35_34_Pro_Right_Swipe_new': 1,\n",
              " 'WIN_20180926_17_56_52_Pro_Right_Swipe_new': 1,\n",
              " 'WIN_20180925_17_30_40_Pro_Stop_new': 2,\n",
              " 'WIN_20180925_17_32_32_Pro_Stop_new': 2,\n",
              " 'WIN_20180925_17_40_03_Pro_Stop_new': 2,\n",
              " 'WIN_20180925_17_49_40_Pro_Stop_new': 2,\n",
              " 'WIN_20180925_17_52_42_Pro_Stop_new': 2,\n",
              " 'WIN_20180926_16_37_56_Pro_Stop_new': 2,\n",
              " 'WIN_20180926_16_47_44_Pro_Stop_new': 2,\n",
              " 'WIN_20180926_16_48_48_Pro_Stop_new': 2,\n",
              " 'WIN_20180926_17_04_53_Pro_Stop_new': 2,\n",
              " 'WIN_20180926_17_08_11_Pro_Stop_new': 2,\n",
              " 'WIN_20180926_17_32_15_Pro_Stop_new': 2,\n",
              " 'WIN_20180926_17_32_40_Pro_Stop_new': 2,\n",
              " 'WIN_20180926_17_33_14_Pro_Stop_new': 2,\n",
              " 'WIN_20180926_17_33_49_Pro_Stop_new': 2,\n",
              " 'WIN_20180925_17_33_30_Pro_Thumbs_Down_new': 3,\n",
              " 'WIN_20180925_17_35_29_Pro_Thumbs_Down_new': 3,\n",
              " 'WIN_20180925_17_48_16_Pro_Thumbs_Down_new': 3,\n",
              " 'WIN_20180925_17_50_24_Pro_Thumbs_Down_new': 3,\n",
              " 'WIN_20180926_16_44_04_Pro_Thumbs_Down_new': 3,\n",
              " 'WIN_20180926_16_57_50_Pro_Thumbs_Down_new': 3,\n",
              " 'WIN_20180926_17_05_38_Pro_Thumbs_Down_new': 3,\n",
              " 'WIN_20180926_17_09_45_Pro_Thumbs_Down_new': 3,\n",
              " 'WIN_20180926_17_13_25_Pro_Thumbs_Down_new': 3,\n",
              " 'WIN_20180926_17_24_20_Pro_Thumbs_Down_new': 3,\n",
              " 'WIN_20180926_17_34_23_Pro_Thumbs_Down_new': 3,\n",
              " 'WIN_20180926_17_44_14_Pro_Thumbs_Down_new': 3,\n",
              " 'WIN_20180925_17_35_04_Pro_Thumbs_Up_new': 4,\n",
              " 'WIN_20180925_17_38_43_Pro_Thumbs_Up_new': 4,\n",
              " 'WIN_20180925_17_42_34_Pro_Thumbs_Up_new': 4,\n",
              " 'WIN_20180925_17_47_07_Pro_Thumbs_Up_new': 4,\n",
              " 'WIN_20180925_17_58_08_Pro_Thumbs_Up_new': 4,\n",
              " 'WIN_20180925_17_59_48_Pro_Thumbs_Up_new': 4,\n",
              " 'WIN_20180926_16_43_34_Pro_Thumbs_Up_new': 4,\n",
              " 'WIN_20180926_17_06_40_Pro_Thumbs_Up_new': 4,\n",
              " 'WIN_20180926_17_14_26_Pro_Thumbs_Up_new': 4,\n",
              " 'WIN_20180926_17_28_32_Pro_Thumbs_Up_new': 4,\n",
              " 'WIN_20180907_15_45_04_Pro_Left Swipe_new_Left Swipe_new': 0,\n",
              " 'WIN_20180907_16_00_42_Pro_Left Swipe_new_Left Swipe_new': 0,\n",
              " 'WIN_20180907_16_05_32_Pro_Left Swipe_new_Left Swipe_new': 0,\n",
              " 'WIN_20180907_16_21_39_Pro_Left Swipe_new_Left Swipe_new': 0,\n",
              " 'WIN_20180907_16_36_42_Pro_Left Swipe_new_Left Swipe_new': 0,\n",
              " 'WIN_20180907_15_30_06_Pro_Right Swipe_new': 1,\n",
              " 'WIN_20180907_15_45_43_Pro_Right Swipe_new': 1,\n",
              " 'WIN_20180907_15_50_39_Pro_Right Swipe_new': 1,\n",
              " 'WIN_20180907_15_55_06_Pro_Right Swipe_new': 1,\n",
              " 'WIN_20180907_15_57_43_Pro_Right Swipe_new': 1,\n",
              " 'WIN_20180907_16_02_38_Pro_Right Swipe_new': 1,\n",
              " 'WIN_20180907_16_05_10_Pro_Right Swipe_new': 1,\n",
              " 'WIN_20180907_16_14_40_Pro_Right Swipe_new': 1,\n",
              " 'WIN_20180907_16_20_53_Pro_Right Swipe_new': 1,\n",
              " 'WIN_20180907_16_25_57_Pro_Right Swipe_new': 1,\n",
              " 'WIN_20180907_15_42_17_Pro_Stop Gesture_new': 2,\n",
              " 'WIN_20180907_16_14_16_Pro_Stop Gesture_new': 2,\n",
              " 'WIN_20180907_16_16_48_Pro_Stop Gesture_new': 2,\n",
              " 'WIN_20180907_16_17_35_Pro_Stop Gesture_new': 2,\n",
              " 'WIN_20180907_16_20_15_Pro_Stop Gesture_new': 2,\n",
              " 'WIN_20180907_16_25_44_Pro_Stop Gesture_new': 2,\n",
              " 'WIN_20180907_16_30_54_Pro_Stop Gesture_new': 2,\n",
              " 'WIN_20180907_16_31_41_Pro_Stop Gesture_new': 2,\n",
              " 'WIN_20180907_15_42_25_Pro_Thumbs Down_new': 3,\n",
              " 'WIN_20180907_15_47_33_Pro_Thumbs Down_new': 3,\n",
              " 'WIN_20180907_16_02_09_Pro_Thumbs Down_new': 3,\n",
              " 'WIN_20180907_16_07_10_Pro_Thumbs Down_new': 3,\n",
              " 'WIN_20180907_16_09_35_Pro_Thumbs Down_new': 3,\n",
              " 'WIN_20180907_16_13_24_Pro_Thumbs Down_new': 3,\n",
              " 'WIN_20180907_16_18_23_Pro_Thumbs Down_new': 3,\n",
              " 'WIN_20180907_16_29_12_Pro_Thumbs Down_new': 3,\n",
              " 'WIN_20180907_16_33_15_Pro_Thumbs Down_new': 3,\n",
              " 'WIN_20180907_15_38_42_Pro_Thumbs Up_new': 4,\n",
              " 'WIN_20180907_15_43_36_Pro_Thumbs Up_new': 4,\n",
              " 'WIN_20180907_15_52_05_Pro_Thumbs Up_new': 4,\n",
              " 'WIN_20180907_15_54_30_Pro_Thumbs Up_new': 4,\n",
              " 'WIN_20180907_16_10_59_Pro_Thumbs Up_new': 4,\n",
              " 'WIN_20180907_16_39_59_Pro_Thumbs Up_new': 4}"
            ]
          },
          "metadata": {},
          "execution_count": 12
        }
      ]
    },
    {
      "cell_type": "code",
      "source": [
        "# Loop over every activity category in train and test /content/gesture-recognition\n",
        "train_data_path = os.path.join('/content/gesture-recognition','train')\n",
        "test_data_path = os.path.join('/content/gesture-recognition','val')\n",
        "data_dir_list = os.listdir(train_data_path)\n",
        "data_dir_list"
      ],
      "metadata": {
        "colab": {
          "base_uri": "https://localhost:8080/"
        },
        "id": "o2EeU3rChqoH",
        "outputId": "320feb78-8adc-4178-e22b-07c09424f116"
      },
      "execution_count": null,
      "outputs": [
        {
          "output_type": "execute_result",
          "data": {
            "text/plain": [
              "['WIN_20180925_17_08_43_Pro_Left_Swipe_new',\n",
              " 'WIN_20180925_18_20_19_Pro_Thumbs_Down_new',\n",
              " 'WIN_20180926_17_39_05_Pro_Stop_new',\n",
              " 'WIN_20180925_17_55_36_Pro_Right_Swipe_new',\n",
              " 'WIN_20180907_16_42_55_Pro_Thumbs Up_new',\n",
              " 'WIN_20180926_17_06_26_Pro_Stop_new',\n",
              " 'WIN_20180926_17_07_50_Pro_Right_Swipe_new',\n",
              " 'WIN_20180907_15_44_36_Pro_Right Swipe_new',\n",
              " 'WIN_20180925_17_29_52_Pro_Left_Swipe_new',\n",
              " 'WIN_20180925_18_28_41_Pro_Thumbs_Down_new',\n",
              " 'WIN_20180925_17_49_29_Pro_Left_Swipe_new',\n",
              " 'WIN_20180907_16_22_23_Pro_Right Swipe_new',\n",
              " 'WIN_20180925_17_37_17_Pro_Thumbs_Up_new',\n",
              " 'WIN_20180926_16_56_51_Pro_Thumbs_Up_new',\n",
              " 'WIN_20180926_17_43_07_Pro_Left_Swipe_new',\n",
              " 'WIN_20180925_17_47_19_Pro_Right_Swipe_new',\n",
              " 'WIN_20180925_17_45_31_Pro_Stop_new',\n",
              " 'WIN_20180907_16_06_35_Pro_Thumbs Down_new',\n",
              " 'WIN_20180926_16_42_06_Pro_Right_Swipe_new',\n",
              " 'WIN_20180926_17_19_13_Pro_Stop_new',\n",
              " 'WIN_20180926_16_58_25_Pro_Stop_new',\n",
              " 'WIN_20180926_16_35_06_Pro_Thumbs_Down_new',\n",
              " 'WIN_20180926_17_01_50_Pro_Stop_new',\n",
              " 'WIN_20180925_17_56_48_Pro_Stop_new',\n",
              " 'WIN_20180926_16_52_10_Pro_Thumbs_Up_new',\n",
              " 'WIN_20180907_16_13_12_Pro_Stop Gesture_new',\n",
              " 'WIN_20180926_17_24_33_Pro_Thumbs_Up_new',\n",
              " 'WIN_20180907_16_54_21_Pro_Thumbs Down_new',\n",
              " 'WIN_20180925_17_55_12_Pro_Left_Swipe_new',\n",
              " 'WIN_20180926_18_05_07_Pro_Right_Swipe_new',\n",
              " 'WIN_20180907_16_52_18_Pro_Stop Gesture_new',\n",
              " 'WIN_20180907_16_02_59_Pro_Stop Gesture_new',\n",
              " 'WIN_20180907_15_53_18_Pro_Right Swipe_new',\n",
              " 'WIN_20180925_17_17_26_Pro_Right_Swipe_new',\n",
              " 'WIN_20180925_18_06_23_Pro_Thumbs_Down_new',\n",
              " 'WIN_20180907_15_53_00_Pro_Thumbs Down_new',\n",
              " 'WIN_20180926_17_00_32_Pro_Left_Swipe_new',\n",
              " 'WIN_20180926_17_35_17_Pro_Stop_new',\n",
              " 'WIN_20180926_17_06_30_Pro_Thumbs_Down_new',\n",
              " 'WIN_20180907_16_15_44_Pro_Thumbs Down_new',\n",
              " 'WIN_20180925_17_22_11_Pro_Thumbs_Up_new',\n",
              " 'WIN_20180907_15_55_22_Pro_Stop Gesture_new',\n",
              " 'WIN_20180925_17_18_56_Pro_Left_Swipe_new',\n",
              " 'WIN_20180926_17_18_39_Pro_Thumbs_Down_new',\n",
              " 'WIN_20180907_16_35_35_Pro_Left Swipe_new_Left Swipe_new',\n",
              " 'WIN_20180926_16_54_08_Pro_Right_Swipe_new',\n",
              " 'WIN_20180926_17_22_54_Pro_Stop_new',\n",
              " 'WIN_20180925_17_56_11_Pro_Thumbs_Up_new',\n",
              " 'WIN_20180925_17_57_36_Pro_Left_Swipe_new',\n",
              " 'WIN_20180926_16_51_55_Pro_Left_Swipe_new',\n",
              " 'WIN_20180925_17_23_34_Pro_Right_Swipe_new',\n",
              " 'WIN_20180926_18_09_50_Pro_Right_Swipe_new',\n",
              " 'WIN_20180926_16_54_53_Pro_Thumbs_Down_new',\n",
              " 'WIN_20180926_17_05_27_Pro_Left_Swipe_new',\n",
              " 'WIN_20180907_15_44_13_Pro_Stop Gesture_new',\n",
              " 'WIN_20180926_17_16_10_Pro_Left_Swipe_new',\n",
              " 'WIN_20180926_17_25_18_Pro_Stop_new',\n",
              " 'WIN_20180926_17_32_19_Pro_Thumbs_Up_new',\n",
              " 'WIN_20180926_17_20_19_Pro_Left_Swipe_new',\n",
              " 'WIN_20180907_16_05_08_Pro_Stop Gesture_new',\n",
              " 'WIN_20180907_15_52_03_Pro_Stop Gesture_new',\n",
              " 'WIN_20180926_16_47_00_Pro_Right_Swipe_new',\n",
              " 'WIN_20180925_18_07_19_Pro_Thumbs_Up_new',\n",
              " 'WIN_20180925_17_26_34_Pro_Right_Swipe_new',\n",
              " 'WIN_20180926_17_29_37_Pro_Thumbs_Up_new',\n",
              " 'WIN_20180925_17_42_57_Pro_Stop_new',\n",
              " 'WIN_20180925_17_42_31_Pro_Thumbs_Down_new',\n",
              " 'WIN_20180926_17_19_35_Pro_Right_Swipe_new',\n",
              " 'WIN_20180907_15_43_58_Pro_Left Swipe_new_Left Swipe_new',\n",
              " 'WIN_20180925_17_52_58_Pro_Left_Swipe_new',\n",
              " 'WIN_20180926_17_24_54_Pro_Left_Swipe_new',\n",
              " 'WIN_20180926_16_50_27_Pro_Thumbs_Up_new',\n",
              " 'WIN_20180907_16_25_52_Pro_Thumbs Down_new',\n",
              " 'WIN_20180926_17_45_23_Pro_Thumbs_Down_new',\n",
              " 'WIN_20180925_17_32_38_Pro_Right_Swipe_new',\n",
              " 'WIN_20180926_17_03_21_Pro_Left_Swipe_new',\n",
              " 'WIN_20180907_15_45_56_Pro_Thumbs Down_new',\n",
              " 'WIN_20180907_16_19_10_Pro_Left Swipe_new_Left Swipe_new',\n",
              " 'WIN_20180926_16_48_35_Pro_Thumbs_Down_new',\n",
              " 'WIN_20180925_17_40_22_Pro_Thumbs_Down_new',\n",
              " 'WIN_20180907_16_25_22_Pro_Thumbs Down_new',\n",
              " 'WIN_20180925_17_26_37_Pro_Thumbs_Up_new',\n",
              " 'WIN_20180926_17_52_26_Pro_Stop_new',\n",
              " 'WIN_20180907_16_02_21_Pro_Left Swipe_new_Left Swipe_new',\n",
              " 'WIN_20180926_17_22_49_Pro_Right_Swipe_new',\n",
              " 'WIN_20180925_18_21_50_Pro_Thumbs_Down_new',\n",
              " 'WIN_20180926_17_27_29_Pro_Stop_new',\n",
              " 'WIN_20180926_17_10_30_Pro_Stop_new',\n",
              " 'WIN_20180925_17_43_33_Pro_Thumbs_Down_new',\n",
              " 'WIN_20180907_16_04_43_Pro_Stop Gesture_new',\n",
              " 'WIN_20180926_17_39_25_Pro_Thumbs_Up_new',\n",
              " 'WIN_20180926_17_28_28_Pro_Stop_new',\n",
              " 'WIN_20180925_17_22_42_Pro_Thumbs_Up_new',\n",
              " 'WIN_20180926_16_50_23_Pro_Stop_new',\n",
              " 'WIN_20180926_16_45_15_Pro_Left_Swipe_new',\n",
              " 'WIN_20180925_17_41_54_Pro_Thumbs_Up_new',\n",
              " 'WIN_20180925_17_26_51_Pro_Left_Swipe_new',\n",
              " 'WIN_20180907_16_07_46_Pro_Left Swipe_new_Left Swipe_new',\n",
              " 'WIN_20180925_17_50_59_Pro_Right_Swipe_new',\n",
              " 'WIN_20180926_16_55_27_Pro_Thumbs_Up_new',\n",
              " 'WIN_20180907_15_56_38_Pro_Right Swipe_new',\n",
              " 'WIN_20180907_16_27_42_Pro_Right Swipe_new',\n",
              " 'WIN_20180907_16_21_11_Pro_Stop Gesture_new',\n",
              " 'WIN_20180925_17_32_52_Pro_Thumbs_Up_new',\n",
              " 'WIN_20180926_17_21_16_Pro_Left_Swipe_new',\n",
              " 'WIN_20180925_17_45_23_Pro_Thumbs_Down_new',\n",
              " 'WIN_20180925_17_58_21_Pro_Right_Swipe_new',\n",
              " 'WIN_20180907_16_13_56_Pro_Left Swipe_new_Left Swipe_new',\n",
              " 'WIN_20180925_17_39_25_Pro_Left_Swipe_new',\n",
              " 'WIN_20180926_17_21_29_Pro_Stop_new',\n",
              " 'WIN_20180907_16_58_34_Pro_Right Swipe_new',\n",
              " 'WIN_20180926_16_57_51_Pro_Thumbs_Up_new',\n",
              " 'WIN_20180926_16_50_32_Pro_Stop_new',\n",
              " 'WIN_20180907_15_44_55_Pro_Stop Gesture_new',\n",
              " 'WIN_20180925_17_35_24_Pro_Right_Swipe_new',\n",
              " 'WIN_20180926_16_37_46_Pro_Stop_new',\n",
              " 'WIN_20180926_17_40_11_Pro_Stop_new',\n",
              " 'WIN_20180907_16_23_55_Pro_Right Swipe_new',\n",
              " 'WIN_20180926_16_40_53_Pro_Thumbs_Down_new',\n",
              " 'WIN_20180907_16_01_34_Pro_Left Swipe_new_Left Swipe_new',\n",
              " 'WIN_20180926_17_27_48_Pro_Thumbs_Up_new',\n",
              " 'WIN_20180925_18_01_05_Pro_Right_Swipe_new',\n",
              " 'WIN_20180925_18_12_58_Pro_Right_Swipe_new',\n",
              " 'WIN_20180907_15_51_07_Pro_Left Swipe_new_Left Swipe_new',\n",
              " 'WIN_20180926_17_35_35_Pro_Thumbs_Down_new',\n",
              " 'WIN_20180925_17_39_11_Pro_Stop_new',\n",
              " 'WIN_20180925_18_14_35_Pro_Right_Swipe_new',\n",
              " 'WIN_20180926_17_42_05_Pro_Thumbs_Down_new',\n",
              " 'WIN_20180926_17_33_09_Pro_Thumbs_Up_new',\n",
              " 'WIN_20180926_16_49_15_Pro_Left_Swipe_new',\n",
              " 'WIN_20180926_16_50_21_Pro_Left_Swipe_new',\n",
              " 'WIN_20180926_16_49_49_Pro_Thumbs_Up_new',\n",
              " 'WIN_20180925_18_02_58_Pro_Thumbs_Down_new',\n",
              " 'WIN_20180925_17_52_20_Pro_Left_Swipe_new',\n",
              " 'WIN_20180925_17_19_16_Pro_Thumbs_Up_new',\n",
              " 'WIN_20180926_17_11_17_Pro_Stop_new',\n",
              " 'WIN_20180925_17_26_25_Pro_Left_Swipe_new',\n",
              " 'WIN_20180926_17_31_45_Pro_Thumbs_Up_new',\n",
              " 'WIN_20180926_17_43_17_Pro_Right_Swipe_new',\n",
              " 'WIN_20180907_15_50_05_Pro_Left Swipe_new_Left Swipe_new',\n",
              " 'WIN_20180926_16_58_07_Pro_Thumbs_Up_new',\n",
              " 'WIN_20180926_17_01_07_Pro_Thumbs_Up_new',\n",
              " 'WIN_20180925_18_06_24_Pro_Stop_new',\n",
              " 'WIN_20180926_17_18_02_Pro_Thumbs_Up_new',\n",
              " 'WIN_20180907_16_12_40_Pro_Thumbs Down_new',\n",
              " 'WIN_20180907_16_38_23_Pro_Thumbs Up_new',\n",
              " 'WIN_20180926_16_50_28_Pro_Right_Swipe_new',\n",
              " 'WIN_20180926_17_42_43_Pro_Right_Swipe_new',\n",
              " 'WIN_20180926_17_44_20_Pro_Right_Swipe_new',\n",
              " 'WIN_20180925_17_50_31_Pro_Right_Swipe_new',\n",
              " 'WIN_20180907_16_04_14_Pro_Left Swipe_new_Left Swipe_new',\n",
              " 'WIN_20180925_18_07_19_Pro_Left_Swipe_new',\n",
              " 'WIN_20180925_17_53_03_Pro_Stop_new',\n",
              " 'WIN_20180907_15_43_00_Pro_Left Swipe_new_Left Swipe_new',\n",
              " 'WIN_20180925_17_50_44_Pro_Left_Swipe_new',\n",
              " 'WIN_20180925_17_46_05_Pro_Stop_new',\n",
              " 'WIN_20180926_18_05_21_Pro_Thumbs_Down_new',\n",
              " 'WIN_20180926_17_11_36_Pro_Thumbs_Down_new',\n",
              " 'WIN_20180925_17_41_24_Pro_Thumbs_Up_new',\n",
              " 'WIN_20180925_17_49_07_Pro_Left_Swipe_new',\n",
              " 'WIN_20180907_16_27_09_Pro_Thumbs Up_new',\n",
              " 'WIN_20180925_17_30_26_Pro_Thumbs_Up_new',\n",
              " 'WIN_20180925_17_33_08_Pro_Left_Swipe_new',\n",
              " 'WIN_20180926_17_02_35_Pro_Right_Swipe_new',\n",
              " 'WIN_20180907_15_45_40_Pro_Left Swipe_new_Left Swipe_new',\n",
              " 'WIN_20180926_16_56_13_Pro_Thumbs_Up_new',\n",
              " 'WIN_20180926_17_47_06_Pro_Stop_new',\n",
              " 'WIN_20180926_17_05_38_Pro_Thumbs_Up_new',\n",
              " 'WIN_20180907_16_41_45_Pro_Right Swipe_new',\n",
              " 'WIN_20180926_16_51_37_Pro_Right_Swipe_new',\n",
              " 'WIN_20180926_17_12_37_Pro_Left_Swipe_new',\n",
              " 'WIN_20180926_17_38_25_Pro_Stop_new',\n",
              " 'WIN_20180925_17_44_25_Pro_Stop_new',\n",
              " 'WIN_20180907_15_57_30_Pro_Stop Gesture_new',\n",
              " 'WIN_20180907_15_48_01_Pro_Stop Gesture_new',\n",
              " 'WIN_20180926_17_21_20_Pro_Right_Swipe_new',\n",
              " 'WIN_20180907_16_15_15_Pro_Thumbs Down_new',\n",
              " 'WIN_20180926_17_06_12_Pro_Left_Swipe_new',\n",
              " 'WIN_20180925_17_51_17_Pro_Thumbs_Up_new',\n",
              " 'WIN_20180926_17_24_18_Pro_Left_Swipe_new',\n",
              " 'WIN_20180925_17_48_48_Pro_Right_Swipe_new',\n",
              " 'WIN_20180926_17_21_18_Pro_Thumbs_Up_new',\n",
              " 'WIN_20180925_17_49_45_Pro_Right_Swipe_new',\n",
              " 'WIN_20180926_16_59_03_Pro_Thumbs_Down_new',\n",
              " 'WIN_20180926_17_33_08_Pro_Thumbs_Down_new',\n",
              " 'WIN_20180926_17_37_02_Pro_Stop_new',\n",
              " 'WIN_20180907_15_48_25_Pro_Thumbs Down_new',\n",
              " 'WIN_20180926_16_56_46_Pro_Right_Swipe_new',\n",
              " 'WIN_20180926_17_19_48_Pro_Left_Swipe_new',\n",
              " 'WIN_20180907_16_12_16_Pro_Thumbs Down_new',\n",
              " 'WIN_20180926_16_49_40_Pro_Stop_new',\n",
              " 'WIN_20180926_17_29_23_Pro_Stop_new',\n",
              " 'WIN_20180926_17_00_44_Pro_Thumbs_Down_new',\n",
              " 'WIN_20180907_15_49_02_Pro_Left Swipe_new_Left Swipe_new',\n",
              " 'WIN_20180907_16_38_29_Pro_Left Swipe_new_Left Swipe_new',\n",
              " 'WIN_20180926_16_59_48_Pro_Stop_new',\n",
              " 'WIN_20180925_17_46_09_Pro_Right_Swipe_new',\n",
              " 'WIN_20180926_16_35_34_Pro_Stop_new',\n",
              " 'WIN_20180926_17_40_52_Pro_Right_Swipe_new',\n",
              " 'WIN_20180907_16_41_13_Pro_Thumbs Down_new',\n",
              " 'WIN_20180925_17_34_05_Pro_Thumbs_Down_new',\n",
              " 'WIN_20180907_16_24_28_Pro_Stop Gesture_new',\n",
              " 'WIN_20180907_15_38_35_Pro_Thumbs Down_new',\n",
              " 'WIN_20180926_17_15_12_Pro_Left_Swipe_new',\n",
              " 'WIN_20180925_17_46_49_Pro_Left_Swipe_new',\n",
              " 'WIN_20180925_17_48_59_Pro_Stop_new',\n",
              " 'WIN_20180925_17_27_22_Pro_Thumbs_Up_new',\n",
              " 'WIN_20180907_16_36_14_Pro_Thumbs Up_new',\n",
              " 'WIN_20180926_17_20_41_Pro_Stop_new',\n",
              " 'WIN_20180907_16_06_16_Pro_Left Swipe_new_Left Swipe_new',\n",
              " 'WIN_20180925_18_03_22_Pro_Thumbs_Down_new',\n",
              " 'WIN_20180926_16_49_23_Pro_Thumbs_Up_new',\n",
              " 'WIN_20180925_18_24_34_Pro_Thumbs_Down_new',\n",
              " 'WIN_20180907_16_02_30_Pro_Thumbs Up_new',\n",
              " 'WIN_20180926_17_06_24_Pro_Left_Swipe_new',\n",
              " 'WIN_20180926_16_49_59_Pro_Thumbs_Up_new',\n",
              " 'WIN_20180907_16_03_09_Pro_Thumbs Down_new',\n",
              " 'WIN_20180926_17_13_39_Pro_Right_Swipe_new',\n",
              " 'WIN_20180926_17_42_17_Pro_Thumbs_Up_new',\n",
              " 'WIN_20180907_15_44_32_Pro_Thumbs Down_new',\n",
              " 'WIN_20180907_16_15_33_Pro_Thumbs Up_new',\n",
              " 'WIN_20180926_17_22_23_Pro_Stop_new',\n",
              " 'WIN_20180907_16_33_33_Pro_Thumbs Down_new',\n",
              " 'WIN_20180907_16_53_36_Pro_Thumbs Down_new',\n",
              " 'WIN_20180926_16_46_40_Pro_Left_Swipe_new',\n",
              " 'WIN_20180926_17_56_27_Pro_Right_Swipe_new',\n",
              " 'WIN_20180925_17_42_57_Pro_Right_Swipe_new',\n",
              " 'WIN_20180926_17_23_43_Pro_Thumbs_Up_new',\n",
              " 'WIN_20180907_16_30_30_Pro_Thumbs Up_new',\n",
              " 'WIN_20180926_16_58_27_Pro_Right_Swipe_new',\n",
              " 'WIN_20180907_16_37_03_Pro_Right Swipe_new',\n",
              " 'WIN_20180907_15_52_28_Pro_Left Swipe_new_Left Swipe_new',\n",
              " 'WIN_20180926_16_55_17_Pro_Thumbs_Down_new',\n",
              " 'WIN_20180925_17_55_45_Pro_Thumbs_Down_new',\n",
              " 'WIN_20180925_18_11_52_Pro_Right_Swipe_new',\n",
              " 'WIN_20180907_16_29_13_Pro_Stop Gesture_new',\n",
              " 'WIN_20180925_17_44_57_Pro_Thumbs_Down_new',\n",
              " 'WIN_20180926_17_29_54_Pro_Thumbs_Down_new',\n",
              " 'WIN_20180907_15_47_19_Pro_Thumbs Up_new',\n",
              " 'WIN_20180926_17_40_53_Pro_Thumbs_Up_new',\n",
              " 'WIN_20180907_16_30_24_Pro_Stop Gesture_new',\n",
              " 'WIN_20180907_16_07_50_Pro_Thumbs Down_new',\n",
              " 'WIN_20180926_17_16_29_Pro_Left_Swipe_new',\n",
              " 'WIN_20180926_16_44_06_Pro_Left_Swipe_new',\n",
              " 'WIN_20180907_15_38_24_Pro_Right Swipe_new',\n",
              " 'WIN_20180907_15_59_28_Pro_Thumbs Up_new',\n",
              " 'WIN_20180926_17_13_32_Pro_Left_Swipe_new',\n",
              " 'WIN_20180907_16_14_53_Pro_Stop Gesture_new',\n",
              " 'WIN_20180907_16_41_09_Pro_Thumbs Up_new',\n",
              " 'WIN_20180907_15_57_35_Pro_Thumbs Up_new',\n",
              " 'WIN_20180925_18_02_17_Pro_Left_Swipe_new',\n",
              " 'WIN_20180907_15_54_06_Pro_Stop Gesture_new',\n",
              " 'WIN_20180925_17_40_41_Pro_Left_Swipe_new',\n",
              " 'WIN_20180926_17_13_29_Pro_Thumbs_Up_new',\n",
              " 'WIN_20180925_17_28_28_Pro_Thumbs_Up_new',\n",
              " 'WIN_20180907_16_20_37_Pro_Thumbs Up_new',\n",
              " 'WIN_20180926_17_30_54_Pro_Right_Swipe_new',\n",
              " 'WIN_20180925_17_20_53_Pro_Thumbs_Up_new',\n",
              " 'WIN_20180926_17_20_43_Pro_Left_Swipe_new',\n",
              " 'WIN_20180925_18_04_13_Pro_Thumbs_Down_new',\n",
              " 'WIN_20180925_18_01_57_Pro_Left_Swipe_new',\n",
              " 'WIN_20180907_15_51_58_Pro_Right Swipe_new',\n",
              " 'WIN_20180926_16_59_44_Pro_Thumbs_Up_new',\n",
              " 'WIN_20180907_15_45_30_Pro_Thumbs Up_new',\n",
              " 'WIN_20180926_17_02_27_Pro_Thumbs_Up_new',\n",
              " 'WIN_20180907_16_01_35_Pro_Thumbs Down_new',\n",
              " 'WIN_20180926_17_40_43_Pro_Thumbs_Down_new',\n",
              " 'WIN_20180926_17_29_01_Pro_Stop_new',\n",
              " 'WIN_20180907_16_29_23_Pro_Left Swipe_new_Left Swipe_new',\n",
              " 'WIN_20180926_17_17_18_Pro_Thumbs_Down_new',\n",
              " 'WIN_20180925_17_37_54_Pro_Thumbs_Down_new',\n",
              " 'WIN_20180925_17_19_51_Pro_Left_Swipe_new',\n",
              " 'WIN_20180907_15_40_55_Pro_Thumbs Up_new',\n",
              " 'WIN_20180926_16_55_47_Pro_Right_Swipe_new',\n",
              " 'WIN_20180926_17_01_07_Pro_Right_Swipe_new',\n",
              " 'WIN_20180907_16_37_22_Pro_Thumbs Up_new',\n",
              " 'WIN_20180925_17_58_10_Pro_Stop_new',\n",
              " 'WIN_20180926_17_28_21_Pro_Right_Swipe_new',\n",
              " 'WIN_20180907_16_00_54_Pro_Right Swipe_new',\n",
              " 'WIN_20180925_18_02_41_Pro_Right_Swipe_new',\n",
              " 'WIN_20180926_16_59_06_Pro_Left_Swipe_new',\n",
              " 'WIN_20180926_17_32_29_Pro_Thumbs_Down_new',\n",
              " 'WIN_20180907_15_49_56_Pro_Right Swipe_new',\n",
              " 'WIN_20180925_18_05_30_Pro_Thumbs_Up_new',\n",
              " 'WIN_20180907_16_43_39_Pro_Thumbs Up_new',\n",
              " 'WIN_20180907_16_21_32_Pro_Thumbs Down_new',\n",
              " 'WIN_20180907_16_31_12_Pro_Thumbs Down_new',\n",
              " 'WIN_20180926_17_40_37_Pro_Stop_new',\n",
              " 'WIN_20180907_15_50_33_Pro_Left Swipe_new_Left Swipe_new',\n",
              " 'WIN_20180926_16_59_27_Pro_Thumbs_Up_new',\n",
              " 'WIN_20180925_18_01_30_Pro_Stop_new',\n",
              " 'WIN_20180925_17_24_49_Pro_Left_Swipe_new',\n",
              " 'WIN_20180926_17_00_47_Pro_Stop_new',\n",
              " 'WIN_20180926_18_05_38_Pro_Right_Swipe_new',\n",
              " 'WIN_20180907_15_40_26_Pro_Thumbs Down_new',\n",
              " 'WIN_20180926_17_44_30_Pro_Thumbs_Down_new',\n",
              " 'WIN_20180926_17_07_29_Pro_Stop_new',\n",
              " 'WIN_20180926_17_29_33_Pro_Left_Swipe_new',\n",
              " 'WIN_20180925_18_07_47_Pro_Left_Swipe_new',\n",
              " 'WIN_20180907_16_22_03_Pro_Left Swipe_new_Left Swipe_new',\n",
              " 'WIN_20180907_16_12_20_Pro_Right Swipe_new',\n",
              " 'WIN_20180926_17_04_21_Pro_Thumbs_Up_new',\n",
              " 'WIN_20180907_16_37_37_Pro_Left Swipe_new_Left Swipe_new',\n",
              " 'WIN_20180907_16_25_05_Pro_Stop Gesture_new',\n",
              " 'WIN_20180925_18_17_43_Pro_Right_Swipe_new',\n",
              " 'WIN_20180907_16_18_18_Pro_Right Swipe_new',\n",
              " 'WIN_20180925_18_16_51_Pro_Right_Swipe_new',\n",
              " 'WIN_20180925_17_21_28_Pro_Left_Swipe_new',\n",
              " 'WIN_20180926_16_59_55_Pro_Thumbs_Down_new',\n",
              " 'WIN_20180925_17_38_50_Pro_Stop_new',\n",
              " 'WIN_20180907_16_27_36_Pro_Stop Gesture_new',\n",
              " 'WIN_20180907_16_17_00_Pro_Right Swipe_new',\n",
              " 'WIN_20180925_17_32_14_Pro_Right_Swipe_new',\n",
              " 'WIN_20180926_16_52_54_Pro_Thumbs_Down_new',\n",
              " 'WIN_20180926_17_30_14_Pro_Left_Swipe_new',\n",
              " 'WIN_20180926_17_25_30_Pro_Right_Swipe_new',\n",
              " 'WIN_20180926_17_11_41_Pro_Left_Swipe_new',\n",
              " 'WIN_20180926_17_17_07_Pro_Thumbs_Down_new',\n",
              " 'WIN_20180907_16_24_14_Pro_Thumbs Up_new',\n",
              " 'WIN_20180925_18_05_57_Pro_Right_Swipe_new',\n",
              " 'WIN_20180907_16_26_02_Pro_Thumbs Up_new',\n",
              " 'WIN_20180926_17_38_09_Pro_Left_Swipe_new',\n",
              " 'WIN_20180907_15_43_40_Pro_Stop Gesture_new',\n",
              " 'WIN_20180907_15_56_12_Pro_Thumbs Down_new',\n",
              " 'WIN_20180926_17_16_17_Pro_Thumbs_Up_new',\n",
              " 'WIN_20180925_17_43_57_Pro_Left_Swipe_new',\n",
              " 'WIN_20180926_17_02_05_Pro_Thumbs_Down_new',\n",
              " 'WIN_20180907_16_22_27_Pro_Thumbs Down_new',\n",
              " 'WIN_20180926_17_42_21_Pro_Thumbs_Down_new',\n",
              " 'WIN_20180926_17_32_42_Pro_Thumbs_Up_new',\n",
              " 'WIN_20180907_16_14_58_Pro_Left Swipe_new_Left Swipe_new',\n",
              " 'WIN_20180926_17_22_54_Pro_Left_Swipe_new',\n",
              " 'WIN_20180926_18_05_29_Pro_Thumbs_Down_new',\n",
              " 'WIN_20180926_16_51_04_Pro_Stop_new',\n",
              " 'WIN_20180907_16_16_27_Pro_Left Swipe_new_Left Swipe_new',\n",
              " 'WIN_20180925_17_50_17_Pro_Thumbs_Down_new',\n",
              " 'WIN_20180907_16_57_43_Pro_Stop Gesture_new',\n",
              " 'WIN_20180907_16_32_11_Pro_Stop Gesture_new',\n",
              " 'WIN_20180925_18_01_52_Pro_Stop_new',\n",
              " 'WIN_20180926_17_42_11_Pro_Thumbs_Down_new',\n",
              " 'WIN_20180926_17_10_34_Pro_Right_Swipe_new',\n",
              " 'WIN_20180907_16_10_07_Pro_Thumbs Down_new',\n",
              " 'WIN_20180925_17_22_55_Pro_Left_Swipe_new',\n",
              " 'WIN_20180907_16_01_20_Pro_Thumbs Up_new',\n",
              " 'WIN_20180926_17_17_23_Pro_Thumbs_Up_new',\n",
              " 'WIN_20180926_16_55_16_Pro_Right_Swipe_new',\n",
              " 'WIN_20180907_16_04_16_Pro_Thumbs Up_new',\n",
              " 'WIN_20180926_17_14_56_Pro_Right_Swipe_new',\n",
              " 'WIN_20180907_17_03_16_Pro_Right Swipe_new',\n",
              " 'WIN_20180926_17_27_40_Pro_Left_Swipe_new',\n",
              " 'WIN_20180925_17_48_24_Pro_Left_Swipe_new',\n",
              " 'WIN_20180925_17_39_48_Pro_Thumbs_Down_new',\n",
              " 'WIN_20180907_16_11_00_Pro_Thumbs Down_new',\n",
              " 'WIN_20180925_17_42_12_Pro_Right_Swipe_new',\n",
              " 'WIN_20180926_17_39_59_Pro_Thumbs_Down_new',\n",
              " 'WIN_20180925_17_51_23_Pro_Thumbs_Down_new',\n",
              " 'WIN_20180907_16_22_52_Pro_Thumbs Up_new',\n",
              " 'WIN_20180907_16_11_36_Pro_Right Swipe_new',\n",
              " 'WIN_20180926_17_39_18_Pro_Thumbs_Down_new',\n",
              " 'WIN_20180926_17_28_09_Pro_Thumbs_Down_new',\n",
              " 'WIN_20180926_17_20_22_Pro_Thumbs_Down_new',\n",
              " 'WIN_20180907_16_12_09_Pro_Stop Gesture_new',\n",
              " 'WIN_20180925_18_01_26_Pro_Right_Swipe_new',\n",
              " 'WIN_20180907_16_27_05_Pro_Right Swipe_new',\n",
              " 'WIN_20180925_18_00_08_Pro_Stop_new',\n",
              " 'WIN_20180907_16_25_10_Pro_Thumbs Up_new',\n",
              " 'WIN_20180926_16_41_27_Pro_Right_Swipe_new',\n",
              " 'WIN_20180926_17_23_39_Pro_Left_Swipe_new',\n",
              " 'WIN_20180926_16_39_35_Pro_Stop_new',\n",
              " 'WIN_20180926_17_12_29_Pro_Thumbs_Down_new',\n",
              " 'WIN_20180925_17_43_11_Pro_Thumbs_Up_new',\n",
              " 'WIN_20180925_17_55_57_Pro_Left_Swipe_new',\n",
              " 'WIN_20180926_18_04_06_Pro_Thumbs_Down_new',\n",
              " 'WIN_20180925_18_13_15_Pro_Thumbs_Down_new',\n",
              " 'WIN_20180907_15_49_14_Pro_Thumbs Down_new',\n",
              " 'WIN_20180926_17_22_08_Pro_Thumbs_Down_new',\n",
              " 'WIN_20180926_16_53_28_Pro_Thumbs_Up_new',\n",
              " 'WIN_20180926_16_38_18_Pro_Thumbs_Down_new',\n",
              " 'WIN_20180925_17_47_47_Pro_Right_Swipe_new',\n",
              " 'WIN_20180907_16_40_47_Pro_Thumbs Down_new',\n",
              " 'WIN_20180907_16_19_27_Pro_Stop Gesture_new',\n",
              " 'WIN_20180907_16_31_45_Pro_Thumbs Up_new',\n",
              " 'WIN_20180907_16_42_05_Pro_Thumbs Up_new',\n",
              " 'WIN_20180926_17_22_53_Pro_Thumbs_Up_new',\n",
              " 'WIN_20180925_17_51_29_Pro_Stop_new',\n",
              " 'WIN_20180907_15_46_43_Pro_Left Swipe_new_Left Swipe_new',\n",
              " 'WIN_20180926_17_10_21_Pro_Left_Swipe_new',\n",
              " 'WIN_20180925_17_54_25_Pro_Left_Swipe_new',\n",
              " 'WIN_20180926_17_24_58_Pro_Right_Swipe_new',\n",
              " 'WIN_20180907_16_11_06_Pro_Stop Gesture_new',\n",
              " 'WIN_20180926_17_19_35_Pro_Stop_new',\n",
              " 'WIN_20180926_17_41_29_Pro_Right_Swipe_new',\n",
              " 'WIN_20180907_16_06_43_Pro_Stop Gesture_new',\n",
              " 'WIN_20180907_16_20_32_Pro_Thumbs Down_new',\n",
              " 'WIN_20180926_16_41_11_Pro_Thumbs_Up_new',\n",
              " 'WIN_20180925_17_37_12_Pro_Thumbs_Down_new',\n",
              " 'WIN_20180926_16_48_32_Pro_Thumbs_Up_new',\n",
              " 'WIN_20180926_16_40_01_Pro_Thumbs_Up_new',\n",
              " 'WIN_20180925_17_25_14_Pro_Thumbs_Up_new',\n",
              " 'WIN_20180926_16_39_58_Pro_Thumbs_Down_new',\n",
              " 'WIN_20180926_16_51_21_Pro_Thumbs_Down_new',\n",
              " 'WIN_20180925_17_57_58_Pro_Right_Swipe_new',\n",
              " 'WIN_20180925_17_46_33_Pro_Thumbs_Down_new',\n",
              " 'WIN_20180925_17_57_06_Pro_Thumbs_Down_new',\n",
              " 'WIN_20180926_17_03_21_Pro_Stop_new',\n",
              " 'WIN_20180907_16_43_19_Pro_Thumbs Down_new',\n",
              " 'WIN_20180926_17_13_01_Pro_Thumbs_Up_new',\n",
              " 'WIN_20180907_16_33_15_Pro_Left Swipe_new_Left Swipe_new',\n",
              " 'WIN_20180925_18_00_23_Pro_Right_Swipe_new',\n",
              " 'WIN_20180925_17_35_12_Pro_Stop_new',\n",
              " 'WIN_20180926_17_42_50_Pro_Thumbs_Down_new',\n",
              " 'WIN_20180926_17_39_43_Pro_Stop_new',\n",
              " 'WIN_20180907_16_13_35_Pro_Thumbs Up_new',\n",
              " 'WIN_20180926_16_40_38_Pro_Right_Swipe_new',\n",
              " 'WIN_20180907_15_38_17_Pro_Left Swipe_new_Left Swipe_new',\n",
              " 'WIN_20180925_17_37_14_Pro_Stop_new',\n",
              " 'WIN_20180926_16_53_30_Pro_Stop_new',\n",
              " 'WIN_20180907_16_49_05_Pro_Left Swipe_new_Left Swipe_new',\n",
              " 'WIN_20180926_17_31_23_Pro_Stop_new',\n",
              " 'WIN_20180925_17_37_21_Pro_Right_Swipe_new',\n",
              " 'WIN_20180926_16_52_38_Pro_Left_Swipe_new',\n",
              " 'WIN_20180907_16_25_47_Pro_Left Swipe_new_Left Swipe_new',\n",
              " 'WIN_20180925_17_31_02_Pro_Right_Swipe_new',\n",
              " 'WIN_20180925_17_44_12_Pro_Thumbs_Up_new',\n",
              " 'WIN_20180907_15_39_54_Pro_Thumbs Up_new',\n",
              " 'WIN_20180925_17_35_57_Pro_Stop_new',\n",
              " 'WIN_20180926_17_27_33_Pro_Right_Swipe_new',\n",
              " 'WIN_20180925_17_20_16_Pro_Thumbs_Up_new',\n",
              " 'WIN_20180926_17_37_45_Pro_Left_Swipe_new',\n",
              " 'WIN_20180907_15_56_26_Pro_Thumbs Up_new',\n",
              " 'WIN_20180926_17_21_24_Pro_Thumbs_Down_new',\n",
              " 'WIN_20180907_15_49_58_Pro_Stop Gesture_new',\n",
              " 'WIN_20180925_17_57_22_Pro_Stop_new',\n",
              " 'WIN_20180925_17_26_58_Pro_Right_Swipe_new',\n",
              " 'WIN_20180926_17_05_08_Pro_Left_Swipe_new',\n",
              " 'WIN_20180926_17_06_01_Pro_Stop_new',\n",
              " 'WIN_20180926_17_10_46_Pro_Stop_new',\n",
              " 'WIN_20180925_17_34_40_Pro_Right_Swipe_new',\n",
              " 'WIN_20180925_17_37_42_Pro_Stop_new',\n",
              " 'WIN_20180907_15_59_44_Pro_Right Swipe_new',\n",
              " 'WIN_20180925_18_16_56_Pro_Thumbs_Down_new',\n",
              " 'WIN_20180926_17_43_30_Pro_Left_Swipe_new',\n",
              " 'WIN_20180925_17_35_39_Pro_Left_Swipe_new',\n",
              " 'WIN_20180907_16_25_19_Pro_Right Swipe_new',\n",
              " 'WIN_20180925_17_36_58_Pro_Right_Swipe_new',\n",
              " 'WIN_20180907_16_06_32_Pro_Thumbs Up_new',\n",
              " 'WIN_20180907_16_02_07_Pro_Stop Gesture_new',\n",
              " 'WIN_20180907_15_58_45_Pro_Left Swipe_new_Left Swipe_new',\n",
              " 'WIN_20180926_17_30_24_Pro_Right_Swipe_new',\n",
              " 'WIN_20180925_17_51_52_Pro_Right_Swipe_new',\n",
              " 'WIN_20180926_17_14_32_Pro_Left_Swipe_new',\n",
              " 'WIN_20180926_16_52_43_Pro_Thumbs_Down_new',\n",
              " 'WIN_20180926_17_51_06_Pro_Stop_new',\n",
              " 'WIN_20180926_17_17_35_Pro_Left_Swipe_new',\n",
              " 'WIN_20180926_17_30_12_Pro_Thumbs_Up_new',\n",
              " 'WIN_20180926_17_07_09_Pro_Left_Swipe_new',\n",
              " 'WIN_20180925_18_15_50_Pro_Thumbs_Down_new',\n",
              " 'WIN_20180926_16_44_37_Pro_Left_Swipe_new',\n",
              " 'WIN_20180926_17_45_57_Pro_Thumbs_Down_new',\n",
              " 'WIN_20180926_17_07_57_Pro_Thumbs_Up_new',\n",
              " 'WIN_20180925_18_14_47_Pro_Thumbs_Down_new',\n",
              " 'WIN_20180925_17_47_06_Pro_Thumbs_Down_new',\n",
              " 'WIN_20180925_17_48_42_Pro_Thumbs_Up_new',\n",
              " 'WIN_20180925_17_42_50_Pro_Thumbs_Down_new',\n",
              " 'WIN_20180926_16_56_54_Pro_Stop_new',\n",
              " 'WIN_20180925_17_27_40_Pro_Left_Swipe_new',\n",
              " 'WIN_20180907_15_59_12_Pro_Stop Gesture_new',\n",
              " 'WIN_20180926_17_24_14_Pro_Stop_new',\n",
              " 'WIN_20180926_17_41_15_Pro_Thumbs_Up_new',\n",
              " 'WIN_20180907_16_30_13_Pro_Right Swipe_new',\n",
              " 'WIN_20180926_17_28_47_Pro_Left_Swipe_new',\n",
              " 'WIN_20180925_17_43_57_Pro_Stop_new',\n",
              " 'WIN_20180926_16_57_26_Pro_Left_Swipe_new',\n",
              " 'WIN_20180926_17_30_50_Pro_Stop_new',\n",
              " 'WIN_20180926_17_36_08_Pro_Thumbs_Down_new',\n",
              " 'WIN_20180925_17_28_48_Pro_Stop_new',\n",
              " 'WIN_20180926_17_49_29_Pro_Stop_new',\n",
              " 'WIN_20180926_17_00_22_Pro_Stop_new',\n",
              " 'WIN_20180907_16_40_19_Pro_Left Swipe_new_Left Swipe_new',\n",
              " 'WIN_20180925_17_56_00_Pro_Right_Swipe_new',\n",
              " 'WIN_20180926_17_19_06_Pro_Thumbs_Down_new',\n",
              " 'WIN_20180925_17_28_57_Pro_Right_Swipe_new',\n",
              " 'WIN_20180926_16_52_36_Pro_Stop_new',\n",
              " 'WIN_20180907_16_08_46_Pro_Thumbs Down_new',\n",
              " 'WIN_20180907_16_39_19_Pro_Left Swipe_new_Left Swipe_new',\n",
              " 'WIN_20180907_15_58_38_Pro_Thumbs Down_new',\n",
              " 'WIN_20180907_16_28_20_Pro_Thumbs Up_new',\n",
              " 'WIN_20180926_17_12_26_Pro_Stop_new',\n",
              " 'WIN_20180925_18_23_57_Pro_Thumbs_Down_new',\n",
              " 'WIN_20180907_16_07_57_Pro_Left Swipe_new_Left Swipe_new',\n",
              " 'WIN_20180907_16_08_56_Pro_Thumbs Up_new',\n",
              " 'WIN_20180926_17_10_43_Pro_Thumbs_Up_new',\n",
              " 'WIN_20180907_15_58_17_Pro_Left Swipe_new_Left Swipe_new',\n",
              " 'WIN_20180925_18_26_40_Pro_Thumbs_Down_new',\n",
              " 'WIN_20180926_17_23_23_Pro_Right_Swipe_new',\n",
              " 'WIN_20180925_17_51_49_Pro_Left_Swipe_new',\n",
              " 'WIN_20180907_16_22_00_Pro_Thumbs Up_new',\n",
              " 'WIN_20180925_17_46_20_Pro_Left_Swipe_new',\n",
              " 'WIN_20180907_15_55_27_Pro_Thumbs Down_new',\n",
              " 'WIN_20180926_16_38_09_Pro_Thumbs_Up_new',\n",
              " 'WIN_20180926_17_53_03_Pro_Right_Swipe_new',\n",
              " 'WIN_20180925_17_31_26_Pro_Thumbs_Up_new',\n",
              " 'WIN_20180926_17_20_04_Pro_Right_Swipe_new',\n",
              " 'WIN_20180926_17_03_38_Pro_Thumbs_Up_new',\n",
              " 'WIN_20180925_18_08_31_Pro_Thumbs_Down_new',\n",
              " 'WIN_20180926_16_54_30_Pro_Left_Swipe_new',\n",
              " 'WIN_20180926_16_59_12_Pro_Stop_new',\n",
              " 'WIN_20180907_15_54_42_Pro_Left Swipe_new_Left Swipe_new',\n",
              " 'WIN_20180926_16_58_12_Pro_Left_Swipe_new',\n",
              " 'WIN_20180907_15_56_07_Pro_Stop Gesture_new',\n",
              " 'WIN_20180907_15_39_51_Pro_Stop Gesture_new',\n",
              " 'WIN_20180925_17_52_46_Pro_Right_Swipe_new',\n",
              " 'WIN_20180926_17_04_58_Pro_Right_Swipe_new',\n",
              " 'WIN_20180926_17_34_37_Pro_Stop_new',\n",
              " 'WIN_20180925_17_28_04_Pro_Right_Swipe_new',\n",
              " 'WIN_20180925_17_29_33_Pro_Stop_new',\n",
              " 'WIN_20180926_16_56_12_Pro_Stop_new',\n",
              " 'WIN_20180926_17_08_38_Pro_Thumbs_Down_new',\n",
              " 'WIN_20180925_18_05_04_Pro_Thumbs_Down_new',\n",
              " 'WIN_20180926_17_32_01_Pro_Thumbs_Down_new',\n",
              " 'WIN_20180925_17_50_43_Pro_Stop_new',\n",
              " 'WIN_20180926_17_28_52_Pro_Right_Swipe_new',\n",
              " 'WIN_20180926_17_13_44_Pro_Stop_new',\n",
              " 'WIN_20180907_16_32_17_Pro_Left Swipe_new_Left Swipe_new',\n",
              " 'WIN_20180926_17_35_54_Pro_Thumbs_Up_new',\n",
              " 'WIN_20180926_17_23_26_Pro_Stop_new',\n",
              " 'WIN_20180907_16_50_16_Pro_Right Swipe_new',\n",
              " 'WIN_20180925_17_30_21_Pro_Right_Swipe_new',\n",
              " 'WIN_20180907_16_18_59_Pro_Stop Gesture_new',\n",
              " 'WIN_20180926_17_48_06_Pro_Thumbs_Down_new',\n",
              " 'WIN_20180926_16_48_34_Pro_Left_Swipe_new',\n",
              " 'WIN_20180925_17_18_25_Pro_Right_Swipe_new',\n",
              " 'WIN_20180926_16_46_07_Pro_Right_Swipe_new',\n",
              " 'WIN_20180926_17_05_54_Pro_Right_Swipe_new',\n",
              " 'WIN_20180907_15_53_12_Pro_Thumbs Up_new',\n",
              " 'WIN_20180926_17_40_35_Pro_Left_Swipe_new',\n",
              " 'WIN_20180926_17_30_47_Pro_Thumbs_Up_new',\n",
              " 'WIN_20180925_17_51_26_Pro_Left_Swipe_new',\n",
              " 'WIN_20180926_17_06_07_Pro_Thumbs_Up_new',\n",
              " 'WIN_20180925_17_46_39_Pro_Left_Swipe_new',\n",
              " 'WIN_20180926_17_07_02_Pro_Stop_new',\n",
              " 'WIN_20180926_17_39_48_Pro_Right_Swipe_new',\n",
              " 'WIN_20180907_16_12_53_Pro_Left Swipe_new_Left Swipe_new',\n",
              " 'WIN_20180925_17_37_30_Pro_Left_Swipe_new',\n",
              " 'WIN_20180926_16_57_19_Pro_Right_Swipe_new',\n",
              " 'WIN_20180925_17_19_19_Pro_Right_Swipe_new',\n",
              " 'WIN_20180926_17_24_55_Pro_Stop_new',\n",
              " 'WIN_20180925_18_13_58_Pro_Thumbs_Down_new',\n",
              " 'WIN_20180926_17_24_54_Pro_Thumbs_Down_new',\n",
              " 'WIN_20180907_15_46_25_Pro_Stop Gesture_new',\n",
              " 'WIN_20180925_17_47_32_Pro_Thumbs_Down_new',\n",
              " 'WIN_20180926_17_33_51_Pro_Thumbs_Up_new',\n",
              " 'WIN_20180925_17_43_32_Pro_Left_Swipe_new',\n",
              " 'WIN_20180926_17_05_32_Pro_Stop_new',\n",
              " 'WIN_20180907_16_00_27_Pro_Stop Gesture_new',\n",
              " 'WIN_20180926_16_54_48_Pro_Left_Swipe_new',\n",
              " 'WIN_20180907_15_54_27_Pro_Thumbs Down_new',\n",
              " 'WIN_20180907_16_33_59_Pro_Right Swipe_new',\n",
              " 'WIN_20180925_17_44_26_Pro_Right_Swipe_new',\n",
              " 'WIN_20180926_17_43_30_Pro_Thumbs_Up_new',\n",
              " 'WIN_20180907_16_19_31_Pro_Right Swipe_new',\n",
              " 'WIN_20180925_17_23_46_Pro_Thumbs_Up_new',\n",
              " 'WIN_20180907_16_42_19_Pro_Left Swipe_new_Left Swipe_new',\n",
              " 'WIN_20180926_17_54_45_Pro_Right_Swipe_new',\n",
              " 'WIN_20180926_16_55_41_Pro_Left_Swipe_new',\n",
              " 'WIN_20180926_16_42_15_Pro_Thumbs_Up_new',\n",
              " 'WIN_20180925_17_22_32_Pro_Right_Swipe_new',\n",
              " 'WIN_20180907_15_49_59_Pro_Thumbs Up_new',\n",
              " 'WIN_20180926_17_19_50_Pro_Thumbs_Down_new',\n",
              " 'WIN_20180926_16_41_01_Pro_Thumbs_Up_new',\n",
              " 'WIN_20180926_17_10_00_Pro_Thumbs_Up_new',\n",
              " 'WIN_20180926_17_25_32_Pro_Left_Swipe_new',\n",
              " 'WIN_20180926_16_47_06_Pro_Thumbs_Up_new',\n",
              " 'WIN_20180926_16_54_07_Pro_Stop_new',\n",
              " 'WIN_20180926_17_47_31_Pro_Thumbs_Down_new',\n",
              " 'WIN_20180925_17_57_52_Pro_Thumbs_Down_new',\n",
              " 'WIN_20180925_17_20_14_Pro_Left_Swipe_new',\n",
              " 'WIN_20180926_17_23_38_Pro_Thumbs_Down_new',\n",
              " 'WIN_20180925_17_57_31_Pro_Stop_new',\n",
              " 'WIN_20180926_17_11_24_Pro_Right_Swipe_new',\n",
              " 'WIN_20180907_16_24_20_Pro_Thumbs Down_new',\n",
              " 'WIN_20180926_17_18_43_Pro_Thumbs_Up_new',\n",
              " 'WIN_20180925_17_24_26_Pro_Right_Swipe_new',\n",
              " 'WIN_20180926_17_33_51_Pro_Thumbs_Down_new',\n",
              " 'WIN_20180926_18_07_05_Pro_Right_Swipe_new',\n",
              " 'WIN_20180925_17_36_07_Pro_Right_Swipe_new',\n",
              " 'WIN_20180926_17_15_18_Pro_Thumbs_Up_new',\n",
              " 'WIN_20180907_16_07_43_Pro_Right Swipe_new',\n",
              " 'WIN_20180907_16_05_58_Pro_Stop Gesture_new',\n",
              " 'WIN_20180926_17_21_49_Pro_Stop_new',\n",
              " 'WIN_20180907_16_28_15_Pro_Stop Gesture_new',\n",
              " 'WIN_20180926_17_50_56_Pro_Stop_new',\n",
              " 'WIN_20180926_17_27_34_Pro_Thumbs_Down_new',\n",
              " 'WIN_20180925_18_08_08_Pro_Thumbs_Up_new',\n",
              " 'WIN_20180925_17_36_28_Pro_Thumbs_Down_new',\n",
              " 'WIN_20180907_15_35_09_Pro_Right Swipe_new',\n",
              " 'WIN_20180907_15_43_28_Pro_Right Swipe_new',\n",
              " 'WIN_20180926_17_21_38_Pro_Thumbs_Up_new',\n",
              " 'WIN_20180907_16_40_59_Pro_Left Swipe_new_Left Swipe_new',\n",
              " 'WIN_20180926_17_53_54_Pro_Right_Swipe_new',\n",
              " 'WIN_20180926_16_49_52_Pro_Left_Swipe_new',\n",
              " 'WIN_20180925_18_06_22_Pro_Left_Swipe_new',\n",
              " 'WIN_20180907_16_14_43_Pro_Thumbs Down_new',\n",
              " 'WIN_20180926_17_20_39_Pro_Right_Swipe_new',\n",
              " 'WIN_20180925_17_53_35_Pro_Stop_new',\n",
              " 'WIN_20180907_15_41_54_Pro_Right Swipe_new',\n",
              " 'WIN_20180926_16_57_34_Pro_Left_Swipe_new',\n",
              " 'WIN_20180926_17_12_26_Pro_Thumbs_Up_new',\n",
              " 'WIN_20180907_16_33_26_Pro_Thumbs Up_new',\n",
              " 'WIN_20180926_17_15_10_Pro_Stop_new',\n",
              " 'WIN_20180926_17_33_46_Pro_Left_Swipe_new',\n",
              " 'WIN_20180926_17_43_44_Pro_Thumbs_Down_new',\n",
              " 'WIN_20180907_16_21_23_Pro_Right Swipe_new',\n",
              " 'WIN_20180925_17_48_24_Pro_Stop_new',\n",
              " 'WIN_20180926_16_49_22_Pro_Thumbs_Down_new',\n",
              " 'WIN_20180926_17_36_31_Pro_Thumbs_Down_new',\n",
              " 'WIN_20180907_15_56_32_Pro_Left Swipe_new_Left Swipe_new',\n",
              " 'WIN_20180925_17_47_40_Pro_Thumbs_Down_new',\n",
              " 'WIN_20180926_16_39_19_Pro_Stop_new',\n",
              " 'WIN_20180926_16_45_10_Pro_Thumbs_Up_new',\n",
              " 'WIN_20180926_17_43_57_Pro_Stop_new',\n",
              " 'WIN_20180926_17_20_47_Pro_Thumbs_Up_new',\n",
              " 'WIN_20180926_17_36_34_Pro_Right_Swipe_new',\n",
              " 'WIN_20180926_17_26_41_Pro_Right_Swipe_new',\n",
              " 'WIN_20180925_17_38_16_Pro_Stop_new',\n",
              " 'WIN_20180926_17_35_12_Pro_Thumbs_Down_new',\n",
              " 'WIN_20180926_17_13_13_Pro_Right_Swipe_new',\n",
              " 'WIN_20180925_17_50_07_Pro_Thumbs_Down_new',\n",
              " 'WIN_20180926_17_38_34_Pro_Right_Swipe_new',\n",
              " 'WIN_20180926_17_19_12_Pro_Left_Swipe_new',\n",
              " 'WIN_20180907_16_35_18_Pro_Thumbs Up_new',\n",
              " 'WIN_20180926_17_15_56_Pro_Right_Swipe_new',\n",
              " 'WIN_20180925_17_31_48_Pro_Stop_new',\n",
              " 'WIN_20180925_17_18_28_Pro_Left_Swipe_new',\n",
              " 'WIN_20180925_17_20_55_Pro_Right_Swipe_new',\n",
              " 'WIN_20180926_17_11_11_Pro_Left_Swipe_new',\n",
              " 'WIN_20180926_16_39_45_Pro_Right_Swipe_new',\n",
              " 'WIN_20180926_17_16_20_Pro_Thumbs_Down_new',\n",
              " 'WIN_20180925_17_57_12_Pro_Thumbs_Up_new',\n",
              " 'WIN_20180926_16_55_03_Pro_Stop_new',\n",
              " 'WIN_20180907_16_17_11_Pro_Left Swipe_new_Left Swipe_new',\n",
              " 'WIN_20180925_18_02_52_Pro_Stop_new',\n",
              " 'WIN_20180926_17_40_55_Pro_Thumbs_Down_new',\n",
              " 'WIN_20180907_16_18_43_Pro_Thumbs Up_new',\n",
              " 'WIN_20180907_16_35_51_Pro_Right Swipe_new',\n",
              " 'WIN_20180926_16_45_45_Pro_Thumbs_Down_new',\n",
              " 'WIN_20180907_16_03_54_Pro_Right Swipe_new',\n",
              " 'WIN_20180925_17_20_22_Pro_Right_Swipe_new',\n",
              " 'WIN_20180925_17_18_07_Pro_Thumbs_Up_new',\n",
              " 'WIN_20180907_16_28_49_Pro_Right Swipe_new',\n",
              " 'WIN_20180907_16_04_51_Pro_Left Swipe_new_Left Swipe_new',\n",
              " 'WIN_20180925_17_37_08_Pro_Left_Swipe_new',\n",
              " 'WIN_20180907_16_29_34_Pro_Right Swipe_new',\n",
              " 'WIN_20180926_17_13_59_Pro_Thumbs_Down_new',\n",
              " 'WIN_20180925_17_49_11_Pro_Thumbs_Down_new',\n",
              " 'WIN_20180926_17_22_16_Pro_Thumbs_Up_new',\n",
              " 'WIN_20180926_17_26_13_Pro_Left_Swipe_new',\n",
              " 'WIN_20180926_17_13_07_Pro_Left_Swipe_new',\n",
              " 'WIN_20180926_17_03_37_Pro_Thumbs_Down_new',\n",
              " 'WIN_20180925_17_46_48_Pro_Right_Swipe_new',\n",
              " 'WIN_20180907_16_56_18_Pro_Stop Gesture_new',\n",
              " 'WIN_20180907_16_04_13_Pro_Thumbs Down_new',\n",
              " 'WIN_20180925_17_50_04_Pro_Thumbs_Up_new']"
            ]
          },
          "metadata": {},
          "execution_count": 13
        }
      ]
    },
    {
      "cell_type": "code",
      "source": [
        "# Loop over every activity category in train and test /content/gesture-recognition\n",
        "train_data_path = os.path.join('/content/gesture-recognition','train')\n",
        "test_data_path = os.path.join('/content/gesture-recognition','val')\n",
        "data_dir_list = os.listdir(train_data_path)\n",
        "data_dir_list"
      ],
      "metadata": {
        "id": "DH0H_lfhhq0Z"
      },
      "execution_count": null,
      "outputs": []
    },
    {
      "cell_type": "code",
      "source": [
        "  training\n",
        "video_list = os.listdir(train_data_path)\n",
        "for vid  in video_list: # looping over gesture-recognition /train and return vedio name  \"sub folder in train\"\n",
        "    label = labels_name[str(vid)]\n",
        "    train_df = pd.DataFrame(columns=['FileName', 'Label', 'ClassName'])\n",
        "    img_list = os.listdir(os.path.join(train_data_path,vid)) \n",
        "\n",
        "    for img in img_list:# looping over every frame within the video\n",
        "            img_path = os.path.join(train_data_path,vid,img)\n",
        "            #print(img_path)\n",
        "            train_df = train_df.append({'FileName': img_path, 'Label': label,'ClassName':vid },ignore_index=True)\n",
        "    file_name='{}.csv'.format(vid)\n",
        "    train_df.to_csv('data_files/train/{}'.format(file_name))"
      ],
      "metadata": {
        "id": "TjxF48KIh3Nt"
      },
      "execution_count": null,
      "outputs": []
    },
    {
      "cell_type": "code",
      "source": [
        "#validation\n",
        "\n",
        "video_list = os.listdir(test_data_path)\n",
        "for vid  in video_list: # looping over gesture-recognition /train and return vedio name  \"sub folder in test\"\n",
        "    #print(vid)\n",
        "    label = test_labels_name[str(vid)]\n",
        "#     print(label)\n",
        "    test_df= pd.DataFrame(columns=['FileName', 'Label', 'ClassName'])\n",
        "    img_list = os.listdir(os.path.join(test_data_path,vid)) \n",
        "\n",
        "    for img in img_list:# looping over every frame within the video\n",
        "            img_path = os.path.join(test_data_path,vid,img)\n",
        "            #print(img_path)\n",
        "            test_df = test_df.append({'FileName': img_path, 'Label': label,'ClassName':vid },ignore_index=True)\n",
        "    file_name='{}.csv'.format(vid)\n",
        "    test_df.to_csv('data_files/test/{}'.format(file_name))"
      ],
      "metadata": {
        "id": "xStmNJZOh3iZ"
      },
      "execution_count": null,
      "outputs": []
    },
    {
      "cell_type": "code",
      "source": [],
      "metadata": {
        "id": "OsI3tQIliAuq"
      },
      "execution_count": null,
      "outputs": []
    },
    {
      "cell_type": "markdown",
      "source": [
        "#load_samples\n"
      ],
      "metadata": {
        "id": "ApWHLYx0iFFC"
      }
    },
    {
      "cell_type": "markdown",
      "source": [
        "output will be like\n",
        "\n",
        "sample= [[[data_files\\train\\WIN_20180907_15_44_32_Pro_Thumbs Down_new\\img1,data_files\\train\\WIN_20180907_15_44_32_Pro_Thumbs Down_new\\img2,data_files\\train\\WIN_20180907_15_44_32_Pro_Thumbs Down_new\\img3],label1], [[data_files\\train\\WIN_20180907_15_44_55_Pro_Stop Gesture_new\\img10,data_files\\train\\WIN_20180907_15_44_55_Pro_Stop Gesture_new\\img11,…],label1],……….]\n",
        "sample [[16frame name],acorrespond label]\n",
        "then will take this loading sample to feed data_gereation"
      ],
      "metadata": {
        "id": "S-RQOEPRiMSq"
      }
    },
    {
      "cell_type": "code",
      "execution_count": null,
      "metadata": {
        "id": "Cz_hlIq5TZp-"
      },
      "outputs": [],
      "source": [
        "# reading the video files from the csv file\n",
        "# data_files - list of csv files to be read.\n",
        "#data_path= data_files\\train\n",
        "def file_generator(data_path,data_files,temporal_stride=1,temporal_length=20):\n",
        "  \n",
        "   \n",
        "  # read all the csv files (one csv file corresponds to one vdieo) in data_files one by one\n",
        "    for file in data_files: #data file folder  have both train and test sub folder\n",
        "        tmp_df = pd.read_csv(os.path.join(data_path,file)) #ex:data_files\\train\\any_vedio_name\n",
        "        label_list = list(tmp_df['Label'])  # Load all the labels in the label_list\n",
        "        total_images = len(label_list) \n",
        "        if total_images>=temporal_length: # only if the number of frames in the video is greater tha temporal length, use that video\n",
        "            num_samples = int((total_images-temporal_length)/temporal_stride)+1\n",
        "            print ('num of samples from vid seq-{}: {}'.format(file,num_samples))\n",
        "            img_list = list(tmp_df['FileName'])\n",
        "        else: # if the number of frames are less than temporal length , discard it\n",
        "            print ('num of frames is less than temporal length; hence discarding this file-{}'.format(file))\n",
        "            continue\n",
        "\n",
        "        start_frame = 0\n",
        "        samples = deque() # initliaze a queue to store the frames \n",
        "        samp_count=0 # a counter to count the number of smaple. one smaple has as many frames as defined by temporal length\n",
        "        for img in img_list:\n",
        "            samples.append(img)\n",
        "            if len(samples)==temporal_length: #if the queue has as many frames as temporal length, return it as one sample\n",
        "                samples_c=copy.deepcopy(samples) # copy the queue as in the next stage frames would be popped\n",
        "                samp_count+=1\n",
        "                for t in range(temporal_stride): # pop out as many frames as described by the stride from the left to accomodate new frames\n",
        "                    samples.popleft()\n",
        "                yield samples_c,label_list[0] # return a sample(consisting of as many frames as defined by temporal length) \n",
        "                                                # and its corsponding label"
      ]
    },
    {
      "cell_type": "code",
      "source": [
        "file_generator('data_files\\train','data_files')"
      ],
      "metadata": {
        "id": "fV0UAY-diQKh"
      },
      "execution_count": null,
      "outputs": []
    },
    {
      "cell_type": "code",
      "source": [],
      "metadata": {
        "id": "7fo3pdE4jF99"
      },
      "execution_count": null,
      "outputs": []
    },
    {
      "cell_type": "markdown",
      "source": [
        "## Generator\n",
        "This is one of the most important part of the code. The overall structure of the generator has been given. In the generator, you are going to preprocess the images as you have images of 2 different dimensions as well as create a batch of video frames. You have to experiment with `img_idx`, `y`,`z` and normalization such that you get high accuracy."
      ],
      "metadata": {
        "id": "YQ-okHSfAKcv"
      }
    },
    {
      "cell_type": "code",
      "execution_count": null,
      "metadata": {
        "execution": {
          "iopub.execute_input": "2020-12-30T11:02:56.670547Z",
          "iopub.status.busy": "2020-12-30T11:02:56.668775Z",
          "iopub.status.idle": "2020-12-30T11:02:56.671184Z",
          "shell.execute_reply": "2020-12-30T11:02:56.671615Z"
        },
        "id": "1xrANziuvu_x",
        "papermill": {
          "duration": 0.040091,
          "end_time": "2020-12-30T11:02:56.671717",
          "exception": false,
          "start_time": "2020-12-30T11:02:56.631626",
          "status": "completed"
        },
        "tags": []
      },
      "outputs": [],
      "source": [
        "def cropResize(image, y, z):\n",
        "    h, w = image.shape\n",
        "    \n",
        "    # if smaller image crop at center for 120x120\n",
        "    if w == 160:\n",
        "        image = image[:120, 20:140]\n",
        "\n",
        "    # resize every image\n",
        "    return resize(image, (y,z))"
      ]
    },
    {
      "cell_type": "code",
      "execution_count": null,
      "metadata": {
        "execution": {
          "iopub.execute_input": "2020-12-30T11:02:56.739235Z",
          "iopub.status.busy": "2020-12-30T11:02:56.737914Z",
          "iopub.status.idle": "2020-12-30T11:02:56.740440Z",
          "shell.execute_reply": "2020-12-30T11:02:56.740817Z"
        },
        "id": "KhGrETufvu_y",
        "papermill": {
          "duration": 0.037747,
          "end_time": "2020-12-30T11:02:56.740923",
          "exception": false,
          "start_time": "2020-12-30T11:02:56.703176",
          "status": "completed"
        },
        "tags": []
      },
      "outputs": [],
      "source": [
        "def normalizeImage(image):\n",
        "    # applying normalization\n",
        "    return image/255.0"
      ]
    },
    {
      "cell_type": "code",
      "execution_count": null,
      "metadata": {
        "execution": {
          "iopub.execute_input": "2020-12-30T11:02:56.806638Z",
          "iopub.status.busy": "2020-12-30T11:02:56.806102Z",
          "iopub.status.idle": "2020-12-30T11:02:56.809471Z",
          "shell.execute_reply": "2020-12-30T11:02:56.810061Z"
        },
        "id": "-qd1bxIZvu_y",
        "papermill": {
          "duration": 0.038431,
          "end_time": "2020-12-30T11:02:56.810160",
          "exception": false,
          "start_time": "2020-12-30T11:02:56.771729",
          "status": "completed"
        },
        "tags": []
      },
      "outputs": [],
      "source": [
        "def preprocessImage(image, y, z):\n",
        "    return normalizeImage(cropResize(image, y, z))"
      ]
    },
    {
      "cell_type": "code",
      "execution_count": null,
      "metadata": {
        "execution": {
          "iopub.execute_input": "2020-12-30T11:02:56.876842Z",
          "iopub.status.busy": "2020-12-30T11:02:56.876269Z",
          "iopub.status.idle": "2020-12-30T11:02:56.879810Z",
          "shell.execute_reply": "2020-12-30T11:02:56.880186Z"
        },
        "id": "LNgZq2e-vu_z",
        "papermill": {
          "duration": 0.038917,
          "end_time": "2020-12-30T11:02:56.880323",
          "exception": false,
          "start_time": "2020-12-30T11:02:56.841406",
          "status": "completed"
        },
        "tags": []
      },
      "outputs": [],
      "source": [
        "def make3dFilter(x):\n",
        "    return tuple([x]*3)\n",
        "\n",
        "def make2dFilter(x):\n",
        "    return tuple([x]*2)"
      ]
    },
    {
      "cell_type": "code",
      "execution_count": null,
      "metadata": {
        "execution": {
          "iopub.execute_input": "2020-12-30T11:02:56.956477Z",
          "iopub.status.busy": "2020-12-30T11:02:56.955306Z",
          "iopub.status.idle": "2020-12-30T11:02:56.957865Z",
          "shell.execute_reply": "2020-12-30T11:02:56.958237Z"
        },
        "id": "-yPBgXECvu_z",
        "papermill": {
          "duration": 0.046129,
          "end_time": "2020-12-30T11:02:56.958354",
          "exception": false,
          "start_time": "2020-12-30T11:02:56.912225",
          "status": "completed"
        },
        "tags": []
      },
      "outputs": [],
      "source": [
        "def getBatchData(source_path, t, batch, batch_size, img_tensor):\n",
        "    [x,y,z] = [len(img_tensor[0]),img_tensor[1], img_tensor[2]]\n",
        "    img_idx = img_tensor[0]\n",
        "    batch_data = np.zeros((batch_size,x,y,z,3)) # x is the number of images you use for each video, (y,z) is the final size of the input images and 3 is the number of channels RGB\n",
        "    batch_labels = np.zeros((batch_size,5)) # batch_labels is the one hot representation of the output\n",
        "    for folder in range(batch_size): # iterate over the batch_size\n",
        "        imgs = os.listdir(source_path+'/'+ t[folder + (batch*batch_size)].split(';')[0]) # read all the images in the folder\n",
        "        for idx,item in enumerate(img_idx): #  Iterate iver the frames/images of a folder to read them in\n",
        "            image = imread(source_path+'/'+ t[folder + (batch*batch_size)].strip().split(';')[0]+'/'+imgs[item]).astype(np.float32)\n",
        "\n",
        "            #crop the images and resize them. Note that the images are of 2 different shape \n",
        "            #and the conv3D will throw error if the inputs in a batch have different shapes\n",
        "\n",
        "            # separate preprocessImage function is defined for cropping, resizing and normalizing images\n",
        "            batch_data[folder,idx,:,:,0] = preprocessImage(image[:, :, 0], y, z)\n",
        "            batch_data[folder,idx,:,:,1] = preprocessImage(image[:, :, 1], y, z)\n",
        "            batch_data[folder,idx,:,:,2] = preprocessImage(image[:, :, 2], y, z)\n",
        "\n",
        "        batch_labels[folder, int(t[folder + (batch*batch_size)].strip().split(';')[2])] = 1\n",
        "    return batch_data, batch_labels"
      ]
    },
    {
      "cell_type": "code",
      "execution_count": null,
      "metadata": {
        "execution": {
          "iopub.execute_input": "2020-12-30T11:02:57.027608Z",
          "iopub.status.busy": "2020-12-30T11:02:57.026954Z",
          "iopub.status.idle": "2020-12-30T11:02:57.030303Z",
          "shell.execute_reply": "2020-12-30T11:02:57.030681Z"
        },
        "id": "eA6r1IMmvu_0",
        "papermill": {
          "duration": 0.041295,
          "end_time": "2020-12-30T11:02:57.030781",
          "exception": false,
          "start_time": "2020-12-30T11:02:56.989486",
          "status": "completed"
        },
        "tags": []
      },
      "outputs": [],
      "source": [
        "def generator(source_path, folder_list, batch_size, img_tensor):\n",
        "    print( 'Source path = ', source_path, '; batch size =', batch_size)\n",
        "    while True:\n",
        "        t = np.random.permutation(folder_list)\n",
        "        num_batches = int(len(folder_list)/batch_size)\n",
        "        for batch in range(num_batches): # we iterate over the number of batches\n",
        "            yield getBatchData(source_path, t, batch, batch_size, img_tensor)\n",
        "        \n",
        "        # write the code for the remaining data points which are left after full batches\n",
        "        # checking if any remaining batches are there or not\n",
        "        if len(folder_list)%batch_size != 0:\n",
        "            # updated the batch size and yield\n",
        "            batch_size = len(folder_list)%batch_size\n",
        "            yield getBatchData(source_path, t, batch, batch_size, img_tensor)"
      ]
    },
    {
      "cell_type": "code",
      "execution_count": null,
      "metadata": {
        "execution": {
          "iopub.execute_input": "2020-12-30T11:02:57.165799Z",
          "iopub.status.busy": "2020-12-30T11:02:57.164733Z",
          "iopub.status.idle": "2020-12-30T11:02:57.167969Z",
          "shell.execute_reply": "2020-12-30T11:02:57.167529Z"
        },
        "id": "CiGThqNVvu_2",
        "outputId": "6f84d32d-0e79-4e7c-c556-28d02bef2902",
        "papermill": {
          "duration": 0.042645,
          "end_time": "2020-12-30T11:02:57.168049",
          "exception": false,
          "start_time": "2020-12-30T11:02:57.125404",
          "status": "completed"
        },
        "tags": [],
        "colab": {
          "base_uri": "https://localhost:8080/"
        }
      },
      "outputs": [
        {
          "output_type": "stream",
          "name": "stdout",
          "text": [
            "# training sequences = 663\n",
            "# validation sequences = 100\n",
            "# epochs = 10\n"
          ]
        }
      ],
      "source": [
        "curr_dt_time = datetime.datetime.now()\n",
        "train_path = 'gesture-recognition/train'\n",
        "val_path = 'gesture-recognition/val'\n",
        "num_train_sequences = len(train_doc)\n",
        "print('# training sequences =', num_train_sequences)\n",
        "num_val_sequences = len(val_doc)\n",
        "print('# validation sequences =', num_val_sequences)\n",
        "num_epochs = 10\n",
        "print ('# epochs =', num_epochs)"
      ]
    },
    {
      "cell_type": "code",
      "execution_count": null,
      "metadata": {
        "execution": {
          "iopub.execute_input": "2020-12-30T11:02:57.240302Z",
          "iopub.status.busy": "2020-12-30T11:02:57.239659Z",
          "iopub.status.idle": "2020-12-30T11:02:57.245542Z",
          "shell.execute_reply": "2020-12-30T11:02:57.244901Z"
        },
        "id": "w2bDaqWXvu_4",
        "outputId": "c47ba7ad-94f8-4e36-ffa7-215830542254",
        "papermill": {
          "duration": 0.045644,
          "end_time": "2020-12-30T11:02:57.245648",
          "exception": false,
          "start_time": "2020-12-30T11:02:57.200004",
          "status": "completed"
        },
        "tags": [],
        "colab": {
          "base_uri": "https://localhost:8080/"
        }
      },
      "outputs": [
        {
          "output_type": "stream",
          "name": "stdout",
          "text": [
            "# img_tensor = [array([ 0,  2,  3,  5,  6,  8,  9, 11, 12, 14, 15, 17, 18, 20, 21, 23, 24,\n",
            "       26, 27, 29]), 100, 100, 3]\n",
            "100\n"
          ]
        }
      ],
      "source": [
        "def getImgTensor(n_frames):\n",
        "    img_idx = np.round(np.linspace(0, 29, n_frames)).astype(int)\n",
        "    return [img_idx, 100, 100, 3]\n",
        "\n",
        "# define image tensor size\n",
        "img_tensor = getImgTensor(20)\n",
        "print ('# img_tensor =', img_tensor)\n",
        "print(img_tensor[1])"
      ]
    },
    {
      "cell_type": "code",
      "execution_count": null,
      "metadata": {
        "execution": {
          "iopub.execute_input": "2020-12-30T11:02:57.379837Z",
          "iopub.status.busy": "2020-12-30T11:02:57.379131Z",
          "iopub.status.idle": "2020-12-30T11:03:37.977487Z",
          "shell.execute_reply": "2020-12-30T11:03:37.978111Z"
        },
        "id": "PKXoahGbvu_7",
        "outputId": "6b3c51a5-51c8-41f2-d721-44a5907838aa",
        "papermill": {
          "duration": 40.636083,
          "end_time": "2020-12-30T11:03:37.978298",
          "exception": false,
          "start_time": "2020-12-30T11:02:57.342215",
          "status": "completed"
        },
        "tags": [],
        "colab": {
          "base_uri": "https://localhost:8080/"
        }
      },
      "outputs": [
        {
          "output_type": "stream",
          "name": "stdout",
          "text": [
            "Source path =  gesture-recognition/train ; batch size = 64\n",
            "(64, 20, 100, 100, 3)\n",
            "[1. 0. 0. 0. 0.]\n",
            "Source path =  gesture-recognition/val ; batch size = 64\n",
            "(64, 20, 100, 100, 3)\n"
          ]
        }
      ],
      "source": [
        "# check complete batch shape\n",
        "sample_generator = generator(train_path, train_doc, batch_size, img_tensor)\n",
        "sample_batch_data, sample_batch_labels = next(sample_generator)\n",
        "print(sample_batch_data.shape) #20 frame in one sample /vedio ,64 sample \n",
        "print(sample_batch_labels[1])\n",
        "# validation batch sample\n",
        "sample_val_generator = generator(val_path, val_doc, batch_size, img_tensor)\n",
        "sample_val_batch_data, sample_val_batch_labels = next(sample_val_generator)\n",
        "print(sample_val_batch_data.shape)"
      ]
    },
    {
      "cell_type": "code",
      "execution_count": null,
      "metadata": {
        "execution": {
          "iopub.execute_input": "2020-12-30T11:03:38.062371Z",
          "iopub.status.busy": "2020-12-30T11:03:38.060997Z",
          "iopub.status.idle": "2020-12-30T11:03:38.321730Z",
          "shell.execute_reply": "2020-12-30T11:03:38.322143Z"
        },
        "id": "Xl6e7d0Ovu_8",
        "outputId": "52910365-e035-486b-f5d6-8d1d5ff8e592",
        "papermill": {
          "duration": 0.308784,
          "end_time": "2020-12-30T11:03:38.322256",
          "exception": false,
          "start_time": "2020-12-30T11:03:38.013472",
          "status": "completed"
        },
        "tags": [],
        "colab": {
          "base_uri": "https://localhost:8080/",
          "height": 203
        }
      },
      "outputs": [
        {
          "output_type": "display_data",
          "data": {
            "text/plain": [
              "<Figure size 432x288 with 2 Axes>"
            ],
            "image/png": "[encoded data removed]"
          },
          "metadata": {
            "needs_background": "light"
          }
        }
      ],
      "source": [
        "# visulaize  sample images\n",
        "fig, ax = plt.subplots(1,2)\n",
        "ax[0].imshow(sample_val_batch_data[24,19,:,:,:])   \n",
        "ax[1].imshow(sample_val_batch_data[42,10,:,:,:])\n",
        "plt.show()"
      ]
    },
    {
      "cell_type": "markdown",
      "source": [
        "#### A utility function to plot the accuracy - loss graph after fitting the various models to analyze and compare their performance "
      ],
      "metadata": {
        "id": "mbHMV-OFAKcx"
      }
    },
    {
      "cell_type": "code",
      "source": [
        "def plot(history):\n",
        "    fig, axes = plt.subplots(nrows=1, ncols=2, figsize=(15,4))\n",
        "    axes[0].plot(history.history['loss'])   \n",
        "    axes[0].plot(history.history['val_loss'])\n",
        "    axes[0].legend(['loss','val_loss'])\n",
        "\n",
        "    axes[1].plot(history.history['categorical_accuracy'])   \n",
        "    axes[1].plot(history.history['val_categorical_accuracy'])\n",
        "    axes[1].legend(['categorical_accuracy','val_categorical_accuracy'])"
      ],
      "metadata": {
        "execution": {
          "iopub.status.busy": "2021-10-15T06:28:21.165036Z",
          "iopub.execute_input": "2021-10-15T06:28:21.165268Z",
          "iopub.status.idle": "2021-10-15T06:28:21.174466Z",
          "shell.execute_reply.started": "2021-10-15T06:28:21.165243Z",
          "shell.execute_reply": "2021-10-15T06:28:21.173749Z"
        },
        "trusted": true,
        "id": "1NOH0ARmAKcy"
      },
      "execution_count": null,
      "outputs": []
    },
    {
      "cell_type": "markdown",
      "source": [
        "Note here that a video is represented above in the generator as (number of images, height, width, number of channels). Take this into consideration while creating the model architecture."
      ],
      "metadata": {
        "id": "4xwdSGbiAKcz"
      }
    },
    {
      "cell_type": "markdown",
      "source": [
        "#### Checking the size of train and validation dataset"
      ],
      "metadata": {
        "id": "VkCp7dn2AKcz"
      }
    },
    {
      "cell_type": "code",
      "source": [
        "curr_dt_time = datetime.datetime.now()\n",
        "train_path = '/kaggle/input/gesturerecognitiondataset/Project_data/train'\n",
        "val_path = '/kaggle/input/gesturerecognitiondataset/Project_data/val'\n",
        "num_train_sequences = len(train_doc)\n",
        "print('# training sequences =', num_train_sequences)\n",
        "num_val_sequences = len(val_doc)\n",
        "print('# validation sequences =', num_val_sequences)\n",
        "num_epochs = 30\n",
        "print ('# epochs =', num_epochs)"
      ],
      "metadata": {
        "execution": {
          "iopub.status.busy": "2021-10-15T06:50:13.762474Z",
          "iopub.execute_input": "2021-10-15T06:50:13.762730Z",
          "iopub.status.idle": "2021-10-15T06:50:13.770159Z",
          "shell.execute_reply.started": "2021-10-15T06:50:13.762701Z",
          "shell.execute_reply": "2021-10-15T06:50:13.769391Z"
        },
        "trusted": true,
        "id": "vqdY1UqxAKc0",
        "outputId": "353c9814-25a0-4a80-987a-2bc0d6585f90"
      },
      "execution_count": null,
      "outputs": [
        {
          "name": "stdout",
          "text": "# training sequences = 663\n# validation sequences = 100\n# epochs = 30\n",
          "output_type": "stream"
        }
      ]
    },
    {
      "cell_type": "markdown",
      "source": [
        "## Model Building\n",
        "Here we make the model using different functionalities that Keras provides. Remember to use `Conv3D` and `MaxPooling3D` and not `Conv2D` and `Maxpooling2D` for a 3D convolution model. You would want to use `TimeDistributed` while building a Conv2D + RNN model. Also remember that the last layer is the softmax. Design the network in such a way that the model is able to give good accuracy on the least number of parameters so that it can fit in the memory of the webcam."
      ],
      "metadata": {
        "id": "Z2yYWwtpAKc1"
      }
    },
    {
      "cell_type": "code",
      "source": [
        "# importing specific libraries for model building\n",
        "from tensorflow.keras.models import Sequential\n",
        "from tensorflow.keras.layers import Dense, GRU,LSTM, TimeDistributed,Dropout, Flatten\n",
        "from tensorflow.keras.layers import BatchNormalization, Activation, Conv3D, MaxPooling3D, Conv2D\n",
        "from tensorflow.keras.callbacks import ModelCheckpoint, ReduceLROnPlateau\n",
        "from tensorflow.keras import optimizers\n",
        "from tensorflow.keras.applications import densenet\n",
        "\n",
        "# number of classes are 5, as we know that number of gestures to be recognized are 5 in number\n",
        "num_classes = 5"
      ],
      "metadata": {
        "execution": {
          "iopub.status.busy": "2021-10-15T06:50:13.771769Z",
          "iopub.execute_input": "2021-10-15T06:50:13.772477Z",
          "iopub.status.idle": "2021-10-15T06:50:13.779985Z",
          "shell.execute_reply.started": "2021-10-15T06:50:13.772439Z",
          "shell.execute_reply": "2021-10-15T06:50:13.779100Z"
        },
        "trusted": true,
        "id": "fYpDX2aVAKc1"
      },
      "execution_count": null,
      "outputs": []
    },
    {
      "cell_type": "markdown",
      "source": [],
      "metadata": {
        "id": "NAwmuzR5AKc2"
      }
    },
    {
      "cell_type": "code",
      "source": [
        "model = Sequential([\n",
        "    # 1st conv layer\n",
        "  layers.Conv3D(64, kernel_size=(3, 3, 3), activation='relu', padding='same', input_shape=(20,img_size,img_size,3)),\n",
        "  layers.MaxPooling3D(pool_size=(2, 2, 2)),\n",
        "  layers.Dropout(0.25),\n",
        "    \n",
        "    #2nd conv layer\n",
        "  layers.Conv3D(128, kernel_size=(3, 3, 3), padding='same', activation='relu'),\n",
        "  layers.MaxPooling3D(pool_size=(2, 2, 2)),\n",
        "  layers.Dropout(0.25),\n",
        "  \n",
        "    #3rd conv layer\n",
        "  layers.Conv3D(256, kernel_size=(3, 3, 3), padding='same', activation='relu'),\n",
        "  layers.MaxPooling3D(pool_size=(2, 2, 2)),\n",
        "  layers.Dropout(0.25),\n",
        "    \n",
        "    # flatten\n",
        "  layers.Flatten(),\n",
        "    # 1st dense layer\n",
        "  layers.Dense(128, activation='relu'),\n",
        "  layers.Dropout(0.25),\n",
        "    # output layer with softmax\n",
        "  layers.Dense(num_classes,activation='softmax')\n",
        "])"
      ],
      "metadata": {
        "execution": {
          "iopub.status.busy": "2021-10-15T06:50:13.781668Z",
          "iopub.execute_input": "2021-10-15T06:50:13.782454Z",
          "iopub.status.idle": "2021-10-15T06:50:13.853634Z",
          "shell.execute_reply.started": "2021-10-15T06:50:13.782368Z",
          "shell.execute_reply": "2021-10-15T06:50:13.853014Z"
        },
        "trusted": true,
        "id": "GdevTS2rAKc2"
      },
      "execution_count": null,
      "outputs": []
    },
    {
      "cell_type": "markdown",
      "source": [
        "#### Let us create the `train_generator` and the `val_generator` which will be used in `.fit_generator`."
      ],
      "metadata": {
        "id": "6yQU_V4VAKc3"
      }
    },
    {
      "cell_type": "code",
      "source": [
        "train_generator = generator(train_path, train_doc, batch_size)\n",
        "val_generator = generator(val_path, val_doc, batch_size)"
      ],
      "metadata": {
        "execution": {
          "iopub.status.busy": "2021-10-15T06:50:13.873379Z",
          "iopub.execute_input": "2021-10-15T06:50:13.874009Z",
          "iopub.status.idle": "2021-10-15T06:50:13.877865Z",
          "shell.execute_reply.started": "2021-10-15T06:50:13.873971Z",
          "shell.execute_reply": "2021-10-15T06:50:13.877118Z"
        },
        "trusted": true,
        "id": "kERsS_hEAKc4"
      },
      "execution_count": null,
      "outputs": []
    },
    {
      "cell_type": "code",
      "source": [
        "model_name = 'model_init' + '_' + str(curr_dt_time).replace(' ','').replace(':','_') + '/'\n",
        "    \n",
        "if not os.path.exists(model_name):\n",
        "    os.mkdir(model_name)\n",
        "        \n",
        "filepath = model_name + 'model-{epoch:05d}-{loss:.5f}-{categorical_accuracy:.5f}-{val_loss:.5f}-{val_categorical_accuracy:.5f}.h5'\n",
        "\n",
        "checkpoint = ModelCheckpoint(filepath, monitor='val_loss', verbose=1, save_best_only=False, save_weights_only=False, mode='auto',period = 1)\n",
        "\n",
        "LR = ReduceLROnPlateau(monitor='val_loss', factor=0.5, verbose=1, patience=2,mode='min', epsilon=0.0001, cooldown=0, min_lr=0.00001)\n",
        "callbacks_list = [LR]"
      ],
      "metadata": {
        "execution": {
          "iopub.status.busy": "2021-10-15T06:50:13.879129Z",
          "iopub.execute_input": "2021-10-15T06:50:13.879931Z",
          "iopub.status.idle": "2021-10-15T06:50:13.887570Z",
          "shell.execute_reply.started": "2021-10-15T06:50:13.879896Z",
          "shell.execute_reply": "2021-10-15T06:50:13.886851Z"
        },
        "trusted": true,
        "id": "G_PQQmU_AKc5"
      },
      "execution_count": null,
      "outputs": []
    },
    {
      "cell_type": "markdown",
      "source": [
        "#### The `steps_per_epoch` and `validation_steps` are used by `fit` method to decide the number of next() calls it need to make."
      ],
      "metadata": {
        "id": "BkBsM1SGAKc5"
      }
    },
    {
      "cell_type": "code",
      "source": [
        "if (num_train_sequences%batch_size) == 0:\n",
        "    steps_per_epoch = int(num_train_sequences/batch_size)\n",
        "else:\n",
        "    steps_per_epoch = (num_train_sequences//batch_size) + 1\n",
        "\n",
        "if (num_val_sequences%batch_size) == 0:\n",
        "    validation_steps = int(num_val_sequences/batch_size)\n",
        "else:\n",
        "    validation_steps = (num_val_sequences//batch_size) + 1"
      ],
      "metadata": {
        "execution": {
          "iopub.status.busy": "2021-10-15T06:50:13.889727Z",
          "iopub.execute_input": "2021-10-15T06:50:13.889911Z",
          "iopub.status.idle": "2021-10-15T06:50:13.898201Z",
          "shell.execute_reply.started": "2021-10-15T06:50:13.889886Z",
          "shell.execute_reply": "2021-10-15T06:50:13.897483Z"
        },
        "trusted": true,
        "id": "2jo-HtefAKc5"
      },
      "execution_count": null,
      "outputs": []
    },
    {
      "cell_type": "code",
      "source": [
        "# running model fit with 10 epochs for experimental model\n",
        "num_epochs = 10\n",
        "history = model.fit(train_generator, steps_per_epoch=steps_per_epoch, epochs=num_epochs, verbose=1, \n",
        "                    callbacks=callbacks_list, validation_data=val_generator,\n",
        "                    validation_steps=validation_steps, class_weight=None, workers=1, initial_epoch=0)"
      ],
      "metadata": {
        "execution": {
          "iopub.status.busy": "2021-10-15T06:50:13.900605Z",
          "iopub.execute_input": "2021-10-15T06:50:13.901316Z",
          "iopub.status.idle": "2021-10-15T07:25:45.778204Z",
          "shell.execute_reply.started": "2021-10-15T06:50:13.901289Z",
          "shell.execute_reply": "2021-10-15T07:25:45.777396Z"
        },
        "trusted": true,
        "id": "s9NQTEFLAKc5",
        "outputId": "ae066dbc-0f81-4e15-95e6-fad7eaaea704"
      },
      "execution_count": null,
      "outputs": [
        {
          "name": "stdout",
          "text": "Source path =  /kaggle/input/gesturerecognitiondataset/Project_data/train ; batch size = 32\n",
          "output_type": "stream"
        },
        {
          "name": "stderr",
          "text": "2021-10-15 06:50:23.367366: I tensorflow/compiler/mlir/mlir_graph_optimization_pass.cc:185] None of the MLIR Optimization Passes are enabled (registered 2)\n",
          "output_type": "stream"
        },
        {
          "name": "stdout",
          "text": "Epoch 1/10\n",
          "output_type": "stream"
        },
        {
          "name": "stderr",
          "text": "2021-10-15 06:50:25.197912: I tensorflow/stream_executor/cuda/cuda_dnn.cc:369] Loaded cuDNN version 8005\n",
          "output_type": "stream"
        },
        {
          "name": "stdout",
          "text": "21/21 [==============================] - ETA: 0s - loss: 1.6206 - categorical_accuracy: 0.1946Source path =  /kaggle/input/gesturerecognitiondataset/Project_data/val ; batch size = 32\n21/21 [==============================] - 244s 12s/step - loss: 1.6206 - categorical_accuracy: 0.1946 - val_loss: 1.5986 - val_categorical_accuracy: 0.2500\nEpoch 2/10\n21/21 [==============================] - 225s 11s/step - loss: 1.5968 - categorical_accuracy: 0.2398 - val_loss: 1.5938 - val_categorical_accuracy: 0.3200\nEpoch 3/10\n21/21 [==============================] - 199s 10s/step - loss: 1.5770 - categorical_accuracy: 0.2640 - val_loss: 1.5840 - val_categorical_accuracy: 0.2300\nEpoch 4/10\n21/21 [==============================] - 194s 10s/step - loss: 1.5671 - categorical_accuracy: 0.2579 - val_loss: 1.5761 - val_categorical_accuracy: 0.2400\nEpoch 5/10\n21/21 [==============================] - 198s 10s/step - loss: 1.5400 - categorical_accuracy: 0.3107 - val_loss: 1.5583 - val_categorical_accuracy: 0.3400\nEpoch 6/10\n21/21 [==============================] - 199s 10s/step - loss: 1.5403 - categorical_accuracy: 0.3137 - val_loss: 1.5389 - val_categorical_accuracy: 0.4700\nEpoch 7/10\n21/21 [==============================] - 200s 10s/step - loss: 1.5207 - categorical_accuracy: 0.3333 - val_loss: 1.5639 - val_categorical_accuracy: 0.3700\nEpoch 8/10\n21/21 [==============================] - 195s 10s/step - loss: 1.4938 - categorical_accuracy: 0.3605 - val_loss: 1.5465 - val_categorical_accuracy: 0.4000\n\nEpoch 00008: ReduceLROnPlateau reducing learning rate to 0.0005000000237487257.\nEpoch 9/10\n21/21 [==============================] - 206s 10s/step - loss: 1.4817 - categorical_accuracy: 0.3484 - val_loss: 1.5444 - val_categorical_accuracy: 0.2500\nEpoch 10/10\n21/21 [==============================] - 201s 10s/step - loss: 1.4603 - categorical_accuracy: 0.3725 - val_loss: 1.5391 - val_categorical_accuracy: 0.3000\n\nEpoch 00010: ReduceLROnPlateau reducing learning rate to 0.0002500000118743628.\n",
          "output_type": "stream"
        }
      ]
    },
    {
      "cell_type": "markdown",
      "source": [
        "### Plot graph"
      ],
      "metadata": {
        "id": "qyzc8xr4AKc6"
      }
    },
    {
      "cell_type": "code",
      "source": [
        "#lets plot the model performance graph\n",
        "plot(history)"
      ],
      "metadata": {
        "execution": {
          "iopub.status.busy": "2021-10-15T07:25:45.779636Z",
          "iopub.execute_input": "2021-10-15T07:25:45.779886Z",
          "iopub.status.idle": "2021-10-15T07:25:46.142901Z",
          "shell.execute_reply.started": "2021-10-15T07:25:45.779851Z",
          "shell.execute_reply": "2021-10-15T07:25:46.142267Z"
        },
        "trusted": true,
        "id": "cZWS2xnPAKc6",
        "outputId": "c3d3bb8f-9fc7-48eb-9d90-eec3b131ae7c"
      },
      "execution_count": null,
      "outputs": [
        {
          "output_type": "display_data",
          "data": {
            "text/plain": "<Figure size 1080x288 with 2 Axes>",
            "image/png": "[encoded data removed]"
          },
          "metadata": {
            "needs_background": "light"
          }
        }
      ]
    },
    {
      "cell_type": "markdown",
      "source": [
        "#### Looking at the above graph we see that both train loss and val loss decreases, but the val categorical accuracy is jumpy and is not reliable"
      ],
      "metadata": {
        "id": "CpldxqIpAKc6"
      }
    },
    {
      "cell_type": "markdown",
      "source": [
        "### second model Conv2D + LSTM model \n",
        "\n",
        "Now we are buiding the model using Conv2D and then usinf LSTM layers to do the model fit,\n",
        "This is a CNN + LSTM model\n",
        "\n",
        "### Model 3"
      ],
      "metadata": {
        "id": "fizzGH31AKc-"
      }
    },
    {
      "cell_type": "code",
      "source": [
        "model = Sequential()\n",
        "\n",
        "# 1st CNN layer\n",
        "model.add(TimeDistributed(Conv2D(32, (3,3),activation='elu'),input_shape=(20,img_size,img_size,3)))\n",
        "model.add(TimeDistributed(MaxPooling2D((2, 2))))\n",
        "\n",
        "# 2nd CNN layer\n",
        "model.add(TimeDistributed(Conv2D(64, (3, 3), activation='elu')))\n",
        "model.add(TimeDistributed(MaxPooling2D((2, 2))))\n",
        "\n",
        "# 3rd CNN Layer\n",
        "model.add(TimeDistributed(Conv2D(128, (3,3), activation='elu')))\n",
        "model.add(TimeDistributed(MaxPooling2D((2, 2))))\n",
        "\n",
        "# 4th CNN Layer\n",
        "model.add(TimeDistributed(Conv2D(256, (3,3),activation='elu')))\n",
        "model.add(TimeDistributed(MaxPooling2D((2, 2))))\n",
        "\n",
        "# 5th CNN Layer\n",
        "model.add(TimeDistributed(Conv2D(256, (3,3),activation='elu')))\n",
        "model.add(TimeDistributed(MaxPooling2D((2, 2))))\n",
        "\n",
        "# Flatten\n",
        "model.add(TimeDistributed(Flatten()))\n",
        "\n",
        "# 2 LSTM layers with tanh activation\n",
        "model.add(LSTM(128,activation='tanh', return_sequences=True))\n",
        "model.add(LSTM(128,activation='tanh', return_sequences=False))\n",
        "model.add(Dropout(0.25))\n",
        "\n",
        "# Dense layer\n",
        "model.add(Dense(128, activation='elu'))\n",
        "model.add(BatchNormalization())\n",
        "model.add(Dropout(0.25))\n",
        "\n",
        "# output layer with softmax\n",
        "model.add(Dense(num_classes,activation='softmax'))"
      ],
      "metadata": {
        "execution": {
          "iopub.status.busy": "2021-10-15T09:07:17.888451Z",
          "iopub.execute_input": "2021-10-15T09:07:17.888784Z",
          "iopub.status.idle": "2021-10-15T09:07:18.441890Z",
          "shell.execute_reply.started": "2021-10-15T09:07:17.888739Z",
          "shell.execute_reply": "2021-10-15T09:07:18.441214Z"
        },
        "trusted": true,
        "id": "jUcInInTAKc-"
      },
      "execution_count": null,
      "outputs": []
    },
    {
      "cell_type": "code",
      "source": [
        "#optimiser = optimizers.SGD(lr=0.001, decay=1e-6, momentum=0.7, nesterov=True)\n",
        "optimiser = optimizers.Adam(lr=0.001)\n",
        "model.compile(optimizer=optimiser, loss='categorical_crossentropy', metrics=['categorical_accuracy'])\n",
        "print (model.summary())"
      ],
      "metadata": {
        "execution": {
          "iopub.status.busy": "2021-10-15T09:07:18.443044Z",
          "iopub.execute_input": "2021-10-15T09:07:18.443292Z",
          "iopub.status.idle": "2021-10-15T09:07:18.462515Z",
          "shell.execute_reply.started": "2021-10-15T09:07:18.443250Z",
          "shell.execute_reply": "2021-10-15T09:07:18.461906Z"
        },
        "trusted": true,
        "id": "2HHHfcNzAKc-",
        "outputId": "d1b93cf3-7dac-45a8-ae4b-a36dc13c5e67"
      },
      "execution_count": null,
      "outputs": [
        {
          "name": "stdout",
          "text": "Model: \"sequential_4\"\n_________________________________________________________________\nLayer (type)                 Output Shape              Param #   \n=================================================================\ntime_distributed (TimeDistri (None, 20, 98, 98, 32)    896       \n_________________________________________________________________\ntime_distributed_1 (TimeDist (None, 20, 49, 49, 32)    0         \n_________________________________________________________________\ntime_distributed_2 (TimeDist (None, 20, 47, 47, 64)    18496     \n_________________________________________________________________\ntime_distributed_3 (TimeDist (None, 20, 23, 23, 64)    0         \n_________________________________________________________________\ntime_distributed_4 (TimeDist (None, 20, 21, 21, 128)   73856     \n_________________________________________________________________\ntime_distributed_5 (TimeDist (None, 20, 10, 10, 128)   0         \n_________________________________________________________________\ntime_distributed_6 (TimeDist (None, 20, 8, 8, 256)     295168    \n_________________________________________________________________\ntime_distributed_7 (TimeDist (None, 20, 4, 4, 256)     0         \n_________________________________________________________________\ntime_distributed_8 (TimeDist (None, 20, 2, 2, 256)     590080    \n_________________________________________________________________\ntime_distributed_9 (TimeDist (None, 20, 1, 1, 256)     0         \n_________________________________________________________________\ntime_distributed_10 (TimeDis (None, 20, 256)           0         \n_________________________________________________________________\nlstm (LSTM)                  (None, 20, 128)           197120    \n_________________________________________________________________\nlstm_1 (LSTM)                (None, 128)               131584    \n_________________________________________________________________\ndropout_14 (Dropout)         (None, 128)               0         \n_________________________________________________________________\ndense_9 (Dense)              (None, 128)               16512     \n_________________________________________________________________\nbatch_normalization (BatchNo (None, 128)               512       \n_________________________________________________________________\ndropout_15 (Dropout)         (None, 128)               0         \n_________________________________________________________________\ndense_10 (Dense)             (None, 5)                 645       \n=================================================================\nTotal params: 1,324,869\nTrainable params: 1,324,613\nNon-trainable params: 256\n_________________________________________________________________\nNone\n",
          "output_type": "stream"
        }
      ]
    },
    {
      "cell_type": "code",
      "source": [
        "# Epochs 30\n",
        "num_epochs=30\n",
        "history = model.fit(train_generator, steps_per_epoch=steps_per_epoch, epochs=num_epochs, verbose=1, \n",
        "                    callbacks=callbacks_list, validation_data=val_generator, \n",
        "                    validation_steps=validation_steps, class_weight=None, workers=1, initial_epoch=0)"
      ],
      "metadata": {
        "execution": {
          "iopub.status.busy": "2021-10-15T09:07:18.463777Z",
          "iopub.execute_input": "2021-10-15T09:07:18.464033Z",
          "iopub.status.idle": "2021-10-15T10:47:52.167751Z",
          "shell.execute_reply.started": "2021-10-15T09:07:18.464000Z",
          "shell.execute_reply": "2021-10-15T10:47:52.166999Z"
        },
        "trusted": true,
        "id": "XMVp-1K5AKc-",
        "outputId": "fa1eb495-708c-4616-b319-9e9bb67a86ae"
      },
      "execution_count": null,
      "outputs": [
        {
          "name": "stdout",
          "text": "Epoch 1/30\n21/21 [==============================] - 203s 10s/step - loss: 2.0966 - categorical_accuracy: 0.2624 - val_loss: 1.7743 - val_categorical_accuracy: 0.2100\nEpoch 2/30\n21/21 [==============================] - 204s 10s/step - loss: 1.9437 - categorical_accuracy: 0.2775 - val_loss: 1.7409 - val_categorical_accuracy: 0.2300\nEpoch 3/30\n21/21 [==============================] - 197s 10s/step - loss: 1.6894 - categorical_accuracy: 0.3183 - val_loss: 1.4966 - val_categorical_accuracy: 0.4100\nEpoch 4/30\n21/21 [==============================] - 191s 10s/step - loss: 1.6095 - categorical_accuracy: 0.3575 - val_loss: 1.7744 - val_categorical_accuracy: 0.2500\nEpoch 5/30\n21/21 [==============================] - 200s 10s/step - loss: 1.5111 - categorical_accuracy: 0.3575 - val_loss: 1.5923 - val_categorical_accuracy: 0.2400\n\nEpoch 00005: ReduceLROnPlateau reducing learning rate to 0.0005000000237487257.\nEpoch 6/30\n21/21 [==============================] - 211s 11s/step - loss: 1.3463 - categorical_accuracy: 0.4404 - val_loss: 1.3569 - val_categorical_accuracy: 0.4100\nEpoch 7/30\n21/21 [==============================] - 206s 10s/step - loss: 1.2535 - categorical_accuracy: 0.4585 - val_loss: 1.2484 - val_categorical_accuracy: 0.4500\nEpoch 8/30\n21/21 [==============================] - 194s 10s/step - loss: 1.1632 - categorical_accuracy: 0.4947 - val_loss: 1.7275 - val_categorical_accuracy: 0.3400\nEpoch 9/30\n21/21 [==============================] - 198s 10s/step - loss: 1.2024 - categorical_accuracy: 0.5053 - val_loss: 1.2533 - val_categorical_accuracy: 0.5000\n\nEpoch 00009: ReduceLROnPlateau reducing learning rate to 0.0002500000118743628.\nEpoch 10/30\n21/21 [==============================] - 198s 10s/step - loss: 1.0481 - categorical_accuracy: 0.5732 - val_loss: 1.1803 - val_categorical_accuracy: 0.4900\nEpoch 11/30\n21/21 [==============================] - 206s 10s/step - loss: 0.9719 - categorical_accuracy: 0.6003 - val_loss: 1.0306 - val_categorical_accuracy: 0.5700\nEpoch 12/30\n21/21 [==============================] - 214s 11s/step - loss: 0.9070 - categorical_accuracy: 0.6305 - val_loss: 1.0547 - val_categorical_accuracy: 0.5600\nEpoch 13/30\n21/21 [==============================] - 198s 10s/step - loss: 0.7384 - categorical_accuracy: 0.7225 - val_loss: 1.0067 - val_categorical_accuracy: 0.5800\nEpoch 14/30\n21/21 [==============================] - 205s 10s/step - loss: 0.8082 - categorical_accuracy: 0.6908 - val_loss: 1.0194 - val_categorical_accuracy: 0.5700\nEpoch 15/30\n21/21 [==============================] - 199s 10s/step - loss: 0.7538 - categorical_accuracy: 0.7059 - val_loss: 0.9578 - val_categorical_accuracy: 0.6300\nEpoch 16/30\n21/21 [==============================] - 191s 10s/step - loss: 0.6376 - categorical_accuracy: 0.7541 - val_loss: 1.1912 - val_categorical_accuracy: 0.5400\nEpoch 17/30\n21/21 [==============================] - 201s 10s/step - loss: 0.5593 - categorical_accuracy: 0.7934 - val_loss: 1.1405 - val_categorical_accuracy: 0.6200\n\nEpoch 00017: ReduceLROnPlateau reducing learning rate to 0.0001250000059371814.\nEpoch 18/30\n21/21 [==============================] - 197s 10s/step - loss: 0.4909 - categorical_accuracy: 0.8100 - val_loss: 0.8700 - val_categorical_accuracy: 0.7100\nEpoch 19/30\n21/21 [==============================] - 198s 10s/step - loss: 0.4629 - categorical_accuracy: 0.8386 - val_loss: 1.0672 - val_categorical_accuracy: 0.6500\nEpoch 20/30\n21/21 [==============================] - 192s 10s/step - loss: 0.3790 - categorical_accuracy: 0.8492 - val_loss: 1.0788 - val_categorical_accuracy: 0.6300\n\nEpoch 00020: ReduceLROnPlateau reducing learning rate to 6.25000029685907e-05.\nEpoch 21/30\n21/21 [==============================] - 199s 10s/step - loss: 0.3680 - categorical_accuracy: 0.8552 - val_loss: 0.9384 - val_categorical_accuracy: 0.7200\nEpoch 22/30\n21/21 [==============================] - 196s 10s/step - loss: 0.3265 - categorical_accuracy: 0.8884 - val_loss: 1.1006 - val_categorical_accuracy: 0.6600\n\nEpoch 00022: ReduceLROnPlateau reducing learning rate to 3.125000148429535e-05.\nEpoch 23/30\n21/21 [==============================] - 197s 10s/step - loss: 0.2573 - categorical_accuracy: 0.9110 - val_loss: 1.2495 - val_categorical_accuracy: 0.5900\nEpoch 24/30\n21/21 [==============================] - 193s 10s/step - loss: 0.2674 - categorical_accuracy: 0.9125 - val_loss: 0.9668 - val_categorical_accuracy: 0.6600\n\nEpoch 00024: ReduceLROnPlateau reducing learning rate to 1.5625000742147677e-05.\nEpoch 25/30\n21/21 [==============================] - 204s 10s/step - loss: 0.2506 - categorical_accuracy: 0.9261 - val_loss: 0.9621 - val_categorical_accuracy: 0.6700\nEpoch 26/30\n21/21 [==============================] - 202s 10s/step - loss: 0.2392 - categorical_accuracy: 0.9095 - val_loss: 0.8297 - val_categorical_accuracy: 0.7400\nEpoch 27/30\n21/21 [==============================] - 199s 10s/step - loss: 0.2244 - categorical_accuracy: 0.9382 - val_loss: 1.0039 - val_categorical_accuracy: 0.6300\nEpoch 28/30\n21/21 [==============================] - 193s 10s/step - loss: 0.2276 - categorical_accuracy: 0.9201 - val_loss: 0.9977 - val_categorical_accuracy: 0.6800\n\nEpoch 00028: ReduceLROnPlateau reducing learning rate to 1e-05.\nEpoch 29/30\n21/21 [==============================] - 211s 11s/step - loss: 0.1961 - categorical_accuracy: 0.9412 - val_loss: 0.9648 - val_categorical_accuracy: 0.6900\nEpoch 30/30\n21/21 [==============================] - 195s 10s/step - loss: 0.2288 - categorical_accuracy: 0.9306 - val_loss: 1.3183 - val_categorical_accuracy: 0.6000\n",
          "output_type": "stream"
        }
      ]
    },
    {
      "cell_type": "markdown",
      "source": [
        "####  Analysing the above model fit hisory the best model checkpoint is : <br>\n",
        "\n",
        "Epoch 26/30\n",
        "21/21 [==============================] - 202s 10s/step - loss: 0.2392 - categorical_accuracy: 0.9095 - val_loss: 0.8297 - val_categorical_accuracy: 0.7400\n"
      ],
      "metadata": {
        "id": "Pur_SM5qAKc_"
      }
    },
    {
      "cell_type": "markdown",
      "source": [
        "#### this is somewhat decent but not as good as the previous Conv3D model"
      ],
      "metadata": {
        "id": "jcDRIsomAKc_"
      }
    },
    {
      "cell_type": "markdown",
      "source": [
        "### Plot graph"
      ],
      "metadata": {
        "id": "Xg-hPQL9AKc_"
      }
    },
    {
      "cell_type": "code",
      "source": [
        "# Lets plot the performance graph\n",
        "plot(history)"
      ],
      "metadata": {
        "execution": {
          "iopub.status.busy": "2021-10-15T10:47:52.169326Z",
          "iopub.execute_input": "2021-10-15T10:47:52.169594Z",
          "iopub.status.idle": "2021-10-15T10:47:52.548616Z",
          "shell.execute_reply.started": "2021-10-15T10:47:52.169557Z",
          "shell.execute_reply": "2021-10-15T10:47:52.547957Z"
        },
        "trusted": true,
        "id": "PzeUq04mAKc_",
        "outputId": "8a51ea75-d00d-4052-a121-3f5d5ac4cda4"
      },
      "execution_count": null,
      "outputs": [
        {
          "output_type": "display_data",
          "data": {
            "text/plain": "<Figure size 1080x288 with 2 Axes>",
            "image/png": "[encoded data removed]"
          },
          "metadata": {
            "needs_background": "light"
          }
        }
      ]
    },
    {
      "cell_type": "markdown",
      "source": [
        "#### Analyzing the graph both val loss and val categorical accuracy show a bit of overfitting"
      ],
      "metadata": {
        "id": "3o2EC9jnAKdA"
      }
    },
    {
      "cell_type": "markdown",
      "source": [
        "### Transfer Learning using DenseNet169\n",
        "\n",
        "Here we use the concept of Transfer learning and use a pretrained model and then use a GRU layer for final training.\n",
        "Among the models available in the Keras API (Keras Applications) such as VGG, ResNet, DenseNet, InceptionV3 and MobileNet.\n",
        "DenseNet-169 was chosen because despite having a depth of 169 layers it is relatively low in parameters compared to other models, and the architecture handles the vanish gradient problem well\n",
        "\n",
        "### Model 4"
      ],
      "metadata": {
        "id": "kFA343lUAKdA"
      }
    },
    {
      "cell_type": "code",
      "source": [
        "densenet = keras.applications.DenseNet169(include_top=False, input_shape=(img_size, img_size, 3), weights='imagenet')\n",
        "trainable = 5\n",
        "for layer in densenet.layers[:-trainable]:\n",
        "     layer.trainable = False\n",
        "for layer in densenet.layers[-trainable:]:\n",
        "    layer.trainable = True"
      ],
      "metadata": {
        "execution": {
          "iopub.status.busy": "2021-10-15T10:47:52.549810Z",
          "iopub.execute_input": "2021-10-15T10:47:52.550136Z",
          "iopub.status.idle": "2021-10-15T10:47:56.240714Z",
          "shell.execute_reply.started": "2021-10-15T10:47:52.550097Z",
          "shell.execute_reply": "2021-10-15T10:47:56.239894Z"
        },
        "trusted": true,
        "id": "Qi2ghdGdAKdA",
        "outputId": "de928ec4-62b6-4523-f62d-9451d3bbfbfc"
      },
      "execution_count": null,
      "outputs": [
        {
          "name": "stdout",
          "text": "Downloading data from https://storage.googleapis.com/tensorflow/keras-applications/densenet/densenet169_weights_tf_dim_ordering_tf_kernels_notop.h5\n51879936/51877672 [==============================] - 0s 0us/step\n51888128/51877672 [==============================] - 0s 0us/step\n",
          "output_type": "stream"
        }
      ]
    },
    {
      "cell_type": "code",
      "source": [
        "model = Sequential()\n",
        "\n",
        "# densenet layer\n",
        "model.add(TimeDistributed(densenet,input_shape=(20,img_size,img_size,3)))\n",
        "\n",
        "# Flatten\n",
        "model.add(TimeDistributed(Flatten()))\n",
        "\n",
        "# GRU Layer\n",
        "model.add(GRU(128))\n",
        "model.add(Dropout(0.25))\n",
        "\n",
        "# Dense layer\n",
        "model.add(Dense(128, activation='elu'))\n",
        "model.add(Dropout(.25))\n",
        "\n",
        "# final output layer with softmax\n",
        "model.add(Dense(num_classes,activation='softmax'))"
      ],
      "metadata": {
        "execution": {
          "iopub.status.busy": "2021-10-15T10:47:56.242154Z",
          "iopub.execute_input": "2021-10-15T10:47:56.242412Z",
          "iopub.status.idle": "2021-10-15T10:47:58.710436Z",
          "shell.execute_reply.started": "2021-10-15T10:47:56.242376Z",
          "shell.execute_reply": "2021-10-15T10:47:58.709746Z"
        },
        "trusted": true,
        "id": "fdklkVL7AKdA"
      },
      "execution_count": null,
      "outputs": []
    },
    {
      "cell_type": "code",
      "source": [
        "#optimiser = optimizers.SGD(lr=0.001, decay=1e-6, momentum=0.7, nesterov=True)\n",
        "optimiser = optimizers.Adam(lr=0.001)\n",
        "model.compile(optimizer=optimiser, loss='categorical_crossentropy', metrics=['categorical_accuracy'])\n",
        "print (model.summary())"
      ],
      "metadata": {
        "execution": {
          "iopub.status.busy": "2021-10-15T10:47:58.711541Z",
          "iopub.execute_input": "2021-10-15T10:47:58.713570Z",
          "iopub.status.idle": "2021-10-15T10:47:58.765102Z",
          "shell.execute_reply.started": "2021-10-15T10:47:58.713537Z",
          "shell.execute_reply": "2021-10-15T10:47:58.764299Z"
        },
        "trusted": true,
        "id": "DrJgiRzQAKdA",
        "outputId": "d968efab-2f35-499f-b1c7-1847e63615de"
      },
      "execution_count": null,
      "outputs": [
        {
          "name": "stdout",
          "text": "Model: \"sequential_5\"\n_________________________________________________________________\nLayer (type)                 Output Shape              Param #   \n=================================================================\ntime_distributed_11 (TimeDis (None, 20, 3, 3, 1664)    12642880  \n_________________________________________________________________\ntime_distributed_12 (TimeDis (None, 20, 14976)         0         \n_________________________________________________________________\ngru (GRU)                    (None, 128)               5800704   \n_________________________________________________________________\ndropout_16 (Dropout)         (None, 128)               0         \n_________________________________________________________________\ndense_11 (Dense)             (None, 128)               16512     \n_________________________________________________________________\ndropout_17 (Dropout)         (None, 128)               0         \n_________________________________________________________________\ndense_12 (Dense)             (None, 5)                 645       \n=================================================================\nTotal params: 18,460,741\nTrainable params: 5,858,053\nNon-trainable params: 12,602,688\n_________________________________________________________________\nNone\n",
          "output_type": "stream"
        }
      ]
    },
    {
      "cell_type": "code",
      "source": [
        "# Epocchs 30\n",
        "num_epochs = 30\n",
        "history = model.fit(train_generator, steps_per_epoch=steps_per_epoch, epochs=num_epochs, verbose=1, \n",
        "                    callbacks=callbacks_list, validation_data=val_generator, \n",
        "                    validation_steps=validation_steps, class_weight=None, workers=1, initial_epoch=0)"
      ],
      "metadata": {
        "execution": {
          "iopub.status.busy": "2021-10-15T10:47:58.767930Z",
          "iopub.execute_input": "2021-10-15T10:47:58.768265Z",
          "iopub.status.idle": "2021-10-15T12:30:41.390063Z",
          "shell.execute_reply.started": "2021-10-15T10:47:58.768222Z",
          "shell.execute_reply": "2021-10-15T12:30:41.389218Z"
        },
        "trusted": true,
        "id": "HI5gm9oNAKdB",
        "outputId": "958bb1fb-95f0-437b-8760-ef56c63deb4b"
      },
      "execution_count": null,
      "outputs": [
        {
          "name": "stdout",
          "text": "Epoch 1/30\n21/21 [==============================] - 215s 10s/step - loss: 1.7306 - categorical_accuracy: 0.3288 - val_loss: 1.3161 - val_categorical_accuracy: 0.5200\nEpoch 2/30\n21/21 [==============================] - 196s 10s/step - loss: 1.1724 - categorical_accuracy: 0.5204 - val_loss: 0.9711 - val_categorical_accuracy: 0.5600\nEpoch 3/30\n21/21 [==============================] - 202s 10s/step - loss: 0.9746 - categorical_accuracy: 0.6154 - val_loss: 0.9405 - val_categorical_accuracy: 0.5900\nEpoch 4/30\n21/21 [==============================] - 201s 10s/step - loss: 0.7524 - categorical_accuracy: 0.6983 - val_loss: 0.8756 - val_categorical_accuracy: 0.6700\nEpoch 5/30\n21/21 [==============================] - 207s 10s/step - loss: 0.5890 - categorical_accuracy: 0.7949 - val_loss: 0.7682 - val_categorical_accuracy: 0.7200\nEpoch 6/30\n21/21 [==============================] - 201s 10s/step - loss: 0.5487 - categorical_accuracy: 0.7979 - val_loss: 0.6624 - val_categorical_accuracy: 0.7500\nEpoch 7/30\n21/21 [==============================] - 204s 10s/step - loss: 0.4135 - categorical_accuracy: 0.8462 - val_loss: 0.7137 - val_categorical_accuracy: 0.7000\nEpoch 8/30\n21/21 [==============================] - 204s 10s/step - loss: 0.3342 - categorical_accuracy: 0.8733 - val_loss: 0.5511 - val_categorical_accuracy: 0.7800\nEpoch 9/30\n21/21 [==============================] - 205s 10s/step - loss: 0.3379 - categorical_accuracy: 0.8899 - val_loss: 0.6976 - val_categorical_accuracy: 0.7300\nEpoch 10/30\n21/21 [==============================] - 200s 10s/step - loss: 0.2501 - categorical_accuracy: 0.9216 - val_loss: 0.4959 - val_categorical_accuracy: 0.7800\nEpoch 11/30\n21/21 [==============================] - 201s 10s/step - loss: 0.2035 - categorical_accuracy: 0.9306 - val_loss: 0.4754 - val_categorical_accuracy: 0.8400\nEpoch 12/30\n21/21 [==============================] - 205s 10s/step - loss: 0.1570 - categorical_accuracy: 0.9487 - val_loss: 0.5524 - val_categorical_accuracy: 0.7900\nEpoch 13/30\n21/21 [==============================] - 208s 10s/step - loss: 0.1608 - categorical_accuracy: 0.9457 - val_loss: 0.6458 - val_categorical_accuracy: 0.7800\n\nEpoch 00013: ReduceLROnPlateau reducing learning rate to 0.0005000000237487257.\nEpoch 14/30\n21/21 [==============================] - 193s 10s/step - loss: 0.1287 - categorical_accuracy: 0.9653 - val_loss: 0.5286 - val_categorical_accuracy: 0.7600\nEpoch 15/30\n21/21 [==============================] - 209s 10s/step - loss: 0.1069 - categorical_accuracy: 0.9653 - val_loss: 0.4792 - val_categorical_accuracy: 0.8300\n\nEpoch 00015: ReduceLROnPlateau reducing learning rate to 0.0002500000118743628.\nEpoch 16/30\n21/21 [==============================] - 205s 10s/step - loss: 0.0791 - categorical_accuracy: 0.9789 - val_loss: 0.5077 - val_categorical_accuracy: 0.8100\nEpoch 17/30\n21/21 [==============================] - 204s 10s/step - loss: 0.0790 - categorical_accuracy: 0.9698 - val_loss: 0.5289 - val_categorical_accuracy: 0.7800\n\nEpoch 00017: ReduceLROnPlateau reducing learning rate to 0.0001250000059371814.\nEpoch 18/30\n21/21 [==============================] - 196s 10s/step - loss: 0.0695 - categorical_accuracy: 0.9789 - val_loss: 0.4973 - val_categorical_accuracy: 0.8300\nEpoch 19/30\n21/21 [==============================] - 201s 10s/step - loss: 0.0534 - categorical_accuracy: 0.9894 - val_loss: 0.5028 - val_categorical_accuracy: 0.8200\n\nEpoch 00019: ReduceLROnPlateau reducing learning rate to 6.25000029685907e-05.\nEpoch 20/30\n21/21 [==============================] - 217s 11s/step - loss: 0.0614 - categorical_accuracy: 0.9834 - val_loss: 0.5706 - val_categorical_accuracy: 0.7900\nEpoch 21/30\n21/21 [==============================] - 202s 10s/step - loss: 0.0438 - categorical_accuracy: 0.9925 - val_loss: 0.4006 - val_categorical_accuracy: 0.8200\nEpoch 22/30\n21/21 [==============================] - 201s 10s/step - loss: 0.0430 - categorical_accuracy: 0.9910 - val_loss: 0.4952 - val_categorical_accuracy: 0.8000\nEpoch 23/30\n21/21 [==============================] - 208s 10s/step - loss: 0.0477 - categorical_accuracy: 0.9940 - val_loss: 0.4811 - val_categorical_accuracy: 0.8100\n\nEpoch 00023: ReduceLROnPlateau reducing learning rate to 3.125000148429535e-05.\nEpoch 24/30\n21/21 [==============================] - 206s 10s/step - loss: 0.0399 - categorical_accuracy: 0.9955 - val_loss: 0.3262 - val_categorical_accuracy: 0.8800\nEpoch 25/30\n21/21 [==============================] - 203s 10s/step - loss: 0.0532 - categorical_accuracy: 0.9849 - val_loss: 0.5013 - val_categorical_accuracy: 0.8100\nEpoch 26/30\n21/21 [==============================] - 198s 10s/step - loss: 0.0554 - categorical_accuracy: 0.9925 - val_loss: 0.5044 - val_categorical_accuracy: 0.7900\n\nEpoch 00026: ReduceLROnPlateau reducing learning rate to 1.5625000742147677e-05.\nEpoch 27/30\n21/21 [==============================] - 204s 10s/step - loss: 0.0494 - categorical_accuracy: 0.9925 - val_loss: 0.4847 - val_categorical_accuracy: 0.8100\nEpoch 28/30\n21/21 [==============================] - 204s 10s/step - loss: 0.0480 - categorical_accuracy: 0.9910 - val_loss: 0.5015 - val_categorical_accuracy: 0.8000\n\nEpoch 00028: ReduceLROnPlateau reducing learning rate to 1e-05.\nEpoch 29/30\n21/21 [==============================] - 212s 11s/step - loss: 0.0384 - categorical_accuracy: 0.9925 - val_loss: 0.4961 - val_categorical_accuracy: 0.8000\nEpoch 30/30\n21/21 [==============================] - 194s 10s/step - loss: 0.0510 - categorical_accuracy: 0.9894 - val_loss: 0.4856 - val_categorical_accuracy: 0.8200\n",
          "output_type": "stream"
        }
      ]
    },
    {
      "cell_type": "markdown",
      "source": [
        "#### Looking at the model fit history above the best model checkpoint thus obtained is : <br>\n",
        "\n",
        "Epoch 00023: ReduceLROnPlateau reducing learning rate to 3.125000148429535e-05.\n",
        "Epoch 24/30\n",
        "21/21 [==============================] - 206s 10s/step - loss: 0.0399 - categorical_accuracy: 0.9955 - val_loss: 0.3262 - val_categorical_accuracy: 0.8800\n",
        "\n"
      ],
      "metadata": {
        "id": "dN2fMkEzAKdB"
      }
    },
    {
      "cell_type": "markdown",
      "source": [
        "### Plot graph"
      ],
      "metadata": {
        "id": "6xOuyukkAKdB"
      }
    },
    {
      "cell_type": "code",
      "source": [
        "# Lets plot the performance graph\n",
        "plot(history)"
      ],
      "metadata": {
        "execution": {
          "iopub.status.busy": "2021-10-15T12:30:41.392276Z",
          "iopub.execute_input": "2021-10-15T12:30:41.392580Z",
          "iopub.status.idle": "2021-10-15T12:30:41.798875Z",
          "shell.execute_reply.started": "2021-10-15T12:30:41.392543Z",
          "shell.execute_reply": "2021-10-15T12:30:41.798225Z"
        },
        "trusted": true,
        "id": "mJXocc3-AKdB",
        "outputId": "063e5b67-244c-46ed-d8eb-41a649566ce2"
      },
      "execution_count": null,
      "outputs": [
        {
          "output_type": "display_data",
          "data": {
            "text/plain": "<Figure size 1080x288 with 2 Axes>",
            "image/png": "[encoded data removed]"
          },
          "metadata": {
            "needs_background": "light"
          }
        }
      ]
    },
    {
      "cell_type": "markdown",
      "source": [
        "#### Analysing the graphs above both loss abd categorical accuracy is quite decent."
      ],
      "metadata": {
        "id": "A5ticxoiAKdC"
      }
    },
    {
      "cell_type": "markdown",
      "source": [
        "+ train loss : 0.39% <br>\n",
        "+ train categorical accuracy : 99% <br>\n",
        "+ val loss : 3.2% <br>\n",
        "+ val categorical accuracy: 88%"
      ],
      "metadata": {
        "id": "kkfc-BA6AKdC"
      }
    },
    {
      "cell_type": "code",
      "source": [],
      "metadata": {
        "id": "K5q5ZiD6AKdC"
      },
      "execution_count": null,
      "outputs": []
    }
  ]
}